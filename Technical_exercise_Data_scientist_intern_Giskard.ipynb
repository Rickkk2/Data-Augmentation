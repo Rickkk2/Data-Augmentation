{
  "nbformat": 4,
  "nbformat_minor": 0,
  "metadata": {
    "colab": {
      "provenance": [],
      "authorship_tag": "ABX9TyPjZnf6PsbUSYUarxwuK4Mo",
      "include_colab_link": true
    },
    "kernelspec": {
      "name": "python3",
      "display_name": "Python 3"
    },
    "language_info": {
      "name": "python"
    }
  },
  "cells": [
    {
      "cell_type": "markdown",
      "metadata": {
        "id": "view-in-github",
        "colab_type": "text"
      },
      "source": [
        "<a href=\"https://colab.research.google.com/github/Rickkk2/test/blob/main/Technical_exercise_Data_scientist_intern_Giskard.ipynb\" target=\"_parent\"><img src=\"https://colab.research.google.com/assets/colab-badge.svg\" alt=\"Open In Colab\"/></a>"
      ]
    },
    {
      "cell_type": "markdown",
      "source": [
        "# **Original model**"
      ],
      "metadata": {
        "id": "OBmM_uB6bLQ6"
      }
    },
    {
      "cell_type": "code",
      "source": [
        "# Install the Giskard library\n",
        "#!pip install giskard"
      ],
      "metadata": {
        "id": "3vMSEIpDvEl_"
      },
      "execution_count": 1,
      "outputs": []
    },
    {
      "cell_type": "code",
      "source": [
        "# Connect to the external ML worker in daemon mode\n",
        "#!giskard worker start -d\n"
      ],
      "metadata": {
        "id": "p8PuvuF6vV0U"
      },
      "execution_count": 2,
      "outputs": []
    },
    {
      "cell_type": "code",
      "source": [
        "# Required dependencies\n",
        "import pandas as pd\n",
        "\n",
        "import numpy as np\n",
        "import matplotlib.pyplot as plt\n",
        "\n",
        "from sklearn import model_selection\n",
        "from sklearn.preprocessing import StandardScaler\n",
        "from sklearn.preprocessing import OneHotEncoder\n",
        "from sklearn.linear_model import LogisticRegression\n",
        "from sklearn.ensemble import RandomForestClassifier\n",
        "from sklearn.pipeline import Pipeline\n",
        "from sklearn.impute import SimpleImputer\n",
        "from sklearn.compose import ColumnTransformer\n",
        "\n",
        "from ctgan import CTGAN\n",
        "from sdv.single_table import CTGANSynthesizer\n",
        "from sdv.single_table import GaussianCopulaSynthesizer\n",
        "from sdv.single_table import TVAESynthesizer\n",
        "from sdv.single_table import CopulaGANSynthesizer\n",
        "from sdv.metadata import SingleTableMetadata\n",
        "from sdv.evaluation.single_table import evaluate_quality\n",
        "from sdv.evaluation.single_table import run_diagnostic\n",
        "from sdv.evaluation.single_table import get_column_plot\n",
        "from sdv.sampling import Condition"
      ],
      "metadata": {
        "id": "_VHLwUalt0vn"
      },
      "execution_count": 43,
      "outputs": []
    },
    {
      "cell_type": "code",
      "execution_count": 4,
      "metadata": {
        "id": "Zz58KcLctxS4",
        "colab": {
          "base_uri": "https://localhost:8080/"
        },
        "outputId": "8af1001c-d23f-4636-9823-2519fe815932"
      },
      "outputs": [
        {
          "output_type": "stream",
          "name": "stdout",
          "text": [
            "<class 'pandas.core.frame.DataFrame'>\n",
            "RangeIndex: 1000 entries, 0 to 999\n",
            "Data columns (total 22 columns):\n",
            " #   Column                      Non-Null Count  Dtype \n",
            "---  ------                      --------------  ----- \n",
            " 0   default                     1000 non-null   int64 \n",
            " 1   account_check_status        1000 non-null   object\n",
            " 2   duration_in_month           1000 non-null   int64 \n",
            " 3   credit_history              1000 non-null   object\n",
            " 4   purpose                     1000 non-null   object\n",
            " 5   credit_amount               1000 non-null   int64 \n",
            " 6   savings                     1000 non-null   object\n",
            " 7   present_emp_since           1000 non-null   object\n",
            " 8   installment_as_income_perc  1000 non-null   int64 \n",
            " 9   sex                         1000 non-null   object\n",
            " 10  personal_status             1000 non-null   object\n",
            " 11  other_debtors               1000 non-null   object\n",
            " 12  present_res_since           1000 non-null   int64 \n",
            " 13  property                    1000 non-null   object\n",
            " 14  age                         1000 non-null   int64 \n",
            " 15  other_installment_plans     1000 non-null   object\n",
            " 16  housing                     1000 non-null   object\n",
            " 17  credits_this_bank           1000 non-null   int64 \n",
            " 18  job                         1000 non-null   object\n",
            " 19  people_under_maintenance    1000 non-null   int64 \n",
            " 20  telephone                   1000 non-null   object\n",
            " 21  foreign_worker              1000 non-null   object\n",
            "dtypes: int64(8), object(14)\n",
            "memory usage: 172.0+ KB\n"
          ]
        }
      ],
      "source": [
        "# Read dataset and open as dataframe\n",
        "url = 'https://raw.githubusercontent.com/Giskard-AI/giskard-client/main/sample_data/classification/credit/german_credit_prepared.csv'\n",
        "credit = pd.read_csv(url, sep=',',engine=\"python\")\n",
        "credit.info()"
      ]
    },
    {
      "cell_type": "code",
      "source": [
        "# See the domain and distribution of each column\n",
        "for column in credit:\n",
        "  print(\"------------------------------\\n\", credit[column].value_counts(), sep ='')"
      ],
      "metadata": {
        "colab": {
          "base_uri": "https://localhost:8080/"
        },
        "id": "u6A_5_Z6Ji4f",
        "outputId": "fca890b3-506a-4efe-e1b2-981af1f5b033"
      },
      "execution_count": 5,
      "outputs": [
        {
          "output_type": "stream",
          "name": "stdout",
          "text": [
            "------------------------------\n",
            "0    700\n",
            "1    300\n",
            "Name: default, dtype: int64\n",
            "------------------------------\n",
            "no checking account                                   394\n",
            "< 0 DM                                                274\n",
            "0 <= ... < 200 DM                                     269\n",
            ">= 200 DM / salary assignments for at least 1 year     63\n",
            "Name: account_check_status, dtype: int64\n",
            "------------------------------\n",
            "24    184\n",
            "12    179\n",
            "18    113\n",
            "36     83\n",
            "6      75\n",
            "15     64\n",
            "9      49\n",
            "48     48\n",
            "30     40\n",
            "21     30\n",
            "10     28\n",
            "60     13\n",
            "27     13\n",
            "42     11\n",
            "11      9\n",
            "20      8\n",
            "8       7\n",
            "4       6\n",
            "45      5\n",
            "7       5\n",
            "39      5\n",
            "14      4\n",
            "13      4\n",
            "33      3\n",
            "28      3\n",
            "54      2\n",
            "16      2\n",
            "22      2\n",
            "47      1\n",
            "5       1\n",
            "26      1\n",
            "72      1\n",
            "40      1\n",
            "Name: duration_in_month, dtype: int64\n",
            "------------------------------\n",
            "existing credits paid back duly till now                       530\n",
            "critical account/ other credits existing (not at this bank)    293\n",
            "delay in paying off in the past                                 88\n",
            "all credits at this bank paid back duly                         49\n",
            "no credits taken/ all credits paid back duly                    40\n",
            "Name: credit_history, dtype: int64\n",
            "------------------------------\n",
            "domestic appliances             280\n",
            "car (new)                       234\n",
            "radio/television                181\n",
            "car (used)                      103\n",
            "business                         97\n",
            "(vacation - does not exist?)     50\n",
            "education                        22\n",
            "repairs                          12\n",
            "furniture/equipment              12\n",
            "retraining                        9\n",
            "Name: purpose, dtype: int64\n",
            "------------------------------\n",
            "1478    3\n",
            "1262    3\n",
            "1258    3\n",
            "1275    3\n",
            "1393    3\n",
            "       ..\n",
            "1459    1\n",
            "882     1\n",
            "3758    1\n",
            "1136    1\n",
            "4576    1\n",
            "Name: credit_amount, Length: 921, dtype: int64\n",
            "------------------------------\n",
            "... < 100 DM                   603\n",
            "unknown/ no savings account    183\n",
            "100 <= ... < 500 DM            103\n",
            "500 <= ... < 1000 DM            63\n",
            ".. >= 1000 DM                   48\n",
            "Name: savings, dtype: int64\n",
            "------------------------------\n",
            "1 <= ... < 4 years    339\n",
            ".. >= 7 years         253\n",
            "4 <= ... < 7 years    174\n",
            "... < 1 year          172\n",
            "unemployed             62\n",
            "Name: present_emp_since, dtype: int64\n",
            "------------------------------\n",
            "4    476\n",
            "2    231\n",
            "3    157\n",
            "1    136\n",
            "Name: installment_as_income_perc, dtype: int64\n",
            "------------------------------\n",
            "male      690\n",
            "female    310\n",
            "Name: sex, dtype: int64\n",
            "------------------------------\n",
            "single      548\n",
            "divorced    360\n",
            "married      92\n",
            "Name: personal_status, dtype: int64\n",
            "------------------------------\n",
            "none            907\n",
            "guarantor        52\n",
            "co-applicant     41\n",
            "Name: other_debtors, dtype: int64\n",
            "------------------------------\n",
            "4    413\n",
            "2    308\n",
            "3    149\n",
            "1    130\n",
            "Name: present_res_since, dtype: int64\n",
            "------------------------------\n",
            "if not A121/A122 : car or other, not in attribute 6                 332\n",
            "real estate                                                         282\n",
            "if not A121 : building society savings agreement/ life insurance    232\n",
            "unknown / no property                                               154\n",
            "Name: property, dtype: int64\n",
            "------------------------------\n",
            "27    51\n",
            "26    50\n",
            "23    48\n",
            "24    44\n",
            "28    43\n",
            "25    41\n",
            "30    40\n",
            "35    40\n",
            "36    39\n",
            "31    38\n",
            "29    37\n",
            "32    34\n",
            "33    33\n",
            "34    32\n",
            "37    29\n",
            "22    27\n",
            "40    25\n",
            "38    24\n",
            "42    22\n",
            "39    21\n",
            "46    18\n",
            "43    17\n",
            "47    17\n",
            "44    17\n",
            "41    17\n",
            "45    15\n",
            "20    14\n",
            "21    14\n",
            "49    14\n",
            "50    12\n",
            "48    12\n",
            "54    10\n",
            "57     9\n",
            "52     9\n",
            "51     8\n",
            "55     8\n",
            "63     8\n",
            "61     7\n",
            "53     7\n",
            "60     6\n",
            "65     5\n",
            "58     5\n",
            "64     5\n",
            "66     5\n",
            "74     4\n",
            "67     3\n",
            "68     3\n",
            "56     3\n",
            "59     3\n",
            "75     2\n",
            "19     2\n",
            "62     2\n",
            "70     1\n",
            "Name: age, dtype: int64\n",
            "------------------------------\n",
            "none      814\n",
            "bank      139\n",
            "stores     47\n",
            "Name: other_installment_plans, dtype: int64\n",
            "------------------------------\n",
            "own         713\n",
            "rent        179\n",
            "for free    108\n",
            "Name: housing, dtype: int64\n",
            "------------------------------\n",
            "1    633\n",
            "2    333\n",
            "3     28\n",
            "4      6\n",
            "Name: credits_this_bank, dtype: int64\n",
            "------------------------------\n",
            "skilled employee / official                                      630\n",
            "unskilled - resident                                             200\n",
            "management/ self-employed/ highly qualified employee/ officer    148\n",
            "unemployed/ unskilled - non-resident                              22\n",
            "Name: job, dtype: int64\n",
            "------------------------------\n",
            "1    845\n",
            "2    155\n",
            "Name: people_under_maintenance, dtype: int64\n",
            "------------------------------\n",
            "none                                        596\n",
            "yes, registered under the customers name    404\n",
            "Name: telephone, dtype: int64\n",
            "------------------------------\n",
            "yes    963\n",
            "no      37\n",
            "Name: foreign_worker, dtype: int64\n"
          ]
        }
      ]
    },
    {
      "cell_type": "code",
      "source": [
        "# Declare the type of each column in the dataset(example: category, numeric, text)\n",
        "column_types = {'default':\"category\",\n",
        "               'account_check_status':\"category\", \n",
        "               'duration_in_month':\"numeric\",\n",
        "               'credit_history':\"category\",\n",
        "               'purpose':\"category\",\n",
        "               'credit_amount':\"numeric\",\n",
        "               'savings':\"category\",\n",
        "               'present_emp_since':\"category\",\n",
        "               'installment_as_income_perc':\"numeric\",\n",
        "               'sex':\"category\",\n",
        "               'personal_status':\"category\",\n",
        "               'other_debtors':\"category\",\n",
        "               'present_res_since':\"numeric\",\n",
        "               'property':\"category\",\n",
        "               'age':\"numeric\",\n",
        "               'other_installment_plans':\"category\",\n",
        "               'housing':\"category\",\n",
        "               'credits_this_bank':\"numeric\",\n",
        "               'job':\"category\",\n",
        "               'people_under_maintenance':\"numeric\",\n",
        "               'telephone':\"category\",\n",
        "               'foreign_worker':\"category\"}"
      ],
      "metadata": {
        "id": "XYi4mPuXwKnY"
      },
      "execution_count": 6,
      "outputs": []
    },
    {
      "cell_type": "code",
      "source": [
        "# feature_types is used to declare the features the model is trained on\n",
        "feature_types = {i:column_types[i] for i in column_types if i!='default'}\n",
        "\n",
        "# Pipeline to fill missing values, transform and scale the numeric columns\n",
        "columns_to_scale = [key for key in feature_types.keys() if feature_types[key]==\"numeric\"]\n",
        "numeric_transformer = Pipeline([('imputer', SimpleImputer(strategy='median')),\n",
        "    ('scaler', StandardScaler())])\n",
        "\n",
        "# Pipeline to fill missing values and one hot encode the categorical values\n",
        "columns_to_encode = [key for key in feature_types.keys() if feature_types[key]==\"category\"]\n",
        "categorical_transformer = Pipeline([\n",
        "        ('imputer', SimpleImputer(strategy='constant', fill_value='missing')),\n",
        "        ('onehot', OneHotEncoder(handle_unknown='ignore',sparse_output=False)) ])\n",
        "\n",
        "# Perform preprocessing of the columns with the above pipelines\n",
        "preprocessor = ColumnTransformer(\n",
        "    transformers=[\n",
        "        ('num', numeric_transformer, columns_to_scale),\n",
        "      ('cat', categorical_transformer, columns_to_encode)\n",
        "          ]\n",
        ")\n",
        "\n",
        "# Pipeline for the model Logistic Regression\n",
        "clf_logistic_regression = Pipeline(steps=[('preprocessor', preprocessor),\n",
        "                      ('classifier', LogisticRegression(max_iter =1000))])\n",
        "\n",
        "# Split the data into train and test\n",
        "Y = credit['default']\n",
        "X = credit.drop(columns=\"default\")\n",
        "X_train, X_test, Y_train, Y_test = model_selection.train_test_split(X, Y, test_size=0.20,random_state = 30, stratify = Y)"
      ],
      "metadata": {
        "id": "0hLF1PcX1-DP"
      },
      "execution_count": 7,
      "outputs": []
    },
    {
      "cell_type": "code",
      "source": [
        "# Train the Logistic Regression model and get the mean accuracy on the given test data and labels\n",
        "clf_logistic_regression.fit(X_train, Y_train)\n",
        "clf_logistic_regression.score(X_test, Y_test)"
      ],
      "metadata": {
        "colab": {
          "base_uri": "https://localhost:8080/"
        },
        "id": "0V9eLxEu2CZq",
        "outputId": "ce9ba05d-624a-45da-e0e3-438ba01f1721"
      },
      "execution_count": 8,
      "outputs": [
        {
          "output_type": "execute_result",
          "data": {
            "text/plain": [
              "0.785"
            ]
          },
          "metadata": {},
          "execution_count": 8
        }
      ]
    },
    {
      "cell_type": "markdown",
      "source": [
        "0.785 is a good result for accuracy. However, let's try to improve it by applying data augmentation techniques on the training set."
      ],
      "metadata": {
        "id": "dJtrpaDSfBnt"
      }
    },
    {
      "cell_type": "code",
      "source": [
        "# Our real dataset\n",
        "train_data = pd.concat([Y_train, X_train], axis=1, join='inner')"
      ],
      "metadata": {
        "id": "nOnBxSqOtoMd"
      },
      "execution_count": 9,
      "outputs": []
    },
    {
      "cell_type": "markdown",
      "source": [
        "# **Data Augmentation**"
      ],
      "metadata": {
        "id": "VWEq0W6aN7S2"
      }
    },
    {
      "cell_type": "code",
      "source": [
        "# We will use the Synthetic Data Vault (SDV) library to create tabular synthetic data\n",
        "!pip install sdv"
      ],
      "metadata": {
        "id": "2IQjlutNU3qg"
      },
      "execution_count": null,
      "outputs": []
    },
    {
      "cell_type": "markdown",
      "source": [
        "## GaussianCopulaSynthesizer"
      ],
      "metadata": {
        "id": "k8bRlATEgUsY"
      }
    },
    {
      "cell_type": "code",
      "source": [
        "metadata = SingleTableMetadata()\n",
        "metadata.detect_from_dataframe(data=train_data)"
      ],
      "metadata": {
        "id": "fCPN85lFgmiF"
      },
      "execution_count": 11,
      "outputs": []
    },
    {
      "cell_type": "code",
      "source": [
        "synthesizer1 = GaussianCopulaSynthesizer(metadata)\n",
        "synthesizer1.fit(train_data)"
      ],
      "metadata": {
        "id": "C8vmGc8pgvvI"
      },
      "execution_count": 12,
      "outputs": []
    },
    {
      "cell_type": "code",
      "source": [
        "synthesizer1.reset_sampling()\n",
        "synthetic_data1 = synthesizer1.sample(num_rows=250)\n",
        "for column in synthetic_data1:\n",
        "  print(\"------------------------------\\n\", synthetic_data1[column].value_counts(), sep ='')"
      ],
      "metadata": {
        "colab": {
          "base_uri": "https://localhost:8080/"
        },
        "id": "41onn3GVg9X6",
        "outputId": "9913da87-5066-4177-9e74-6cf660863738"
      },
      "execution_count": 13,
      "outputs": [
        {
          "output_type": "stream",
          "name": "stdout",
          "text": [
            "------------------------------\n",
            "0    165\n",
            "1     85\n",
            "Name: default, dtype: int64\n",
            "------------------------------\n",
            "0 <= ... < 200 DM                                     84\n",
            "< 0 DM                                                71\n",
            "no checking account                                   70\n",
            ">= 200 DM / salary assignments for at least 1 year    25\n",
            "Name: account_check_status, dtype: int64\n",
            "------------------------------\n",
            "7     13\n",
            "17    13\n",
            "11    11\n",
            "26    11\n",
            "23    11\n",
            "16    10\n",
            "8     10\n",
            "24     9\n",
            "18     9\n",
            "10     9\n",
            "25     8\n",
            "15     8\n",
            "6      7\n",
            "31     7\n",
            "9      6\n",
            "36     6\n",
            "20     6\n",
            "30     5\n",
            "37     5\n",
            "33     5\n",
            "21     5\n",
            "19     5\n",
            "27     5\n",
            "13     4\n",
            "29     4\n",
            "38     4\n",
            "14     4\n",
            "12     4\n",
            "35     4\n",
            "42     4\n",
            "32     4\n",
            "22     4\n",
            "40     3\n",
            "5      3\n",
            "39     3\n",
            "41     3\n",
            "28     3\n",
            "49     2\n",
            "60     2\n",
            "56     2\n",
            "48     2\n",
            "44     2\n",
            "46     2\n",
            "45     1\n",
            "34     1\n",
            "58     1\n",
            "Name: duration_in_month, dtype: int64\n",
            "------------------------------\n",
            "existing credits paid back duly till now                       98\n",
            "critical account/ other credits existing (not at this bank)    93\n",
            "delay in paying off in the past                                24\n",
            "no credits taken/ all credits paid back duly                   23\n",
            "all credits at this bank paid back duly                        12\n",
            "Name: credit_history, dtype: int64\n",
            "------------------------------\n",
            "car (new)                       74\n",
            "domestic appliances             57\n",
            "radio/television                43\n",
            "business                        31\n",
            "car (used)                      22\n",
            "education                       10\n",
            "repairs                          7\n",
            "retraining                       3\n",
            "furniture/equipment              2\n",
            "(vacation - does not exist?)     1\n",
            "Name: purpose, dtype: int64\n",
            "------------------------------\n",
            "2640    2\n",
            "2610    2\n",
            "758     2\n",
            "2809    2\n",
            "1283    2\n",
            "       ..\n",
            "1116    1\n",
            "3652    1\n",
            "2490    1\n",
            "2969    1\n",
            "820     1\n",
            "Name: credit_amount, Length: 245, dtype: int64\n",
            "------------------------------\n",
            "500 <= ... < 1000 DM           75\n",
            "unknown/ no savings account    67\n",
            ".. >= 1000 DM                  40\n",
            "... < 100 DM                   39\n",
            "100 <= ... < 500 DM            29\n",
            "Name: savings, dtype: int64\n",
            "------------------------------\n",
            "... < 1 year          64\n",
            "4 <= ... < 7 years    51\n",
            "1 <= ... < 4 years    51\n",
            ".. >= 7 years         50\n",
            "unemployed            34\n",
            "Name: present_emp_since, dtype: int64\n",
            "------------------------------\n",
            "4    106\n",
            "3     52\n",
            "2     50\n",
            "1     42\n",
            "Name: installment_as_income_perc, dtype: int64\n",
            "------------------------------\n",
            "male      168\n",
            "female     82\n",
            "Name: sex, dtype: int64\n",
            "------------------------------\n",
            "single      112\n",
            "divorced     97\n",
            "married      41\n",
            "Name: personal_status, dtype: int64\n",
            "------------------------------\n",
            "none            197\n",
            "guarantor        50\n",
            "co-applicant      3\n",
            "Name: other_debtors, dtype: int64\n",
            "------------------------------\n",
            "4    87\n",
            "3    63\n",
            "2    53\n",
            "1    47\n",
            "Name: present_res_since, dtype: int64\n",
            "------------------------------\n",
            "if not A121/A122 : car or other, not in attribute 6                 81\n",
            "real estate                                                         67\n",
            "if not A121 : building society savings agreement/ life insurance    57\n",
            "unknown / no property                                               45\n",
            "Name: property, dtype: int64\n",
            "------------------------------\n",
            "26    16\n",
            "25    15\n",
            "32    14\n",
            "24    11\n",
            "31    11\n",
            "28    10\n",
            "38     9\n",
            "30     9\n",
            "43     8\n",
            "45     8\n",
            "33     8\n",
            "37     7\n",
            "39     7\n",
            "29     7\n",
            "48     7\n",
            "20     6\n",
            "35     6\n",
            "21     6\n",
            "51     6\n",
            "23     6\n",
            "44     6\n",
            "22     5\n",
            "40     5\n",
            "42     5\n",
            "47     4\n",
            "53     4\n",
            "54     4\n",
            "27     4\n",
            "34     4\n",
            "60     3\n",
            "36     3\n",
            "65     3\n",
            "41     3\n",
            "50     3\n",
            "46     3\n",
            "56     2\n",
            "62     2\n",
            "75     2\n",
            "58     2\n",
            "59     2\n",
            "55     1\n",
            "74     1\n",
            "64     1\n",
            "52     1\n",
            "Name: age, dtype: int64\n",
            "------------------------------\n",
            "none      171\n",
            "stores     63\n",
            "bank       16\n",
            "Name: other_installment_plans, dtype: int64\n",
            "------------------------------\n",
            "own         152\n",
            "for free     56\n",
            "rent         42\n",
            "Name: housing, dtype: int64\n",
            "------------------------------\n",
            "2    199\n",
            "3     49\n",
            "4      2\n",
            "Name: credits_this_bank, dtype: int64\n",
            "------------------------------\n",
            "skilled employee / official                                      133\n",
            "unskilled - resident                                              67\n",
            "management/ self-employed/ highly qualified employee/ officer     40\n",
            "unemployed/ unskilled - non-resident                              10\n",
            "Name: job, dtype: int64\n",
            "------------------------------\n",
            "2    249\n",
            "1      1\n",
            "Name: people_under_maintenance, dtype: int64\n",
            "------------------------------\n",
            "none                                        137\n",
            "yes, registered under the customers name    113\n",
            "Name: telephone, dtype: int64\n",
            "------------------------------\n",
            "yes    214\n",
            "no      36\n",
            "Name: foreign_worker, dtype: int64\n"
          ]
        }
      ]
    },
    {
      "cell_type": "code",
      "source": [
        "Y_train_aug1 = synthetic_data1['default']\n",
        "X_train_aug1 = synthetic_data1.drop(columns=\"default\")\n",
        "\n",
        "clf_logistic_regression.fit(pd.concat([X_train, X_train_aug1]), pd.concat([Y_train, Y_train_aug1]))\n",
        "clf_logistic_regression.score(X_test, Y_test)"
      ],
      "metadata": {
        "colab": {
          "base_uri": "https://localhost:8080/"
        },
        "id": "IzBPgAXdhHUx",
        "outputId": "8e9f8088-8bf8-4336-82bf-fdebf9bb2503"
      },
      "execution_count": 14,
      "outputs": [
        {
          "output_type": "execute_result",
          "data": {
            "text/plain": [
              "0.76"
            ]
          },
          "metadata": {},
          "execution_count": 14
        }
      ]
    },
    {
      "cell_type": "markdown",
      "source": [
        "0.76 is still a good result for accuracy, but worse than that obtained without data augmentation\n",
        "\n"
      ],
      "metadata": {
        "id": "g5OOaaLQh7bl"
      }
    },
    {
      "cell_type": "code",
      "source": [
        "quality_report1 = evaluate_quality(\n",
        "    real_data=train_data,\n",
        "    synthetic_data=synthetic_data1,\n",
        "    metadata=metadata)"
      ],
      "metadata": {
        "colab": {
          "base_uri": "https://localhost:8080/"
        },
        "id": "Ya95dkteiReF",
        "outputId": "c70815e9-7c82-4bd8-8b21-08a514f4b341"
      },
      "execution_count": 15,
      "outputs": [
        {
          "output_type": "stream",
          "name": "stderr",
          "text": [
            "Creating report: 100%|██████████| 4/4 [00:02<00:00,  1.54it/s]\n"
          ]
        },
        {
          "output_type": "stream",
          "name": "stdout",
          "text": [
            "\n",
            "Overall Quality Score: 78.55%\n",
            "\n",
            "Properties:\n",
            "Column Shapes: 82.82%\n",
            "Column Pair Trends: 74.28%\n"
          ]
        }
      ]
    },
    {
      "cell_type": "code",
      "source": [
        "diagnostic_report1 = run_diagnostic(\n",
        "    real_data=train_data,\n",
        "    synthetic_data=synthetic_data1,\n",
        "    metadata=metadata)"
      ],
      "metadata": {
        "colab": {
          "base_uri": "https://localhost:8080/"
        },
        "id": "uFMBOQgoieCl",
        "outputId": "68d816f6-a4ab-458e-bd6d-b57036a7c541"
      },
      "execution_count": 16,
      "outputs": [
        {
          "output_type": "stream",
          "name": "stderr",
          "text": [
            "Creating report: 100%|██████████| 4/4 [00:15<00:00,  3.79s/it]"
          ]
        },
        {
          "output_type": "stream",
          "name": "stdout",
          "text": [
            "\n",
            "DiagnosticResults:\n",
            "\n",
            "SUCCESS:\n",
            "✓ The synthetic data covers over 90% of the numerical ranges present in the real data\n",
            "✓ The synthetic data covers over 90% of the categories present in the real data\n",
            "✓ Over 90% of the synthetic rows are not copies of the real data\n",
            "✓ The synthetic data follows over 90% of the min/max boundaries set by the real data\n"
          ]
        },
        {
          "output_type": "stream",
          "name": "stderr",
          "text": [
            "\n"
          ]
        }
      ]
    },
    {
      "cell_type": "code",
      "source": [
        "fig1 = get_column_plot(\n",
        "    real_data=train_data,\n",
        "    synthetic_data=synthetic_data1,\n",
        "    column_name='credit_history',\n",
        "    metadata=metadata\n",
        ")\n",
        "    \n",
        "fig1.show()"
      ],
      "metadata": {
        "colab": {
          "base_uri": "https://localhost:8080/",
          "height": 542
        },
        "id": "d89LqHDbisq3",
        "outputId": "4bdb3776-b41a-4979-9ac4-5271a34002d7"
      },
      "execution_count": 17,
      "outputs": [
        {
          "output_type": "display_data",
          "data": {
            "text/html": [
              "<html>\n",
              "<head><meta charset=\"utf-8\" /></head>\n",
              "<body>\n",
              "    <div>            <script src=\"https://cdnjs.cloudflare.com/ajax/libs/mathjax/2.7.5/MathJax.js?config=TeX-AMS-MML_SVG\"></script><script type=\"text/javascript\">if (window.MathJax && window.MathJax.Hub && window.MathJax.Hub.Config) {window.MathJax.Hub.Config({SVG: {font: \"STIX-Web\"}});}</script>                <script type=\"text/javascript\">window.PlotlyConfig = {MathJaxConfig: 'local'};</script>\n",
              "        <script src=\"https://cdn.plot.ly/plotly-2.18.2.min.js\"></script>                <div id=\"5ef7901e-1032-48e5-a983-3f3c8b439ad1\" class=\"plotly-graph-div\" style=\"height:525px; width:100%;\"></div>            <script type=\"text/javascript\">                                    window.PLOTLYENV=window.PLOTLYENV || {};                                    if (document.getElementById(\"5ef7901e-1032-48e5-a983-3f3c8b439ad1\")) {                    Plotly.newPlot(                        \"5ef7901e-1032-48e5-a983-3f3c8b439ad1\",                        [{\"alignmentgroup\":\"True\",\"bingroup\":\"x\",\"histnorm\":\"probability density\",\"hovertemplate\":\"<b>Real</b><br>Frequency: %{y}<extra></extra>\",\"legendgroup\":\"Real\",\"marker\":{\"color\":\"#000036\",\"pattern\":{\"shape\":\"\"}},\"name\":\"Real\",\"offsetgroup\":\"Real\",\"orientation\":\"v\",\"showlegend\":true,\"x\":[\"no credits taken/ all credits paid back duly\",\"existing credits paid back duly till now\",\"existing credits paid back duly till now\",\"critical account/ other credits existing (not at this bank)\",\"existing credits paid back duly till now\",\"existing credits paid back duly till now\",\"existing credits paid back duly till now\",\"existing credits paid back duly till now\",\"delay in paying off in the past\",\"critical account/ other credits existing (not at this bank)\",\"existing credits paid back duly till now\",\"critical account/ other credits existing (not at this bank)\",\"existing credits paid back duly till now\",\"no credits taken/ all credits paid back duly\",\"no credits taken/ all credits paid back duly\",\"critical account/ other credits existing (not at this bank)\",\"no credits taken/ all credits paid back duly\",\"all credits at this bank paid back duly\",\"existing credits paid back duly till now\",\"critical account/ other credits existing (not at this bank)\",\"delay in paying off in the past\",\"existing credits paid back duly till now\",\"existing credits paid back duly till now\",\"existing credits paid back duly till now\",\"existing credits paid back duly till now\",\"critical account/ other credits existing (not at this bank)\",\"critical account/ other credits existing (not at this bank)\",\"existing credits paid back duly till now\",\"existing credits paid back duly till now\",\"existing credits paid back duly till now\",\"existing credits paid back duly till now\",\"critical account/ other credits existing (not at this bank)\",\"critical account/ other credits existing (not at this bank)\",\"existing credits paid back duly till now\",\"critical account/ other credits existing (not at this bank)\",\"existing credits paid back duly till now\",\"delay in paying off in the past\",\"existing credits paid back duly till now\",\"critical account/ other credits existing (not at this bank)\",\"existing credits paid back duly till now\",\"critical account/ other credits existing (not at this bank)\",\"existing credits paid back duly till now\",\"existing credits paid back duly till now\",\"existing credits paid back duly till now\",\"critical account/ other credits existing (not at this bank)\",\"existing credits paid back duly till now\",\"existing credits paid back duly till now\",\"existing credits paid back duly till now\",\"existing credits paid back duly till now\",\"existing credits paid back duly till now\",\"critical account/ other credits existing (not at this bank)\",\"critical account/ other credits existing (not at this bank)\",\"existing credits paid back duly till now\",\"delay in paying off in the past\",\"existing credits paid back duly till now\",\"existing credits paid back duly till now\",\"critical account/ other credits existing (not at this bank)\",\"existing credits paid back duly till now\",\"existing credits paid back duly till now\",\"critical account/ other credits existing (not at this bank)\",\"all credits at this bank paid back duly\",\"existing credits paid back duly till now\",\"critical account/ other credits existing (not at this bank)\",\"critical account/ other credits existing (not at this bank)\",\"no credits taken/ all credits paid back duly\",\"existing credits paid back duly till now\",\"existing credits paid back duly till now\",\"existing credits paid back duly till now\",\"delay in paying off in the past\",\"delay in paying off in the past\",\"existing credits paid back duly till now\",\"existing credits paid back duly till now\",\"existing credits paid back duly till now\",\"existing credits paid back duly till now\",\"critical account/ other credits existing (not at this bank)\",\"critical account/ other credits existing (not at this bank)\",\"existing credits paid back duly till now\",\"existing credits paid back duly till now\",\"existing credits paid back duly till now\",\"all credits at this bank paid back duly\",\"delay in paying off in the past\",\"existing credits paid back duly till now\",\"existing credits paid back duly till now\",\"existing credits paid back duly till now\",\"delay in paying off in the past\",\"no credits taken/ all credits paid back duly\",\"existing credits paid back duly till now\",\"existing credits paid back duly till now\",\"existing credits paid back duly till now\",\"existing credits paid back duly till now\",\"existing credits paid back duly till now\",\"critical account/ other credits existing (not at this bank)\",\"critical account/ other credits existing (not at this bank)\",\"existing credits paid back duly till now\",\"critical account/ other credits existing (not at this bank)\",\"critical account/ other credits existing (not at this bank)\",\"existing credits paid back duly till now\",\"existing credits paid back duly till now\",\"existing credits paid back duly till now\",\"existing credits paid back duly till now\",\"existing credits paid back duly till now\",\"existing credits paid back duly till now\",\"existing credits paid back duly till now\",\"existing credits paid back duly till now\",\"existing credits paid back duly till now\",\"existing credits paid back duly till now\",\"existing credits paid back duly till now\",\"no credits taken/ all credits paid back duly\",\"critical account/ other credits existing (not at this bank)\",\"delay in paying off in the past\",\"critical account/ other credits existing (not at this bank)\",\"existing credits paid back duly till now\",\"existing credits paid back duly till now\",\"existing credits paid back duly till now\",\"existing credits paid back duly till now\",\"critical account/ other credits existing (not at this bank)\",\"existing credits paid back duly till now\",\"critical account/ other credits existing (not at this bank)\",\"critical account/ other credits existing (not at this bank)\",\"existing credits paid back duly till now\",\"all credits at this bank paid back duly\",\"critical account/ other credits existing (not at this bank)\",\"critical account/ other credits existing (not at this bank)\",\"existing credits paid back duly till now\",\"existing credits paid back duly till now\",\"critical account/ other credits existing (not at this bank)\",\"existing credits paid back duly till now\",\"existing credits paid back duly till now\",\"existing credits paid back duly till now\",\"existing credits paid back duly till now\",\"delay in paying off in the past\",\"existing credits paid back duly till now\",\"no credits taken/ all credits paid back duly\",\"existing credits paid back duly till now\",\"existing credits paid back duly till now\",\"no credits taken/ all credits paid back duly\",\"existing credits paid back duly till now\",\"no credits taken/ all credits paid back duly\",\"delay in paying off in the past\",\"critical account/ other credits existing (not at this bank)\",\"existing credits paid back duly till now\",\"existing credits paid back duly till now\",\"critical account/ other credits existing (not at this bank)\",\"existing credits paid back duly till now\",\"existing credits paid back duly till now\",\"existing credits paid back duly till now\",\"existing credits paid back duly till now\",\"existing credits paid back duly till now\",\"existing credits paid back duly till now\",\"existing credits paid back duly till now\",\"critical account/ other credits existing (not at this bank)\",\"critical account/ other credits existing (not at this bank)\",\"existing credits paid back duly till now\",\"existing credits paid back duly till now\",\"existing credits paid back duly till now\",\"all credits at this bank paid back duly\",\"all credits at this bank paid back duly\",\"existing credits paid back duly till now\",\"all credits at this bank paid back duly\",\"critical account/ other credits existing (not at this bank)\",\"delay in paying off in the past\",\"existing credits paid back duly till now\",\"delay in paying off in the past\",\"delay in paying off in the past\",\"existing credits paid back duly till now\",\"critical account/ other credits existing (not at this bank)\",\"delay in paying off in the past\",\"critical account/ other credits existing (not at this bank)\",\"critical account/ other credits existing (not at this bank)\",\"critical account/ other credits existing (not at this bank)\",\"existing credits paid back duly till now\",\"existing credits paid back duly till now\",\"existing credits paid back duly till now\",\"existing credits paid back duly till now\",\"critical account/ other credits existing (not at this bank)\",\"existing credits paid back duly till now\",\"critical account/ other credits existing (not at this bank)\",\"existing credits paid back duly till now\",\"existing credits paid back duly till now\",\"existing credits paid back duly till now\",\"delay in paying off in the past\",\"existing credits paid back duly till now\",\"existing credits paid back duly till now\",\"critical account/ other credits existing (not at this bank)\",\"critical account/ other credits existing (not at this bank)\",\"delay in paying off in the past\",\"existing credits paid back duly till now\",\"existing credits paid back duly till now\",\"existing credits paid back duly till now\",\"delay in paying off in the past\",\"no credits taken/ all credits paid back duly\",\"existing credits paid back duly till now\",\"existing credits paid back duly till now\",\"existing credits paid back duly till now\",\"all credits at this bank paid back duly\",\"existing credits paid back duly till now\",\"existing credits paid back duly till now\",\"existing credits paid back duly till now\",\"critical account/ other credits existing (not at this bank)\",\"existing credits paid back duly till now\",\"no credits taken/ all credits paid back duly\",\"all credits at this bank paid back duly\",\"existing credits paid back duly till now\",\"existing credits paid back duly till now\",\"existing credits paid back duly till now\",\"existing credits paid back duly till now\",\"existing credits paid back duly till now\",\"existing credits paid back duly till now\",\"existing credits paid back duly till now\",\"all credits at this bank paid back duly\",\"critical account/ other credits existing (not at this bank)\",\"existing credits paid back duly till now\",\"critical account/ other credits existing (not at this bank)\",\"existing credits paid back duly till now\",\"all credits at this bank paid back duly\",\"delay in paying off in the past\",\"critical account/ other credits existing (not at this bank)\",\"existing credits paid back duly till now\",\"delay in paying off in the past\",\"existing credits paid back duly till now\",\"delay in paying off in the past\",\"existing credits paid back duly till now\",\"critical account/ other credits existing (not at this bank)\",\"existing credits paid back duly till now\",\"existing credits paid back duly till now\",\"critical account/ other credits existing (not at this bank)\",\"critical account/ other credits existing (not at this bank)\",\"critical account/ other credits existing (not at this bank)\",\"existing credits paid back duly till now\",\"existing credits paid back duly till now\",\"delay in paying off in the past\",\"existing credits paid back duly till now\",\"existing credits paid back duly till now\",\"all credits at this bank paid back duly\",\"existing credits paid back duly till now\",\"existing credits paid back duly till now\",\"existing credits paid back duly till now\",\"critical account/ other credits existing (not at this bank)\",\"no credits taken/ all credits paid back duly\",\"existing credits paid back duly till now\",\"critical account/ other credits existing (not at this bank)\",\"existing credits paid back duly till now\",\"existing credits paid back duly till now\",\"existing credits paid back duly till now\",\"critical account/ other credits existing (not at this bank)\",\"critical account/ other credits existing (not at this bank)\",\"existing credits paid back duly till now\",\"critical account/ other credits existing (not at this bank)\",\"existing credits paid back duly till now\",\"existing credits paid back duly till now\",\"existing credits paid back duly till now\",\"existing credits paid back duly till now\",\"existing credits paid back duly till now\",\"delay in paying off in the past\",\"critical account/ other credits existing (not at this bank)\",\"critical account/ other credits existing (not at this bank)\",\"critical account/ other credits existing (not at this bank)\",\"critical account/ other credits existing (not at this bank)\",\"critical account/ other credits existing (not at this bank)\",\"critical account/ other credits existing (not at this bank)\",\"critical account/ other credits existing (not at this bank)\",\"existing credits paid back duly till now\",\"existing credits paid back duly till now\",\"critical account/ other credits existing (not at this bank)\",\"existing credits paid back duly till now\",\"existing credits paid back duly till now\",\"no credits taken/ all credits paid back duly\",\"no credits taken/ all credits paid back duly\",\"existing credits paid back duly till now\",\"existing credits paid back duly till now\",\"existing credits paid back duly till now\",\"delay in paying off in the past\",\"critical account/ other credits existing (not at this bank)\",\"existing credits paid back duly till now\",\"existing credits paid back duly till now\",\"existing credits paid back duly till now\",\"existing credits paid back duly till now\",\"existing credits paid back duly till now\",\"existing credits paid back duly till now\",\"critical account/ other credits existing (not at this bank)\",\"critical account/ other credits existing (not at this bank)\",\"all credits at this bank paid back duly\",\"delay in paying off in the past\",\"critical account/ other credits existing (not at this bank)\",\"no credits taken/ all credits paid back duly\",\"critical account/ other credits existing (not at this bank)\",\"existing credits paid back duly till now\",\"existing credits paid back duly till now\",\"critical account/ other credits existing (not at this bank)\",\"critical account/ other credits existing (not at this bank)\",\"existing credits paid back duly till now\",\"critical account/ other credits existing (not at this bank)\",\"existing credits paid back duly till now\",\"critical account/ other credits existing (not at this bank)\",\"existing credits paid back duly till now\",\"critical account/ other credits existing (not at this bank)\",\"existing credits paid back duly till now\",\"existing credits paid back duly till now\",\"existing credits paid back duly till now\",\"critical account/ other credits existing (not at this bank)\",\"existing credits paid back duly till now\",\"critical account/ other credits existing (not at this bank)\",\"critical account/ other credits existing (not at this bank)\",\"critical account/ other credits existing (not at this bank)\",\"existing credits paid back duly till now\",\"critical account/ other credits existing (not at this bank)\",\"existing credits paid back duly till now\",\"delay in paying off in the past\",\"critical account/ other credits existing (not at this bank)\",\"existing credits paid back duly till now\",\"critical account/ other credits existing (not at this bank)\",\"existing credits paid back duly till now\",\"existing credits paid back duly till now\",\"existing credits paid back duly till now\",\"existing credits paid back duly till now\",\"critical account/ other credits existing (not at this bank)\",\"existing credits paid back duly till now\",\"all credits at this bank paid back duly\",\"critical account/ other credits existing (not at this bank)\",\"existing credits paid back duly till now\",\"all credits at this bank paid back duly\",\"critical account/ other credits existing (not at this bank)\",\"existing credits paid back duly till now\",\"existing credits paid back duly till now\",\"existing credits paid back duly till now\",\"critical account/ other credits existing (not at this bank)\",\"critical account/ other credits existing (not at this bank)\",\"existing credits paid back duly till now\",\"critical account/ other credits existing (not at this bank)\",\"critical account/ other credits existing (not at this bank)\",\"critical account/ other credits existing (not at this bank)\",\"critical account/ other credits existing (not at this bank)\",\"critical account/ other credits existing (not at this bank)\",\"existing credits paid back duly till now\",\"existing credits paid back duly till now\",\"critical account/ other credits existing (not at this bank)\",\"existing credits paid back duly till now\",\"existing credits paid back duly till now\",\"existing credits paid back duly till now\",\"critical account/ other credits existing (not at this bank)\",\"existing credits paid back duly till now\",\"critical account/ other credits existing (not at this bank)\",\"existing credits paid back duly till now\",\"delay in paying off in the past\",\"existing credits paid back duly till now\",\"existing credits paid back duly till now\",\"critical account/ other credits existing (not at this bank)\",\"critical account/ other credits existing (not at this bank)\",\"critical account/ other credits existing (not at this bank)\",\"existing credits paid back duly till now\",\"existing credits paid back duly till now\",\"existing credits paid back duly till now\",\"existing credits paid back duly till now\",\"existing credits paid back duly till now\",\"delay in paying off in the past\",\"existing credits paid back duly till now\",\"existing credits paid back duly till now\",\"critical account/ other credits existing (not at this bank)\",\"existing credits paid back duly till now\",\"delay in paying off in the past\",\"delay in paying off in the past\",\"critical account/ other credits existing (not at this bank)\",\"existing credits paid back duly till now\",\"existing credits paid back duly till now\",\"critical account/ other credits existing (not at this bank)\",\"existing credits paid back duly till now\",\"critical account/ other credits existing (not at this bank)\",\"all credits at this bank paid back duly\",\"critical account/ other credits existing (not at this bank)\",\"existing credits paid back duly till now\",\"existing credits paid back duly till now\",\"critical account/ other credits existing (not at this bank)\",\"critical account/ other credits existing (not at this bank)\",\"critical account/ other credits existing (not at this bank)\",\"critical account/ other credits existing (not at this bank)\",\"critical account/ other credits existing (not at this bank)\",\"existing credits paid back duly till now\",\"existing credits paid back duly till now\",\"existing credits paid back duly till now\",\"existing credits paid back duly till now\",\"all credits at this bank paid back duly\",\"critical account/ other credits existing (not at this bank)\",\"existing credits paid back duly till now\",\"existing credits paid back duly till now\",\"existing credits paid back duly till now\",\"existing credits paid back duly till now\",\"existing credits paid back duly till now\",\"delay in paying off in the past\",\"delay in paying off in the past\",\"critical account/ other credits existing (not at this bank)\",\"critical account/ other credits existing (not at this bank)\",\"existing credits paid back duly till now\",\"existing credits paid back duly till now\",\"delay in paying off in the past\",\"existing credits paid back duly till now\",\"existing credits paid back duly till now\",\"critical account/ other credits existing (not at this bank)\",\"existing credits paid back duly till now\",\"critical account/ other credits existing (not at this bank)\",\"critical account/ other credits existing (not at this bank)\",\"no credits taken/ all credits paid back duly\",\"existing credits paid back duly till now\",\"existing credits paid back duly till now\",\"existing credits paid back duly till now\",\"existing credits paid back duly till now\",\"existing credits paid back duly till now\",\"existing credits paid back duly till now\",\"existing credits paid back duly till now\",\"critical account/ other credits existing (not at this bank)\",\"existing credits paid back duly till now\",\"critical account/ other credits existing (not at this bank)\",\"existing credits paid back duly till now\",\"existing credits paid back duly till now\",\"existing credits paid back duly till now\",\"existing credits paid back duly till now\",\"all credits at this bank paid back duly\",\"existing credits paid back duly till now\",\"all credits at this bank paid back duly\",\"existing credits paid back duly till now\",\"existing credits paid back duly till now\",\"existing credits paid back duly till now\",\"existing credits paid back duly till now\",\"critical account/ other credits existing (not at this bank)\",\"critical account/ other credits existing (not at this bank)\",\"existing credits paid back duly till now\",\"critical account/ other credits existing (not at this bank)\",\"critical account/ other credits existing (not at this bank)\",\"delay in paying off in the past\",\"no credits taken/ all credits paid back duly\",\"critical account/ other credits existing (not at this bank)\",\"critical account/ other credits existing (not at this bank)\",\"existing credits paid back duly till now\",\"critical account/ other credits existing (not at this bank)\",\"critical account/ other credits existing (not at this bank)\",\"existing credits paid back duly till now\",\"existing credits paid back duly till now\",\"critical account/ other credits existing (not at this bank)\",\"critical account/ other credits existing (not at this bank)\",\"delay in paying off in the past\",\"critical account/ other credits existing (not at this bank)\",\"existing credits paid back duly till now\",\"critical account/ other credits existing (not at this bank)\",\"delay in paying off in the past\",\"existing credits paid back duly till now\",\"critical account/ other credits existing (not at this bank)\",\"critical account/ other credits existing (not at this bank)\",\"existing credits paid back duly till now\",\"existing credits paid back duly till now\",\"critical account/ other credits existing (not at this bank)\",\"critical account/ other credits existing (not at this bank)\",\"existing credits paid back duly till now\",\"existing credits paid back duly till now\",\"critical account/ other credits existing (not at this bank)\",\"delay in paying off in the past\",\"critical account/ other credits existing (not at this bank)\",\"existing credits paid back duly till now\",\"existing credits paid back duly till now\",\"critical account/ other credits existing (not at this bank)\",\"existing credits paid back duly till now\",\"critical account/ other credits existing (not at this bank)\",\"existing credits paid back duly till now\",\"existing credits paid back duly till now\",\"existing credits paid back duly till now\",\"critical account/ other credits existing (not at this bank)\",\"no credits taken/ all credits paid back duly\",\"existing credits paid back duly till now\",\"existing credits paid back duly till now\",\"critical account/ other credits existing (not at this bank)\",\"critical account/ other credits existing (not at this bank)\",\"existing credits paid back duly till now\",\"existing credits paid back duly till now\",\"existing credits paid back duly till now\",\"existing credits paid back duly till now\",\"critical account/ other credits existing (not at this bank)\",\"critical account/ other credits existing (not at this bank)\",\"critical account/ other credits existing (not at this bank)\",\"delay in paying off in the past\",\"existing credits paid back duly till now\",\"existing credits paid back duly till now\",\"existing credits paid back duly till now\",\"existing credits paid back duly till now\",\"no credits taken/ all credits paid back duly\",\"existing credits paid back duly till now\",\"existing credits paid back duly till now\",\"critical account/ other credits existing (not at this bank)\",\"existing credits paid back duly till now\",\"existing credits paid back duly till now\",\"no credits taken/ all credits paid back duly\",\"existing credits paid back duly till now\",\"critical account/ other credits existing (not at this bank)\",\"existing credits paid back duly till now\",\"existing credits paid back duly till now\",\"critical account/ other credits existing (not at this bank)\",\"existing credits paid back duly till now\",\"existing credits paid back duly till now\",\"existing credits paid back duly till now\",\"existing credits paid back duly till now\",\"existing credits paid back duly till now\",\"delay in paying off in the past\",\"existing credits paid back duly till now\",\"existing credits paid back duly till now\",\"existing credits paid back duly till now\",\"all credits at this bank paid back duly\",\"no credits taken/ all credits paid back duly\",\"critical account/ other credits existing (not at this bank)\",\"existing credits paid back duly till now\",\"critical account/ other credits existing (not at this bank)\",\"existing credits paid back duly till now\",\"critical account/ other credits existing (not at this bank)\",\"existing credits paid back duly till now\",\"critical account/ other credits existing (not at this bank)\",\"existing credits paid back duly till now\",\"all credits at this bank paid back duly\",\"critical account/ other credits existing (not at this bank)\",\"existing credits paid back duly till now\",\"existing credits paid back duly till now\",\"critical account/ other credits existing (not at this bank)\",\"critical account/ other credits existing (not at this bank)\",\"critical account/ other credits existing (not at this bank)\",\"existing credits paid back duly till now\",\"critical account/ other credits existing (not at this bank)\",\"existing credits paid back duly till now\",\"critical account/ other credits existing (not at this bank)\",\"existing credits paid back duly till now\",\"critical account/ other credits existing (not at this bank)\",\"existing credits paid back duly till now\",\"critical account/ other credits existing (not at this bank)\",\"delay in paying off in the past\",\"existing credits paid back duly till now\",\"existing credits paid back duly till now\",\"existing credits paid back duly till now\",\"existing credits paid back duly till now\",\"all credits at this bank paid back duly\",\"existing credits paid back duly till now\",\"existing credits paid back duly till now\",\"existing credits paid back duly till now\",\"critical account/ other credits existing (not at this bank)\",\"critical account/ other credits existing (not at this bank)\",\"existing credits paid back duly till now\",\"all credits at this bank paid back duly\",\"existing credits paid back duly till now\",\"critical account/ other credits existing (not at this bank)\",\"existing credits paid back duly till now\",\"existing credits paid back duly till now\",\"existing credits paid back duly till now\",\"all credits at this bank paid back duly\",\"all credits at this bank paid back duly\",\"existing credits paid back duly till now\",\"existing credits paid back duly till now\",\"delay in paying off in the past\",\"delay in paying off in the past\",\"existing credits paid back duly till now\",\"existing credits paid back duly till now\",\"delay in paying off in the past\",\"existing credits paid back duly till now\",\"delay in paying off in the past\",\"existing credits paid back duly till now\",\"no credits taken/ all credits paid back duly\",\"critical account/ other credits existing (not at this bank)\",\"existing credits paid back duly till now\",\"critical account/ other credits existing (not at this bank)\",\"critical account/ other credits existing (not at this bank)\",\"existing credits paid back duly till now\",\"existing credits paid back duly till now\",\"critical account/ other credits existing (not at this bank)\",\"existing credits paid back duly till now\",\"existing credits paid back duly till now\",\"delay in paying off in the past\",\"delay in paying off in the past\",\"existing credits paid back duly till now\",\"no credits taken/ all credits paid back duly\",\"critical account/ other credits existing (not at this bank)\",\"existing credits paid back duly till now\",\"existing credits paid back duly till now\",\"existing credits paid back duly till now\",\"existing credits paid back duly till now\",\"existing credits paid back duly till now\",\"existing credits paid back duly till now\",\"existing credits paid back duly till now\",\"all credits at this bank paid back duly\",\"existing credits paid back duly till now\",\"critical account/ other credits existing (not at this bank)\",\"critical account/ other credits existing (not at this bank)\",\"delay in paying off in the past\",\"existing credits paid back duly till now\",\"existing credits paid back duly till now\",\"critical account/ other credits existing (not at this bank)\",\"existing credits paid back duly till now\",\"existing credits paid back duly till now\",\"existing credits paid back duly till now\",\"critical account/ other credits existing (not at this bank)\",\"existing credits paid back duly till now\",\"critical account/ other credits existing (not at this bank)\",\"no credits taken/ all credits paid back duly\",\"critical account/ other credits existing (not at this bank)\",\"critical account/ other credits existing (not at this bank)\",\"existing credits paid back duly till now\",\"existing credits paid back duly till now\",\"existing credits paid back duly till now\",\"existing credits paid back duly till now\",\"existing credits paid back duly till now\",\"existing credits paid back duly till now\",\"existing credits paid back duly till now\",\"critical account/ other credits existing (not at this bank)\",\"critical account/ other credits existing (not at this bank)\",\"critical account/ other credits existing (not at this bank)\",\"critical account/ other credits existing (not at this bank)\",\"existing credits paid back duly till now\",\"critical account/ other credits existing (not at this bank)\",\"existing credits paid back duly till now\",\"delay in paying off in the past\",\"existing credits paid back duly till now\",\"delay in paying off in the past\",\"critical account/ other credits existing (not at this bank)\",\"delay in paying off in the past\",\"existing credits paid back duly till now\",\"all credits at this bank paid back duly\",\"delay in paying off in the past\",\"existing credits paid back duly till now\",\"critical account/ other credits existing (not at this bank)\",\"critical account/ other credits existing (not at this bank)\",\"critical account/ other credits existing (not at this bank)\",\"existing credits paid back duly till now\",\"critical account/ other credits existing (not at this bank)\",\"critical account/ other credits existing (not at this bank)\",\"existing credits paid back duly till now\",\"all credits at this bank paid back duly\",\"no credits taken/ all credits paid back duly\",\"existing credits paid back duly till now\",\"critical account/ other credits existing (not at this bank)\",\"existing credits paid back duly till now\",\"critical account/ other credits existing (not at this bank)\",\"existing credits paid back duly till now\",\"critical account/ other credits existing (not at this bank)\",\"delay in paying off in the past\",\"existing credits paid back duly till now\",\"existing credits paid back duly till now\",\"existing credits paid back duly till now\",\"critical account/ other credits existing (not at this bank)\",\"existing credits paid back duly till now\",\"all credits at this bank paid back duly\",\"critical account/ other credits existing (not at this bank)\",\"critical account/ other credits existing (not at this bank)\",\"critical account/ other credits existing (not at this bank)\",\"existing credits paid back duly till now\",\"existing credits paid back duly till now\",\"delay in paying off in the past\",\"existing credits paid back duly till now\",\"existing credits paid back duly till now\",\"existing credits paid back duly till now\",\"critical account/ other credits existing (not at this bank)\",\"existing credits paid back duly till now\",\"critical account/ other credits existing (not at this bank)\",\"delay in paying off in the past\",\"all credits at this bank paid back duly\",\"critical account/ other credits existing (not at this bank)\",\"delay in paying off in the past\",\"existing credits paid back duly till now\",\"delay in paying off in the past\",\"no credits taken/ all credits paid back duly\",\"existing credits paid back duly till now\",\"existing credits paid back duly till now\",\"existing credits paid back duly till now\",\"critical account/ other credits existing (not at this bank)\",\"critical account/ other credits existing (not at this bank)\",\"all credits at this bank paid back duly\",\"no credits taken/ all credits paid back duly\",\"all credits at this bank paid back duly\",\"existing credits paid back duly till now\",\"existing credits paid back duly till now\",\"existing credits paid back duly till now\",\"critical account/ other credits existing (not at this bank)\",\"critical account/ other credits existing (not at this bank)\",\"critical account/ other credits existing (not at this bank)\",\"critical account/ other credits existing (not at this bank)\",\"critical account/ other credits existing (not at this bank)\",\"critical account/ other credits existing (not at this bank)\",\"delay in paying off in the past\",\"critical account/ other credits existing (not at this bank)\",\"critical account/ other credits existing (not at this bank)\",\"critical account/ other credits existing (not at this bank)\",\"delay in paying off in the past\",\"existing credits paid back duly till now\",\"critical account/ other credits existing (not at this bank)\",\"no credits taken/ all credits paid back duly\",\"all credits at this bank paid back duly\",\"all credits at this bank paid back duly\",\"all credits at this bank paid back duly\",\"existing credits paid back duly till now\",\"existing credits paid back duly till now\",\"critical account/ other credits existing (not at this bank)\",\"existing credits paid back duly till now\",\"critical account/ other credits existing (not at this bank)\",\"critical account/ other credits existing (not at this bank)\",\"existing credits paid back duly till now\",\"existing credits paid back duly till now\",\"existing credits paid back duly till now\",\"existing credits paid back duly till now\",\"critical account/ other credits existing (not at this bank)\",\"existing credits paid back duly till now\",\"critical account/ other credits existing (not at this bank)\",\"critical account/ other credits existing (not at this bank)\",\"critical account/ other credits existing (not at this bank)\",\"delay in paying off in the past\",\"delay in paying off in the past\",\"all credits at this bank paid back duly\",\"existing credits paid back duly till now\",\"delay in paying off in the past\",\"critical account/ other credits existing (not at this bank)\",\"critical account/ other credits existing (not at this bank)\",\"existing credits paid back duly till now\",\"critical account/ other credits existing (not at this bank)\",\"existing credits paid back duly till now\",\"critical account/ other credits existing (not at this bank)\",\"existing credits paid back duly till now\",\"existing credits paid back duly till now\",\"existing credits paid back duly till now\",\"existing credits paid back duly till now\",\"critical account/ other credits existing (not at this bank)\",\"existing credits paid back duly till now\",\"critical account/ other credits existing (not at this bank)\",\"critical account/ other credits existing (not at this bank)\",\"critical account/ other credits existing (not at this bank)\",\"existing credits paid back duly till now\",\"existing credits paid back duly till now\",\"critical account/ other credits existing (not at this bank)\",\"critical account/ other credits existing (not at this bank)\",\"existing credits paid back duly till now\",\"existing credits paid back duly till now\",\"delay in paying off in the past\",\"existing credits paid back duly till now\",\"existing credits paid back duly till now\",\"delay in paying off in the past\",\"existing credits paid back duly till now\",\"critical account/ other credits existing (not at this bank)\",\"existing credits paid back duly till now\",\"existing credits paid back duly till now\",\"critical account/ other credits existing (not at this bank)\",\"delay in paying off in the past\",\"critical account/ other credits existing (not at this bank)\",\"critical account/ other credits existing (not at this bank)\",\"critical account/ other credits existing (not at this bank)\",\"existing credits paid back duly till now\",\"existing credits paid back duly till now\",\"critical account/ other credits existing (not at this bank)\",\"existing credits paid back duly till now\",\"critical account/ other credits existing (not at this bank)\",\"existing credits paid back duly till now\",\"existing credits paid back duly till now\",\"delay in paying off in the past\",\"all credits at this bank paid back duly\",\"existing credits paid back duly till now\",\"existing credits paid back duly till now\",\"no credits taken/ all credits paid back duly\",\"critical account/ other credits existing (not at this bank)\",\"delay in paying off in the past\",\"all credits at this bank paid back duly\",\"delay in paying off in the past\",\"existing credits paid back duly till now\",\"delay in paying off in the past\",\"critical account/ other credits existing (not at this bank)\",\"existing credits paid back duly till now\",\"existing credits paid back duly till now\",\"existing credits paid back duly till now\",\"existing credits paid back duly till now\",\"critical account/ other credits existing (not at this bank)\",\"critical account/ other credits existing (not at this bank)\",\"existing credits paid back duly till now\",\"critical account/ other credits existing (not at this bank)\",\"existing credits paid back duly till now\",\"existing credits paid back duly till now\",\"no credits taken/ all credits paid back duly\",\"existing credits paid back duly till now\",\"critical account/ other credits existing (not at this bank)\",\"existing credits paid back duly till now\",\"existing credits paid back duly till now\",\"all credits at this bank paid back duly\",\"delay in paying off in the past\",\"all credits at this bank paid back duly\",\"critical account/ other credits existing (not at this bank)\",\"delay in paying off in the past\",\"delay in paying off in the past\",\"delay in paying off in the past\",\"existing credits paid back duly till now\",\"existing credits paid back duly till now\",\"existing credits paid back duly till now\",\"existing credits paid back duly till now\",\"critical account/ other credits existing (not at this bank)\",\"existing credits paid back duly till now\",\"existing credits paid back duly till now\",\"existing credits paid back duly till now\",\"critical account/ other credits existing (not at this bank)\",\"critical account/ other credits existing (not at this bank)\",\"existing credits paid back duly till now\",\"existing credits paid back duly till now\",\"critical account/ other credits existing (not at this bank)\",\"critical account/ other credits existing (not at this bank)\",\"existing credits paid back duly till now\",\"critical account/ other credits existing (not at this bank)\",\"critical account/ other credits existing (not at this bank)\"],\"xaxis\":\"x\",\"yaxis\":\"y\",\"type\":\"histogram\"},{\"alignmentgroup\":\"True\",\"bingroup\":\"x\",\"histnorm\":\"probability density\",\"hovertemplate\":\"<b>Synthetic</b><br>Frequency: %{y}<extra></extra>\",\"legendgroup\":\"Synthetic\",\"marker\":{\"color\":\"#01E0C9\",\"pattern\":{\"shape\":\"/\"}},\"name\":\"Synthetic\",\"offsetgroup\":\"Synthetic\",\"orientation\":\"v\",\"showlegend\":true,\"x\":[\"existing credits paid back duly till now\",\"critical account/ other credits existing (not at this bank)\",\"delay in paying off in the past\",\"existing credits paid back duly till now\",\"existing credits paid back duly till now\",\"critical account/ other credits existing (not at this bank)\",\"critical account/ other credits existing (not at this bank)\",\"critical account/ other credits existing (not at this bank)\",\"existing credits paid back duly till now\",\"all credits at this bank paid back duly\",\"existing credits paid back duly till now\",\"critical account/ other credits existing (not at this bank)\",\"critical account/ other credits existing (not at this bank)\",\"delay in paying off in the past\",\"critical account/ other credits existing (not at this bank)\",\"existing credits paid back duly till now\",\"existing credits paid back duly till now\",\"existing credits paid back duly till now\",\"existing credits paid back duly till now\",\"existing credits paid back duly till now\",\"delay in paying off in the past\",\"all credits at this bank paid back duly\",\"existing credits paid back duly till now\",\"existing credits paid back duly till now\",\"critical account/ other credits existing (not at this bank)\",\"critical account/ other credits existing (not at this bank)\",\"existing credits paid back duly till now\",\"critical account/ other credits existing (not at this bank)\",\"no credits taken/ all credits paid back duly\",\"critical account/ other credits existing (not at this bank)\",\"delay in paying off in the past\",\"all credits at this bank paid back duly\",\"critical account/ other credits existing (not at this bank)\",\"existing credits paid back duly till now\",\"delay in paying off in the past\",\"critical account/ other credits existing (not at this bank)\",\"existing credits paid back duly till now\",\"critical account/ other credits existing (not at this bank)\",\"critical account/ other credits existing (not at this bank)\",\"critical account/ other credits existing (not at this bank)\",\"delay in paying off in the past\",\"existing credits paid back duly till now\",\"existing credits paid back duly till now\",\"existing credits paid back duly till now\",\"delay in paying off in the past\",\"existing credits paid back duly till now\",\"delay in paying off in the past\",\"critical account/ other credits existing (not at this bank)\",\"critical account/ other credits existing (not at this bank)\",\"all credits at this bank paid back duly\",\"delay in paying off in the past\",\"critical account/ other credits existing (not at this bank)\",\"existing credits paid back duly till now\",\"existing credits paid back duly till now\",\"existing credits paid back duly till now\",\"critical account/ other credits existing (not at this bank)\",\"delay in paying off in the past\",\"delay in paying off in the past\",\"critical account/ other credits existing (not at this bank)\",\"critical account/ other credits existing (not at this bank)\",\"no credits taken/ all credits paid back duly\",\"existing credits paid back duly till now\",\"existing credits paid back duly till now\",\"critical account/ other credits existing (not at this bank)\",\"all credits at this bank paid back duly\",\"all credits at this bank paid back duly\",\"critical account/ other credits existing (not at this bank)\",\"existing credits paid back duly till now\",\"no credits taken/ all credits paid back duly\",\"existing credits paid back duly till now\",\"existing credits paid back duly till now\",\"existing credits paid back duly till now\",\"existing credits paid back duly till now\",\"critical account/ other credits existing (not at this bank)\",\"no credits taken/ all credits paid back duly\",\"existing credits paid back duly till now\",\"existing credits paid back duly till now\",\"existing credits paid back duly till now\",\"existing credits paid back duly till now\",\"no credits taken/ all credits paid back duly\",\"critical account/ other credits existing (not at this bank)\",\"critical account/ other credits existing (not at this bank)\",\"critical account/ other credits existing (not at this bank)\",\"no credits taken/ all credits paid back duly\",\"delay in paying off in the past\",\"existing credits paid back duly till now\",\"existing credits paid back duly till now\",\"critical account/ other credits existing (not at this bank)\",\"existing credits paid back duly till now\",\"no credits taken/ all credits paid back duly\",\"no credits taken/ all credits paid back duly\",\"critical account/ other credits existing (not at this bank)\",\"existing credits paid back duly till now\",\"existing credits paid back duly till now\",\"existing credits paid back duly till now\",\"existing credits paid back duly till now\",\"critical account/ other credits existing (not at this bank)\",\"existing credits paid back duly till now\",\"existing credits paid back duly till now\",\"existing credits paid back duly till now\",\"no credits taken/ all credits paid back duly\",\"existing credits paid back duly till now\",\"critical account/ other credits existing (not at this bank)\",\"delay in paying off in the past\",\"critical account/ other credits existing (not at this bank)\",\"delay in paying off in the past\",\"existing credits paid back duly till now\",\"all credits at this bank paid back duly\",\"existing credits paid back duly till now\",\"existing credits paid back duly till now\",\"critical account/ other credits existing (not at this bank)\",\"critical account/ other credits existing (not at this bank)\",\"delay in paying off in the past\",\"existing credits paid back duly till now\",\"existing credits paid back duly till now\",\"existing credits paid back duly till now\",\"critical account/ other credits existing (not at this bank)\",\"existing credits paid back duly till now\",\"existing credits paid back duly till now\",\"critical account/ other credits existing (not at this bank)\",\"existing credits paid back duly till now\",\"critical account/ other credits existing (not at this bank)\",\"existing credits paid back duly till now\",\"critical account/ other credits existing (not at this bank)\",\"existing credits paid back duly till now\",\"critical account/ other credits existing (not at this bank)\",\"existing credits paid back duly till now\",\"critical account/ other credits existing (not at this bank)\",\"existing credits paid back duly till now\",\"critical account/ other credits existing (not at this bank)\",\"no credits taken/ all credits paid back duly\",\"existing credits paid back duly till now\",\"critical account/ other credits existing (not at this bank)\",\"existing credits paid back duly till now\",\"critical account/ other credits existing (not at this bank)\",\"no credits taken/ all credits paid back duly\",\"existing credits paid back duly till now\",\"all credits at this bank paid back duly\",\"no credits taken/ all credits paid back duly\",\"critical account/ other credits existing (not at this bank)\",\"critical account/ other credits existing (not at this bank)\",\"existing credits paid back duly till now\",\"delay in paying off in the past\",\"critical account/ other credits existing (not at this bank)\",\"existing credits paid back duly till now\",\"delay in paying off in the past\",\"critical account/ other credits existing (not at this bank)\",\"all credits at this bank paid back duly\",\"critical account/ other credits existing (not at this bank)\",\"critical account/ other credits existing (not at this bank)\",\"existing credits paid back duly till now\",\"existing credits paid back duly till now\",\"critical account/ other credits existing (not at this bank)\",\"existing credits paid back duly till now\",\"existing credits paid back duly till now\",\"existing credits paid back duly till now\",\"critical account/ other credits existing (not at this bank)\",\"critical account/ other credits existing (not at this bank)\",\"existing credits paid back duly till now\",\"no credits taken/ all credits paid back duly\",\"critical account/ other credits existing (not at this bank)\",\"critical account/ other credits existing (not at this bank)\",\"critical account/ other credits existing (not at this bank)\",\"critical account/ other credits existing (not at this bank)\",\"existing credits paid back duly till now\",\"critical account/ other credits existing (not at this bank)\",\"existing credits paid back duly till now\",\"no credits taken/ all credits paid back duly\",\"existing credits paid back duly till now\",\"existing credits paid back duly till now\",\"critical account/ other credits existing (not at this bank)\",\"existing credits paid back duly till now\",\"no credits taken/ all credits paid back duly\",\"critical account/ other credits existing (not at this bank)\",\"all credits at this bank paid back duly\",\"critical account/ other credits existing (not at this bank)\",\"existing credits paid back duly till now\",\"existing credits paid back duly till now\",\"existing credits paid back duly till now\",\"critical account/ other credits existing (not at this bank)\",\"existing credits paid back duly till now\",\"all credits at this bank paid back duly\",\"critical account/ other credits existing (not at this bank)\",\"critical account/ other credits existing (not at this bank)\",\"critical account/ other credits existing (not at this bank)\",\"existing credits paid back duly till now\",\"critical account/ other credits existing (not at this bank)\",\"critical account/ other credits existing (not at this bank)\",\"existing credits paid back duly till now\",\"existing credits paid back duly till now\",\"critical account/ other credits existing (not at this bank)\",\"critical account/ other credits existing (not at this bank)\",\"critical account/ other credits existing (not at this bank)\",\"no credits taken/ all credits paid back duly\",\"no credits taken/ all credits paid back duly\",\"no credits taken/ all credits paid back duly\",\"delay in paying off in the past\",\"critical account/ other credits existing (not at this bank)\",\"existing credits paid back duly till now\",\"critical account/ other credits existing (not at this bank)\",\"critical account/ other credits existing (not at this bank)\",\"existing credits paid back duly till now\",\"existing credits paid back duly till now\",\"critical account/ other credits existing (not at this bank)\",\"critical account/ other credits existing (not at this bank)\",\"critical account/ other credits existing (not at this bank)\",\"existing credits paid back duly till now\",\"existing credits paid back duly till now\",\"critical account/ other credits existing (not at this bank)\",\"critical account/ other credits existing (not at this bank)\",\"critical account/ other credits existing (not at this bank)\",\"existing credits paid back duly till now\",\"critical account/ other credits existing (not at this bank)\",\"existing credits paid back duly till now\",\"existing credits paid back duly till now\",\"existing credits paid back duly till now\",\"no credits taken/ all credits paid back duly\",\"critical account/ other credits existing (not at this bank)\",\"existing credits paid back duly till now\",\"existing credits paid back duly till now\",\"delay in paying off in the past\",\"critical account/ other credits existing (not at this bank)\",\"existing credits paid back duly till now\",\"no credits taken/ all credits paid back duly\",\"critical account/ other credits existing (not at this bank)\",\"critical account/ other credits existing (not at this bank)\",\"existing credits paid back duly till now\",\"critical account/ other credits existing (not at this bank)\",\"existing credits paid back duly till now\",\"critical account/ other credits existing (not at this bank)\",\"existing credits paid back duly till now\",\"delay in paying off in the past\",\"existing credits paid back duly till now\",\"delay in paying off in the past\",\"existing credits paid back duly till now\",\"delay in paying off in the past\",\"critical account/ other credits existing (not at this bank)\",\"critical account/ other credits existing (not at this bank)\",\"no credits taken/ all credits paid back duly\",\"critical account/ other credits existing (not at this bank)\",\"critical account/ other credits existing (not at this bank)\",\"existing credits paid back duly till now\",\"delay in paying off in the past\",\"all credits at this bank paid back duly\",\"no credits taken/ all credits paid back duly\",\"critical account/ other credits existing (not at this bank)\",\"no credits taken/ all credits paid back duly\",\"critical account/ other credits existing (not at this bank)\",\"critical account/ other credits existing (not at this bank)\",\"delay in paying off in the past\"],\"xaxis\":\"x\",\"yaxis\":\"y\",\"type\":\"histogram\"}],                        {\"template\":{\"data\":{\"histogram2dcontour\":[{\"type\":\"histogram2dcontour\",\"colorbar\":{\"outlinewidth\":0,\"ticks\":\"\"},\"colorscale\":[[0.0,\"#0d0887\"],[0.1111111111111111,\"#46039f\"],[0.2222222222222222,\"#7201a8\"],[0.3333333333333333,\"#9c179e\"],[0.4444444444444444,\"#bd3786\"],[0.5555555555555556,\"#d8576b\"],[0.6666666666666666,\"#ed7953\"],[0.7777777777777778,\"#fb9f3a\"],[0.8888888888888888,\"#fdca26\"],[1.0,\"#f0f921\"]]}],\"choropleth\":[{\"type\":\"choropleth\",\"colorbar\":{\"outlinewidth\":0,\"ticks\":\"\"}}],\"histogram2d\":[{\"type\":\"histogram2d\",\"colorbar\":{\"outlinewidth\":0,\"ticks\":\"\"},\"colorscale\":[[0.0,\"#0d0887\"],[0.1111111111111111,\"#46039f\"],[0.2222222222222222,\"#7201a8\"],[0.3333333333333333,\"#9c179e\"],[0.4444444444444444,\"#bd3786\"],[0.5555555555555556,\"#d8576b\"],[0.6666666666666666,\"#ed7953\"],[0.7777777777777778,\"#fb9f3a\"],[0.8888888888888888,\"#fdca26\"],[1.0,\"#f0f921\"]]}],\"heatmap\":[{\"type\":\"heatmap\",\"colorbar\":{\"outlinewidth\":0,\"ticks\":\"\"},\"colorscale\":[[0.0,\"#0d0887\"],[0.1111111111111111,\"#46039f\"],[0.2222222222222222,\"#7201a8\"],[0.3333333333333333,\"#9c179e\"],[0.4444444444444444,\"#bd3786\"],[0.5555555555555556,\"#d8576b\"],[0.6666666666666666,\"#ed7953\"],[0.7777777777777778,\"#fb9f3a\"],[0.8888888888888888,\"#fdca26\"],[1.0,\"#f0f921\"]]}],\"heatmapgl\":[{\"type\":\"heatmapgl\",\"colorbar\":{\"outlinewidth\":0,\"ticks\":\"\"},\"colorscale\":[[0.0,\"#0d0887\"],[0.1111111111111111,\"#46039f\"],[0.2222222222222222,\"#7201a8\"],[0.3333333333333333,\"#9c179e\"],[0.4444444444444444,\"#bd3786\"],[0.5555555555555556,\"#d8576b\"],[0.6666666666666666,\"#ed7953\"],[0.7777777777777778,\"#fb9f3a\"],[0.8888888888888888,\"#fdca26\"],[1.0,\"#f0f921\"]]}],\"contourcarpet\":[{\"type\":\"contourcarpet\",\"colorbar\":{\"outlinewidth\":0,\"ticks\":\"\"}}],\"contour\":[{\"type\":\"contour\",\"colorbar\":{\"outlinewidth\":0,\"ticks\":\"\"},\"colorscale\":[[0.0,\"#0d0887\"],[0.1111111111111111,\"#46039f\"],[0.2222222222222222,\"#7201a8\"],[0.3333333333333333,\"#9c179e\"],[0.4444444444444444,\"#bd3786\"],[0.5555555555555556,\"#d8576b\"],[0.6666666666666666,\"#ed7953\"],[0.7777777777777778,\"#fb9f3a\"],[0.8888888888888888,\"#fdca26\"],[1.0,\"#f0f921\"]]}],\"surface\":[{\"type\":\"surface\",\"colorbar\":{\"outlinewidth\":0,\"ticks\":\"\"},\"colorscale\":[[0.0,\"#0d0887\"],[0.1111111111111111,\"#46039f\"],[0.2222222222222222,\"#7201a8\"],[0.3333333333333333,\"#9c179e\"],[0.4444444444444444,\"#bd3786\"],[0.5555555555555556,\"#d8576b\"],[0.6666666666666666,\"#ed7953\"],[0.7777777777777778,\"#fb9f3a\"],[0.8888888888888888,\"#fdca26\"],[1.0,\"#f0f921\"]]}],\"mesh3d\":[{\"type\":\"mesh3d\",\"colorbar\":{\"outlinewidth\":0,\"ticks\":\"\"}}],\"scatter\":[{\"fillpattern\":{\"fillmode\":\"overlay\",\"size\":10,\"solidity\":0.2},\"type\":\"scatter\"}],\"parcoords\":[{\"type\":\"parcoords\",\"line\":{\"colorbar\":{\"outlinewidth\":0,\"ticks\":\"\"}}}],\"scatterpolargl\":[{\"type\":\"scatterpolargl\",\"marker\":{\"colorbar\":{\"outlinewidth\":0,\"ticks\":\"\"}}}],\"bar\":[{\"error_x\":{\"color\":\"#2a3f5f\"},\"error_y\":{\"color\":\"#2a3f5f\"},\"marker\":{\"line\":{\"color\":\"#E5ECF6\",\"width\":0.5},\"pattern\":{\"fillmode\":\"overlay\",\"size\":10,\"solidity\":0.2}},\"type\":\"bar\"}],\"scattergeo\":[{\"type\":\"scattergeo\",\"marker\":{\"colorbar\":{\"outlinewidth\":0,\"ticks\":\"\"}}}],\"scatterpolar\":[{\"type\":\"scatterpolar\",\"marker\":{\"colorbar\":{\"outlinewidth\":0,\"ticks\":\"\"}}}],\"histogram\":[{\"marker\":{\"pattern\":{\"fillmode\":\"overlay\",\"size\":10,\"solidity\":0.2}},\"type\":\"histogram\"}],\"scattergl\":[{\"type\":\"scattergl\",\"marker\":{\"colorbar\":{\"outlinewidth\":0,\"ticks\":\"\"}}}],\"scatter3d\":[{\"type\":\"scatter3d\",\"line\":{\"colorbar\":{\"outlinewidth\":0,\"ticks\":\"\"}},\"marker\":{\"colorbar\":{\"outlinewidth\":0,\"ticks\":\"\"}}}],\"scattermapbox\":[{\"type\":\"scattermapbox\",\"marker\":{\"colorbar\":{\"outlinewidth\":0,\"ticks\":\"\"}}}],\"scatterternary\":[{\"type\":\"scatterternary\",\"marker\":{\"colorbar\":{\"outlinewidth\":0,\"ticks\":\"\"}}}],\"scattercarpet\":[{\"type\":\"scattercarpet\",\"marker\":{\"colorbar\":{\"outlinewidth\":0,\"ticks\":\"\"}}}],\"carpet\":[{\"aaxis\":{\"endlinecolor\":\"#2a3f5f\",\"gridcolor\":\"white\",\"linecolor\":\"white\",\"minorgridcolor\":\"white\",\"startlinecolor\":\"#2a3f5f\"},\"baxis\":{\"endlinecolor\":\"#2a3f5f\",\"gridcolor\":\"white\",\"linecolor\":\"white\",\"minorgridcolor\":\"white\",\"startlinecolor\":\"#2a3f5f\"},\"type\":\"carpet\"}],\"table\":[{\"cells\":{\"fill\":{\"color\":\"#EBF0F8\"},\"line\":{\"color\":\"white\"}},\"header\":{\"fill\":{\"color\":\"#C8D4E3\"},\"line\":{\"color\":\"white\"}},\"type\":\"table\"}],\"barpolar\":[{\"marker\":{\"line\":{\"color\":\"#E5ECF6\",\"width\":0.5},\"pattern\":{\"fillmode\":\"overlay\",\"size\":10,\"solidity\":0.2}},\"type\":\"barpolar\"}],\"pie\":[{\"automargin\":true,\"type\":\"pie\"}]},\"layout\":{\"autotypenumbers\":\"strict\",\"colorway\":[\"#636efa\",\"#EF553B\",\"#00cc96\",\"#ab63fa\",\"#FFA15A\",\"#19d3f3\",\"#FF6692\",\"#B6E880\",\"#FF97FF\",\"#FECB52\"],\"font\":{\"color\":\"#2a3f5f\"},\"hovermode\":\"closest\",\"hoverlabel\":{\"align\":\"left\"},\"paper_bgcolor\":\"white\",\"plot_bgcolor\":\"#E5ECF6\",\"polar\":{\"bgcolor\":\"#E5ECF6\",\"angularaxis\":{\"gridcolor\":\"white\",\"linecolor\":\"white\",\"ticks\":\"\"},\"radialaxis\":{\"gridcolor\":\"white\",\"linecolor\":\"white\",\"ticks\":\"\"}},\"ternary\":{\"bgcolor\":\"#E5ECF6\",\"aaxis\":{\"gridcolor\":\"white\",\"linecolor\":\"white\",\"ticks\":\"\"},\"baxis\":{\"gridcolor\":\"white\",\"linecolor\":\"white\",\"ticks\":\"\"},\"caxis\":{\"gridcolor\":\"white\",\"linecolor\":\"white\",\"ticks\":\"\"}},\"coloraxis\":{\"colorbar\":{\"outlinewidth\":0,\"ticks\":\"\"}},\"colorscale\":{\"sequential\":[[0.0,\"#0d0887\"],[0.1111111111111111,\"#46039f\"],[0.2222222222222222,\"#7201a8\"],[0.3333333333333333,\"#9c179e\"],[0.4444444444444444,\"#bd3786\"],[0.5555555555555556,\"#d8576b\"],[0.6666666666666666,\"#ed7953\"],[0.7777777777777778,\"#fb9f3a\"],[0.8888888888888888,\"#fdca26\"],[1.0,\"#f0f921\"]],\"sequentialminus\":[[0.0,\"#0d0887\"],[0.1111111111111111,\"#46039f\"],[0.2222222222222222,\"#7201a8\"],[0.3333333333333333,\"#9c179e\"],[0.4444444444444444,\"#bd3786\"],[0.5555555555555556,\"#d8576b\"],[0.6666666666666666,\"#ed7953\"],[0.7777777777777778,\"#fb9f3a\"],[0.8888888888888888,\"#fdca26\"],[1.0,\"#f0f921\"]],\"diverging\":[[0,\"#8e0152\"],[0.1,\"#c51b7d\"],[0.2,\"#de77ae\"],[0.3,\"#f1b6da\"],[0.4,\"#fde0ef\"],[0.5,\"#f7f7f7\"],[0.6,\"#e6f5d0\"],[0.7,\"#b8e186\"],[0.8,\"#7fbc41\"],[0.9,\"#4d9221\"],[1,\"#276419\"]]},\"xaxis\":{\"gridcolor\":\"white\",\"linecolor\":\"white\",\"ticks\":\"\",\"title\":{\"standoff\":15},\"zerolinecolor\":\"white\",\"automargin\":true,\"zerolinewidth\":2},\"yaxis\":{\"gridcolor\":\"white\",\"linecolor\":\"white\",\"ticks\":\"\",\"title\":{\"standoff\":15},\"zerolinecolor\":\"white\",\"automargin\":true,\"zerolinewidth\":2},\"scene\":{\"xaxis\":{\"backgroundcolor\":\"#E5ECF6\",\"gridcolor\":\"white\",\"linecolor\":\"white\",\"showbackground\":true,\"ticks\":\"\",\"zerolinecolor\":\"white\",\"gridwidth\":2},\"yaxis\":{\"backgroundcolor\":\"#E5ECF6\",\"gridcolor\":\"white\",\"linecolor\":\"white\",\"showbackground\":true,\"ticks\":\"\",\"zerolinecolor\":\"white\",\"gridwidth\":2},\"zaxis\":{\"backgroundcolor\":\"#E5ECF6\",\"gridcolor\":\"white\",\"linecolor\":\"white\",\"showbackground\":true,\"ticks\":\"\",\"zerolinecolor\":\"white\",\"gridwidth\":2}},\"shapedefaults\":{\"line\":{\"color\":\"#2a3f5f\"}},\"annotationdefaults\":{\"arrowcolor\":\"#2a3f5f\",\"arrowhead\":0,\"arrowwidth\":1},\"geo\":{\"bgcolor\":\"white\",\"landcolor\":\"#E5ECF6\",\"subunitcolor\":\"white\",\"showland\":true,\"showlakes\":true,\"lakecolor\":\"white\"},\"title\":{\"x\":0.05},\"mapbox\":{\"style\":\"light\"}}},\"xaxis\":{\"anchor\":\"y\",\"domain\":[0.0,1.0],\"title\":{\"text\":\"Category\"}},\"yaxis\":{\"anchor\":\"x\",\"domain\":[0.0,1.0],\"title\":{\"text\":\"Frequency\"}},\"legend\":{\"title\":{\"text\":\"Data\"},\"tracegroupgap\":0},\"margin\":{\"t\":60},\"barmode\":\"group\",\"title\":{\"text\":\"Real vs. Synthetic Data for column 'credit_history'\"},\"plot_bgcolor\":\"#F5F5F8\"},                        {\"responsive\": true}                    ).then(function(){\n",
              "                            \n",
              "var gd = document.getElementById('5ef7901e-1032-48e5-a983-3f3c8b439ad1');\n",
              "var x = new MutationObserver(function (mutations, observer) {{\n",
              "        var display = window.getComputedStyle(gd).display;\n",
              "        if (!display || display === 'none') {{\n",
              "            console.log([gd, 'removed!']);\n",
              "            Plotly.purge(gd);\n",
              "            observer.disconnect();\n",
              "        }}\n",
              "}});\n",
              "\n",
              "// Listen for the removal of the full notebook cells\n",
              "var notebookContainer = gd.closest('#notebook-container');\n",
              "if (notebookContainer) {{\n",
              "    x.observe(notebookContainer, {childList: true});\n",
              "}}\n",
              "\n",
              "// Listen for the clearing of the current output cell\n",
              "var outputEl = gd.closest('.output');\n",
              "if (outputEl) {{\n",
              "    x.observe(outputEl, {childList: true});\n",
              "}}\n",
              "\n",
              "                        })                };                            </script>        </div>\n",
              "</body>\n",
              "</html>"
            ]
          },
          "metadata": {}
        }
      ]
    },
    {
      "cell_type": "markdown",
      "source": [
        "## CTGANSynthesizer"
      ],
      "metadata": {
        "id": "Pp3QnVqghCSy"
      }
    },
    {
      "cell_type": "code",
      "source": [
        "synthesizer2 = CTGANSynthesizer(metadata)\n",
        "synthesizer2.fit(train_data)"
      ],
      "metadata": {
        "id": "_AaKKr8Qw2Zt"
      },
      "execution_count": 18,
      "outputs": []
    },
    {
      "cell_type": "code",
      "source": [
        "synthesizer2.reset_sampling()\n",
        "synthetic_data2 = synthesizer2.sample(num_rows=250)\n",
        "for column in synthetic_data2:\n",
        "  print(\"------------------------------\\n\", synthetic_data2[column].value_counts(), sep ='')"
      ],
      "metadata": {
        "colab": {
          "base_uri": "https://localhost:8080/"
        },
        "id": "9EjYkT10i6_R",
        "outputId": "ffdb199e-4ed4-48fb-ddf7-8648014dcc58"
      },
      "execution_count": 19,
      "outputs": [
        {
          "output_type": "stream",
          "name": "stdout",
          "text": [
            "------------------------------\n",
            "0    184\n",
            "1     66\n",
            "Name: default, dtype: int64\n",
            "------------------------------\n",
            "no checking account                                   114\n",
            "0 <= ... < 200 DM                                      66\n",
            "< 0 DM                                                 55\n",
            ">= 200 DM / salary assignments for at least 1 year     15\n",
            "Name: account_check_status, dtype: int64\n",
            "------------------------------\n",
            "4     31\n",
            "22    25\n",
            "20    18\n",
            "21    18\n",
            "23    17\n",
            "24    16\n",
            "14    10\n",
            "6      9\n",
            "13     9\n",
            "15     8\n",
            "17     7\n",
            "12     7\n",
            "7      6\n",
            "18     6\n",
            "8      6\n",
            "5      5\n",
            "11     5\n",
            "10     5\n",
            "9      5\n",
            "16     4\n",
            "26     3\n",
            "19     3\n",
            "27     3\n",
            "25     3\n",
            "36     2\n",
            "33     2\n",
            "51     2\n",
            "32     2\n",
            "30     2\n",
            "60     2\n",
            "35     2\n",
            "28     1\n",
            "29     1\n",
            "53     1\n",
            "45     1\n",
            "34     1\n",
            "55     1\n",
            "31     1\n",
            "Name: duration_in_month, dtype: int64\n",
            "------------------------------\n",
            "existing credits paid back duly till now                       145\n",
            "critical account/ other credits existing (not at this bank)     63\n",
            "delay in paying off in the past                                 20\n",
            "no credits taken/ all credits paid back duly                    16\n",
            "all credits at this bank paid back duly                          6\n",
            "Name: credit_history, dtype: int64\n",
            "------------------------------\n",
            "domestic appliances             88\n",
            "car (new)                       49\n",
            "radio/television                41\n",
            "business                        25\n",
            "car (used)                      23\n",
            "(vacation - does not exist?)    12\n",
            "furniture/equipment              6\n",
            "repairs                          4\n",
            "retraining                       1\n",
            "education                        1\n",
            "Name: purpose, dtype: int64\n",
            "------------------------------\n",
            "250      51\n",
            "372       2\n",
            "276       2\n",
            "497       2\n",
            "1008      2\n",
            "         ..\n",
            "1563      1\n",
            "2903      1\n",
            "2346      1\n",
            "15672     1\n",
            "425       1\n",
            "Name: credit_amount, Length: 193, dtype: int64\n",
            "------------------------------\n",
            "... < 100 DM                   169\n",
            "unknown/ no savings account     32\n",
            "100 <= ... < 500 DM             22\n",
            ".. >= 1000 DM                   16\n",
            "500 <= ... < 1000 DM            11\n",
            "Name: savings, dtype: int64\n",
            "------------------------------\n",
            "1 <= ... < 4 years    87\n",
            ".. >= 7 years         61\n",
            "4 <= ... < 7 years    49\n",
            "... < 1 year          32\n",
            "unemployed            21\n",
            "Name: present_emp_since, dtype: int64\n",
            "------------------------------\n",
            "2    93\n",
            "3    78\n",
            "4    63\n",
            "1    16\n",
            "Name: installment_as_income_perc, dtype: int64\n",
            "------------------------------\n",
            "male      161\n",
            "female     89\n",
            "Name: sex, dtype: int64\n",
            "------------------------------\n",
            "single      126\n",
            "divorced    105\n",
            "married      19\n",
            "Name: personal_status, dtype: int64\n",
            "------------------------------\n",
            "none            218\n",
            "guarantor        20\n",
            "co-applicant     12\n",
            "Name: other_debtors, dtype: int64\n",
            "------------------------------\n",
            "2    87\n",
            "1    71\n",
            "4    69\n",
            "3    23\n",
            "Name: present_res_since, dtype: int64\n",
            "------------------------------\n",
            "if not A121 : building society savings agreement/ life insurance    74\n",
            "real estate                                                         68\n",
            "if not A121/A122 : car or other, not in attribute 6                 64\n",
            "unknown / no property                                               44\n",
            "Name: property, dtype: int64\n",
            "------------------------------\n",
            "19    32\n",
            "27    16\n",
            "23    15\n",
            "28    13\n",
            "26    13\n",
            "24    12\n",
            "31    11\n",
            "22    11\n",
            "25    11\n",
            "30    10\n",
            "21    10\n",
            "20     7\n",
            "32     7\n",
            "40     7\n",
            "36     6\n",
            "29     6\n",
            "37     6\n",
            "51     5\n",
            "44     5\n",
            "38     4\n",
            "43     3\n",
            "35     3\n",
            "56     3\n",
            "52     3\n",
            "34     3\n",
            "45     3\n",
            "50     2\n",
            "61     2\n",
            "49     2\n",
            "55     2\n",
            "57     2\n",
            "70     2\n",
            "41     2\n",
            "39     2\n",
            "48     2\n",
            "47     2\n",
            "69     1\n",
            "67     1\n",
            "58     1\n",
            "33     1\n",
            "62     1\n",
            "Name: age, dtype: int64\n",
            "------------------------------\n",
            "none      197\n",
            "bank       41\n",
            "stores     12\n",
            "Name: other_installment_plans, dtype: int64\n",
            "------------------------------\n",
            "own         161\n",
            "rent         59\n",
            "for free     30\n",
            "Name: housing, dtype: int64\n",
            "------------------------------\n",
            "1    123\n",
            "2    117\n",
            "3      7\n",
            "4      3\n",
            "Name: credits_this_bank, dtype: int64\n",
            "------------------------------\n",
            "skilled employee / official                                      164\n",
            "unskilled - resident                                              46\n",
            "management/ self-employed/ highly qualified employee/ officer     31\n",
            "unemployed/ unskilled - non-resident                               9\n",
            "Name: job, dtype: int64\n",
            "------------------------------\n",
            "1    186\n",
            "2     64\n",
            "Name: people_under_maintenance, dtype: int64\n",
            "------------------------------\n",
            "none                                        130\n",
            "yes, registered under the customers name    120\n",
            "Name: telephone, dtype: int64\n",
            "------------------------------\n",
            "yes    239\n",
            "no      11\n",
            "Name: foreign_worker, dtype: int64\n"
          ]
        }
      ]
    },
    {
      "cell_type": "code",
      "source": [
        "Y_train_aug2 = synthetic_data2['default']\n",
        "X_train_aug2 = synthetic_data2.drop(columns=\"default\")\n",
        "\n",
        "clf_logistic_regression.fit(pd.concat([X_train, X_train_aug2]), pd.concat([Y_train, Y_train_aug2]))\n",
        "clf_logistic_regression.score(X_test, Y_test)"
      ],
      "metadata": {
        "id": "1pK_qyU0DxoY",
        "colab": {
          "base_uri": "https://localhost:8080/"
        },
        "outputId": "617a953b-d964-4da6-dabb-97d191cad0ea"
      },
      "execution_count": 20,
      "outputs": [
        {
          "output_type": "execute_result",
          "data": {
            "text/plain": [
              "0.79"
            ]
          },
          "metadata": {},
          "execution_count": 20
        }
      ]
    },
    {
      "cell_type": "markdown",
      "source": [
        "0.79 improves on original accuracy"
      ],
      "metadata": {
        "id": "oawsMH_uj1VB"
      }
    },
    {
      "cell_type": "code",
      "source": [
        "quality_report2 = evaluate_quality(\n",
        "    real_data=train_data,\n",
        "    synthetic_data=synthetic_data2,\n",
        "    metadata=metadata)"
      ],
      "metadata": {
        "colab": {
          "base_uri": "https://localhost:8080/"
        },
        "id": "xSVGsLkkkZJk",
        "outputId": "4e46d5e8-a1e6-44a3-ebcd-1d55f8d227a2"
      },
      "execution_count": 21,
      "outputs": [
        {
          "output_type": "stream",
          "name": "stderr",
          "text": [
            "Creating report: 100%|██████████| 4/4 [00:03<00:00,  1.30it/s]\n"
          ]
        },
        {
          "output_type": "stream",
          "name": "stdout",
          "text": [
            "\n",
            "Overall Quality Score: 86.51%\n",
            "\n",
            "Properties:\n",
            "Column Shapes: 89.28%\n",
            "Column Pair Trends: 83.74%\n"
          ]
        }
      ]
    },
    {
      "cell_type": "code",
      "source": [
        "diagnostic_report2 = run_diagnostic(\n",
        "    real_data=train_data,\n",
        "    synthetic_data=synthetic_data2,\n",
        "    metadata=metadata)"
      ],
      "metadata": {
        "colab": {
          "base_uri": "https://localhost:8080/"
        },
        "id": "bEaIhbNrkm5B",
        "outputId": "3ae0e5a7-fc2a-4db9-c207-1fec0903cbf0"
      },
      "execution_count": 22,
      "outputs": [
        {
          "output_type": "stream",
          "name": "stderr",
          "text": [
            "Creating report: 100%|██████████| 4/4 [00:05<00:00,  1.36s/it]"
          ]
        },
        {
          "output_type": "stream",
          "name": "stdout",
          "text": [
            "\n",
            "DiagnosticResults:\n",
            "\n",
            "SUCCESS:\n",
            "✓ The synthetic data covers over 90% of the numerical ranges present in the real data\n",
            "✓ The synthetic data covers over 90% of the categories present in the real data\n",
            "✓ Over 90% of the synthetic rows are not copies of the real data\n",
            "✓ The synthetic data follows over 90% of the min/max boundaries set by the real data\n"
          ]
        },
        {
          "output_type": "stream",
          "name": "stderr",
          "text": [
            "\n"
          ]
        }
      ]
    },
    {
      "cell_type": "code",
      "source": [
        "fig2 = get_column_plot(\n",
        "    real_data=train_data,\n",
        "    synthetic_data=synthetic_data2,\n",
        "    column_name='credit_history',\n",
        "    metadata=metadata\n",
        ")\n",
        "\n",
        "fig2.show()"
      ],
      "metadata": {
        "colab": {
          "base_uri": "https://localhost:8080/",
          "height": 0
        },
        "id": "hYtFtdkdlwuJ",
        "outputId": "0347b456-052d-4f54-9aa9-4c6d4cbf0983"
      },
      "execution_count": 23,
      "outputs": [
        {
          "output_type": "display_data",
          "data": {
            "text/html": [
              "<html>\n",
              "<head><meta charset=\"utf-8\" /></head>\n",
              "<body>\n",
              "    <div>            <script src=\"https://cdnjs.cloudflare.com/ajax/libs/mathjax/2.7.5/MathJax.js?config=TeX-AMS-MML_SVG\"></script><script type=\"text/javascript\">if (window.MathJax && window.MathJax.Hub && window.MathJax.Hub.Config) {window.MathJax.Hub.Config({SVG: {font: \"STIX-Web\"}});}</script>                <script type=\"text/javascript\">window.PlotlyConfig = {MathJaxConfig: 'local'};</script>\n",
              "        <script src=\"https://cdn.plot.ly/plotly-2.18.2.min.js\"></script>                <div id=\"59c18aa7-4e68-4e72-8035-9746dd45021e\" class=\"plotly-graph-div\" style=\"height:525px; width:100%;\"></div>            <script type=\"text/javascript\">                                    window.PLOTLYENV=window.PLOTLYENV || {};                                    if (document.getElementById(\"59c18aa7-4e68-4e72-8035-9746dd45021e\")) {                    Plotly.newPlot(                        \"59c18aa7-4e68-4e72-8035-9746dd45021e\",                        [{\"alignmentgroup\":\"True\",\"bingroup\":\"x\",\"histnorm\":\"probability density\",\"hovertemplate\":\"<b>Real</b><br>Frequency: %{y}<extra></extra>\",\"legendgroup\":\"Real\",\"marker\":{\"color\":\"#000036\",\"pattern\":{\"shape\":\"\"}},\"name\":\"Real\",\"offsetgroup\":\"Real\",\"orientation\":\"v\",\"showlegend\":true,\"x\":[\"no credits taken/ all credits paid back duly\",\"existing credits paid back duly till now\",\"existing credits paid back duly till now\",\"critical account/ other credits existing (not at this bank)\",\"existing credits paid back duly till now\",\"existing credits paid back duly till now\",\"existing credits paid back duly till now\",\"existing credits paid back duly till now\",\"delay in paying off in the past\",\"critical account/ other credits existing (not at this bank)\",\"existing credits paid back duly till now\",\"critical account/ other credits existing (not at this bank)\",\"existing credits paid back duly till now\",\"no credits taken/ all credits paid back duly\",\"no credits taken/ all credits paid back duly\",\"critical account/ other credits existing (not at this bank)\",\"no credits taken/ all credits paid back duly\",\"all credits at this bank paid back duly\",\"existing credits paid back duly till now\",\"critical account/ other credits existing (not at this bank)\",\"delay in paying off in the past\",\"existing credits paid back duly till now\",\"existing credits paid back duly till now\",\"existing credits paid back duly till now\",\"existing credits paid back duly till now\",\"critical account/ other credits existing (not at this bank)\",\"critical account/ other credits existing (not at this bank)\",\"existing credits paid back duly till now\",\"existing credits paid back duly till now\",\"existing credits paid back duly till now\",\"existing credits paid back duly till now\",\"critical account/ other credits existing (not at this bank)\",\"critical account/ other credits existing (not at this bank)\",\"existing credits paid back duly till now\",\"critical account/ other credits existing (not at this bank)\",\"existing credits paid back duly till now\",\"delay in paying off in the past\",\"existing credits paid back duly till now\",\"critical account/ other credits existing (not at this bank)\",\"existing credits paid back duly till now\",\"critical account/ other credits existing (not at this bank)\",\"existing credits paid back duly till now\",\"existing credits paid back duly till now\",\"existing credits paid back duly till now\",\"critical account/ other credits existing (not at this bank)\",\"existing credits paid back duly till now\",\"existing credits paid back duly till now\",\"existing credits paid back duly till now\",\"existing credits paid back duly till now\",\"existing credits paid back duly till now\",\"critical account/ other credits existing (not at this bank)\",\"critical account/ other credits existing (not at this bank)\",\"existing credits paid back duly till now\",\"delay in paying off in the past\",\"existing credits paid back duly till now\",\"existing credits paid back duly till now\",\"critical account/ other credits existing (not at this bank)\",\"existing credits paid back duly till now\",\"existing credits paid back duly till now\",\"critical account/ other credits existing (not at this bank)\",\"all credits at this bank paid back duly\",\"existing credits paid back duly till now\",\"critical account/ other credits existing (not at this bank)\",\"critical account/ other credits existing (not at this bank)\",\"no credits taken/ all credits paid back duly\",\"existing credits paid back duly till now\",\"existing credits paid back duly till now\",\"existing credits paid back duly till now\",\"delay in paying off in the past\",\"delay in paying off in the past\",\"existing credits paid back duly till now\",\"existing credits paid back duly till now\",\"existing credits paid back duly till now\",\"existing credits paid back duly till now\",\"critical account/ other credits existing (not at this bank)\",\"critical account/ other credits existing (not at this bank)\",\"existing credits paid back duly till now\",\"existing credits paid back duly till now\",\"existing credits paid back duly till now\",\"all credits at this bank paid back duly\",\"delay in paying off in the past\",\"existing credits paid back duly till now\",\"existing credits paid back duly till now\",\"existing credits paid back duly till now\",\"delay in paying off in the past\",\"no credits taken/ all credits paid back duly\",\"existing credits paid back duly till now\",\"existing credits paid back duly till now\",\"existing credits paid back duly till now\",\"existing credits paid back duly till now\",\"existing credits paid back duly till now\",\"critical account/ other credits existing (not at this bank)\",\"critical account/ other credits existing (not at this bank)\",\"existing credits paid back duly till now\",\"critical account/ other credits existing (not at this bank)\",\"critical account/ other credits existing (not at this bank)\",\"existing credits paid back duly till now\",\"existing credits paid back duly till now\",\"existing credits paid back duly till now\",\"existing credits paid back duly till now\",\"existing credits paid back duly till now\",\"existing credits paid back duly till now\",\"existing credits paid back duly till now\",\"existing credits paid back duly till now\",\"existing credits paid back duly till now\",\"existing credits paid back duly till now\",\"existing credits paid back duly till now\",\"no credits taken/ all credits paid back duly\",\"critical account/ other credits existing (not at this bank)\",\"delay in paying off in the past\",\"critical account/ other credits existing (not at this bank)\",\"existing credits paid back duly till now\",\"existing credits paid back duly till now\",\"existing credits paid back duly till now\",\"existing credits paid back duly till now\",\"critical account/ other credits existing (not at this bank)\",\"existing credits paid back duly till now\",\"critical account/ other credits existing (not at this bank)\",\"critical account/ other credits existing (not at this bank)\",\"existing credits paid back duly till now\",\"all credits at this bank paid back duly\",\"critical account/ other credits existing (not at this bank)\",\"critical account/ other credits existing (not at this bank)\",\"existing credits paid back duly till now\",\"existing credits paid back duly till now\",\"critical account/ other credits existing (not at this bank)\",\"existing credits paid back duly till now\",\"existing credits paid back duly till now\",\"existing credits paid back duly till now\",\"existing credits paid back duly till now\",\"delay in paying off in the past\",\"existing credits paid back duly till now\",\"no credits taken/ all credits paid back duly\",\"existing credits paid back duly till now\",\"existing credits paid back duly till now\",\"no credits taken/ all credits paid back duly\",\"existing credits paid back duly till now\",\"no credits taken/ all credits paid back duly\",\"delay in paying off in the past\",\"critical account/ other credits existing (not at this bank)\",\"existing credits paid back duly till now\",\"existing credits paid back duly till now\",\"critical account/ other credits existing (not at this bank)\",\"existing credits paid back duly till now\",\"existing credits paid back duly till now\",\"existing credits paid back duly till now\",\"existing credits paid back duly till now\",\"existing credits paid back duly till now\",\"existing credits paid back duly till now\",\"existing credits paid back duly till now\",\"critical account/ other credits existing (not at this bank)\",\"critical account/ other credits existing (not at this bank)\",\"existing credits paid back duly till now\",\"existing credits paid back duly till now\",\"existing credits paid back duly till now\",\"all credits at this bank paid back duly\",\"all credits at this bank paid back duly\",\"existing credits paid back duly till now\",\"all credits at this bank paid back duly\",\"critical account/ other credits existing (not at this bank)\",\"delay in paying off in the past\",\"existing credits paid back duly till now\",\"delay in paying off in the past\",\"delay in paying off in the past\",\"existing credits paid back duly till now\",\"critical account/ other credits existing (not at this bank)\",\"delay in paying off in the past\",\"critical account/ other credits existing (not at this bank)\",\"critical account/ other credits existing (not at this bank)\",\"critical account/ other credits existing (not at this bank)\",\"existing credits paid back duly till now\",\"existing credits paid back duly till now\",\"existing credits paid back duly till now\",\"existing credits paid back duly till now\",\"critical account/ other credits existing (not at this bank)\",\"existing credits paid back duly till now\",\"critical account/ other credits existing (not at this bank)\",\"existing credits paid back duly till now\",\"existing credits paid back duly till now\",\"existing credits paid back duly till now\",\"delay in paying off in the past\",\"existing credits paid back duly till now\",\"existing credits paid back duly till now\",\"critical account/ other credits existing (not at this bank)\",\"critical account/ other credits existing (not at this bank)\",\"delay in paying off in the past\",\"existing credits paid back duly till now\",\"existing credits paid back duly till now\",\"existing credits paid back duly till now\",\"delay in paying off in the past\",\"no credits taken/ all credits paid back duly\",\"existing credits paid back duly till now\",\"existing credits paid back duly till now\",\"existing credits paid back duly till now\",\"all credits at this bank paid back duly\",\"existing credits paid back duly till now\",\"existing credits paid back duly till now\",\"existing credits paid back duly till now\",\"critical account/ other credits existing (not at this bank)\",\"existing credits paid back duly till now\",\"no credits taken/ all credits paid back duly\",\"all credits at this bank paid back duly\",\"existing credits paid back duly till now\",\"existing credits paid back duly till now\",\"existing credits paid back duly till now\",\"existing credits paid back duly till now\",\"existing credits paid back duly till now\",\"existing credits paid back duly till now\",\"existing credits paid back duly till now\",\"all credits at this bank paid back duly\",\"critical account/ other credits existing (not at this bank)\",\"existing credits paid back duly till now\",\"critical account/ other credits existing (not at this bank)\",\"existing credits paid back duly till now\",\"all credits at this bank paid back duly\",\"delay in paying off in the past\",\"critical account/ other credits existing (not at this bank)\",\"existing credits paid back duly till now\",\"delay in paying off in the past\",\"existing credits paid back duly till now\",\"delay in paying off in the past\",\"existing credits paid back duly till now\",\"critical account/ other credits existing (not at this bank)\",\"existing credits paid back duly till now\",\"existing credits paid back duly till now\",\"critical account/ other credits existing (not at this bank)\",\"critical account/ other credits existing (not at this bank)\",\"critical account/ other credits existing (not at this bank)\",\"existing credits paid back duly till now\",\"existing credits paid back duly till now\",\"delay in paying off in the past\",\"existing credits paid back duly till now\",\"existing credits paid back duly till now\",\"all credits at this bank paid back duly\",\"existing credits paid back duly till now\",\"existing credits paid back duly till now\",\"existing credits paid back duly till now\",\"critical account/ other credits existing (not at this bank)\",\"no credits taken/ all credits paid back duly\",\"existing credits paid back duly till now\",\"critical account/ other credits existing (not at this bank)\",\"existing credits paid back duly till now\",\"existing credits paid back duly till now\",\"existing credits paid back duly till now\",\"critical account/ other credits existing (not at this bank)\",\"critical account/ other credits existing (not at this bank)\",\"existing credits paid back duly till now\",\"critical account/ other credits existing (not at this bank)\",\"existing credits paid back duly till now\",\"existing credits paid back duly till now\",\"existing credits paid back duly till now\",\"existing credits paid back duly till now\",\"existing credits paid back duly till now\",\"delay in paying off in the past\",\"critical account/ other credits existing (not at this bank)\",\"critical account/ other credits existing (not at this bank)\",\"critical account/ other credits existing (not at this bank)\",\"critical account/ other credits existing (not at this bank)\",\"critical account/ other credits existing (not at this bank)\",\"critical account/ other credits existing (not at this bank)\",\"critical account/ other credits existing (not at this bank)\",\"existing credits paid back duly till now\",\"existing credits paid back duly till now\",\"critical account/ other credits existing (not at this bank)\",\"existing credits paid back duly till now\",\"existing credits paid back duly till now\",\"no credits taken/ all credits paid back duly\",\"no credits taken/ all credits paid back duly\",\"existing credits paid back duly till now\",\"existing credits paid back duly till now\",\"existing credits paid back duly till now\",\"delay in paying off in the past\",\"critical account/ other credits existing (not at this bank)\",\"existing credits paid back duly till now\",\"existing credits paid back duly till now\",\"existing credits paid back duly till now\",\"existing credits paid back duly till now\",\"existing credits paid back duly till now\",\"existing credits paid back duly till now\",\"critical account/ other credits existing (not at this bank)\",\"critical account/ other credits existing (not at this bank)\",\"all credits at this bank paid back duly\",\"delay in paying off in the past\",\"critical account/ other credits existing (not at this bank)\",\"no credits taken/ all credits paid back duly\",\"critical account/ other credits existing (not at this bank)\",\"existing credits paid back duly till now\",\"existing credits paid back duly till now\",\"critical account/ other credits existing (not at this bank)\",\"critical account/ other credits existing (not at this bank)\",\"existing credits paid back duly till now\",\"critical account/ other credits existing (not at this bank)\",\"existing credits paid back duly till now\",\"critical account/ other credits existing (not at this bank)\",\"existing credits paid back duly till now\",\"critical account/ other credits existing (not at this bank)\",\"existing credits paid back duly till now\",\"existing credits paid back duly till now\",\"existing credits paid back duly till now\",\"critical account/ other credits existing (not at this bank)\",\"existing credits paid back duly till now\",\"critical account/ other credits existing (not at this bank)\",\"critical account/ other credits existing (not at this bank)\",\"critical account/ other credits existing (not at this bank)\",\"existing credits paid back duly till now\",\"critical account/ other credits existing (not at this bank)\",\"existing credits paid back duly till now\",\"delay in paying off in the past\",\"critical account/ other credits existing (not at this bank)\",\"existing credits paid back duly till now\",\"critical account/ other credits existing (not at this bank)\",\"existing credits paid back duly till now\",\"existing credits paid back duly till now\",\"existing credits paid back duly till now\",\"existing credits paid back duly till now\",\"critical account/ other credits existing (not at this bank)\",\"existing credits paid back duly till now\",\"all credits at this bank paid back duly\",\"critical account/ other credits existing (not at this bank)\",\"existing credits paid back duly till now\",\"all credits at this bank paid back duly\",\"critical account/ other credits existing (not at this bank)\",\"existing credits paid back duly till now\",\"existing credits paid back duly till now\",\"existing credits paid back duly till now\",\"critical account/ other credits existing (not at this bank)\",\"critical account/ other credits existing (not at this bank)\",\"existing credits paid back duly till now\",\"critical account/ other credits existing (not at this bank)\",\"critical account/ other credits existing (not at this bank)\",\"critical account/ other credits existing (not at this bank)\",\"critical account/ other credits existing (not at this bank)\",\"critical account/ other credits existing (not at this bank)\",\"existing credits paid back duly till now\",\"existing credits paid back duly till now\",\"critical account/ other credits existing (not at this bank)\",\"existing credits paid back duly till now\",\"existing credits paid back duly till now\",\"existing credits paid back duly till now\",\"critical account/ other credits existing (not at this bank)\",\"existing credits paid back duly till now\",\"critical account/ other credits existing (not at this bank)\",\"existing credits paid back duly till now\",\"delay in paying off in the past\",\"existing credits paid back duly till now\",\"existing credits paid back duly till now\",\"critical account/ other credits existing (not at this bank)\",\"critical account/ other credits existing (not at this bank)\",\"critical account/ other credits existing (not at this bank)\",\"existing credits paid back duly till now\",\"existing credits paid back duly till now\",\"existing credits paid back duly till now\",\"existing credits paid back duly till now\",\"existing credits paid back duly till now\",\"delay in paying off in the past\",\"existing credits paid back duly till now\",\"existing credits paid back duly till now\",\"critical account/ other credits existing (not at this bank)\",\"existing credits paid back duly till now\",\"delay in paying off in the past\",\"delay in paying off in the past\",\"critical account/ other credits existing (not at this bank)\",\"existing credits paid back duly till now\",\"existing credits paid back duly till now\",\"critical account/ other credits existing (not at this bank)\",\"existing credits paid back duly till now\",\"critical account/ other credits existing (not at this bank)\",\"all credits at this bank paid back duly\",\"critical account/ other credits existing (not at this bank)\",\"existing credits paid back duly till now\",\"existing credits paid back duly till now\",\"critical account/ other credits existing (not at this bank)\",\"critical account/ other credits existing (not at this bank)\",\"critical account/ other credits existing (not at this bank)\",\"critical account/ other credits existing (not at this bank)\",\"critical account/ other credits existing (not at this bank)\",\"existing credits paid back duly till now\",\"existing credits paid back duly till now\",\"existing credits paid back duly till now\",\"existing credits paid back duly till now\",\"all credits at this bank paid back duly\",\"critical account/ other credits existing (not at this bank)\",\"existing credits paid back duly till now\",\"existing credits paid back duly till now\",\"existing credits paid back duly till now\",\"existing credits paid back duly till now\",\"existing credits paid back duly till now\",\"delay in paying off in the past\",\"delay in paying off in the past\",\"critical account/ other credits existing (not at this bank)\",\"critical account/ other credits existing (not at this bank)\",\"existing credits paid back duly till now\",\"existing credits paid back duly till now\",\"delay in paying off in the past\",\"existing credits paid back duly till now\",\"existing credits paid back duly till now\",\"critical account/ other credits existing (not at this bank)\",\"existing credits paid back duly till now\",\"critical account/ other credits existing (not at this bank)\",\"critical account/ other credits existing (not at this bank)\",\"no credits taken/ all credits paid back duly\",\"existing credits paid back duly till now\",\"existing credits paid back duly till now\",\"existing credits paid back duly till now\",\"existing credits paid back duly till now\",\"existing credits paid back duly till now\",\"existing credits paid back duly till now\",\"existing credits paid back duly till now\",\"critical account/ other credits existing (not at this bank)\",\"existing credits paid back duly till now\",\"critical account/ other credits existing (not at this bank)\",\"existing credits paid back duly till now\",\"existing credits paid back duly till now\",\"existing credits paid back duly till now\",\"existing credits paid back duly till now\",\"all credits at this bank paid back duly\",\"existing credits paid back duly till now\",\"all credits at this bank paid back duly\",\"existing credits paid back duly till now\",\"existing credits paid back duly till now\",\"existing credits paid back duly till now\",\"existing credits paid back duly till now\",\"critical account/ other credits existing (not at this bank)\",\"critical account/ other credits existing (not at this bank)\",\"existing credits paid back duly till now\",\"critical account/ other credits existing (not at this bank)\",\"critical account/ other credits existing (not at this bank)\",\"delay in paying off in the past\",\"no credits taken/ all credits paid back duly\",\"critical account/ other credits existing (not at this bank)\",\"critical account/ other credits existing (not at this bank)\",\"existing credits paid back duly till now\",\"critical account/ other credits existing (not at this bank)\",\"critical account/ other credits existing (not at this bank)\",\"existing credits paid back duly till now\",\"existing credits paid back duly till now\",\"critical account/ other credits existing (not at this bank)\",\"critical account/ other credits existing (not at this bank)\",\"delay in paying off in the past\",\"critical account/ other credits existing (not at this bank)\",\"existing credits paid back duly till now\",\"critical account/ other credits existing (not at this bank)\",\"delay in paying off in the past\",\"existing credits paid back duly till now\",\"critical account/ other credits existing (not at this bank)\",\"critical account/ other credits existing (not at this bank)\",\"existing credits paid back duly till now\",\"existing credits paid back duly till now\",\"critical account/ other credits existing (not at this bank)\",\"critical account/ other credits existing (not at this bank)\",\"existing credits paid back duly till now\",\"existing credits paid back duly till now\",\"critical account/ other credits existing (not at this bank)\",\"delay in paying off in the past\",\"critical account/ other credits existing (not at this bank)\",\"existing credits paid back duly till now\",\"existing credits paid back duly till now\",\"critical account/ other credits existing (not at this bank)\",\"existing credits paid back duly till now\",\"critical account/ other credits existing (not at this bank)\",\"existing credits paid back duly till now\",\"existing credits paid back duly till now\",\"existing credits paid back duly till now\",\"critical account/ other credits existing (not at this bank)\",\"no credits taken/ all credits paid back duly\",\"existing credits paid back duly till now\",\"existing credits paid back duly till now\",\"critical account/ other credits existing (not at this bank)\",\"critical account/ other credits existing (not at this bank)\",\"existing credits paid back duly till now\",\"existing credits paid back duly till now\",\"existing credits paid back duly till now\",\"existing credits paid back duly till now\",\"critical account/ other credits existing (not at this bank)\",\"critical account/ other credits existing (not at this bank)\",\"critical account/ other credits existing (not at this bank)\",\"delay in paying off in the past\",\"existing credits paid back duly till now\",\"existing credits paid back duly till now\",\"existing credits paid back duly till now\",\"existing credits paid back duly till now\",\"no credits taken/ all credits paid back duly\",\"existing credits paid back duly till now\",\"existing credits paid back duly till now\",\"critical account/ other credits existing (not at this bank)\",\"existing credits paid back duly till now\",\"existing credits paid back duly till now\",\"no credits taken/ all credits paid back duly\",\"existing credits paid back duly till now\",\"critical account/ other credits existing (not at this bank)\",\"existing credits paid back duly till now\",\"existing credits paid back duly till now\",\"critical account/ other credits existing (not at this bank)\",\"existing credits paid back duly till now\",\"existing credits paid back duly till now\",\"existing credits paid back duly till now\",\"existing credits paid back duly till now\",\"existing credits paid back duly till now\",\"delay in paying off in the past\",\"existing credits paid back duly till now\",\"existing credits paid back duly till now\",\"existing credits paid back duly till now\",\"all credits at this bank paid back duly\",\"no credits taken/ all credits paid back duly\",\"critical account/ other credits existing (not at this bank)\",\"existing credits paid back duly till now\",\"critical account/ other credits existing (not at this bank)\",\"existing credits paid back duly till now\",\"critical account/ other credits existing (not at this bank)\",\"existing credits paid back duly till now\",\"critical account/ other credits existing (not at this bank)\",\"existing credits paid back duly till now\",\"all credits at this bank paid back duly\",\"critical account/ other credits existing (not at this bank)\",\"existing credits paid back duly till now\",\"existing credits paid back duly till now\",\"critical account/ other credits existing (not at this bank)\",\"critical account/ other credits existing (not at this bank)\",\"critical account/ other credits existing (not at this bank)\",\"existing credits paid back duly till now\",\"critical account/ other credits existing (not at this bank)\",\"existing credits paid back duly till now\",\"critical account/ other credits existing (not at this bank)\",\"existing credits paid back duly till now\",\"critical account/ other credits existing (not at this bank)\",\"existing credits paid back duly till now\",\"critical account/ other credits existing (not at this bank)\",\"delay in paying off in the past\",\"existing credits paid back duly till now\",\"existing credits paid back duly till now\",\"existing credits paid back duly till now\",\"existing credits paid back duly till now\",\"all credits at this bank paid back duly\",\"existing credits paid back duly till now\",\"existing credits paid back duly till now\",\"existing credits paid back duly till now\",\"critical account/ other credits existing (not at this bank)\",\"critical account/ other credits existing (not at this bank)\",\"existing credits paid back duly till now\",\"all credits at this bank paid back duly\",\"existing credits paid back duly till now\",\"critical account/ other credits existing (not at this bank)\",\"existing credits paid back duly till now\",\"existing credits paid back duly till now\",\"existing credits paid back duly till now\",\"all credits at this bank paid back duly\",\"all credits at this bank paid back duly\",\"existing credits paid back duly till now\",\"existing credits paid back duly till now\",\"delay in paying off in the past\",\"delay in paying off in the past\",\"existing credits paid back duly till now\",\"existing credits paid back duly till now\",\"delay in paying off in the past\",\"existing credits paid back duly till now\",\"delay in paying off in the past\",\"existing credits paid back duly till now\",\"no credits taken/ all credits paid back duly\",\"critical account/ other credits existing (not at this bank)\",\"existing credits paid back duly till now\",\"critical account/ other credits existing (not at this bank)\",\"critical account/ other credits existing (not at this bank)\",\"existing credits paid back duly till now\",\"existing credits paid back duly till now\",\"critical account/ other credits existing (not at this bank)\",\"existing credits paid back duly till now\",\"existing credits paid back duly till now\",\"delay in paying off in the past\",\"delay in paying off in the past\",\"existing credits paid back duly till now\",\"no credits taken/ all credits paid back duly\",\"critical account/ other credits existing (not at this bank)\",\"existing credits paid back duly till now\",\"existing credits paid back duly till now\",\"existing credits paid back duly till now\",\"existing credits paid back duly till now\",\"existing credits paid back duly till now\",\"existing credits paid back duly till now\",\"existing credits paid back duly till now\",\"all credits at this bank paid back duly\",\"existing credits paid back duly till now\",\"critical account/ other credits existing (not at this bank)\",\"critical account/ other credits existing (not at this bank)\",\"delay in paying off in the past\",\"existing credits paid back duly till now\",\"existing credits paid back duly till now\",\"critical account/ other credits existing (not at this bank)\",\"existing credits paid back duly till now\",\"existing credits paid back duly till now\",\"existing credits paid back duly till now\",\"critical account/ other credits existing (not at this bank)\",\"existing credits paid back duly till now\",\"critical account/ other credits existing (not at this bank)\",\"no credits taken/ all credits paid back duly\",\"critical account/ other credits existing (not at this bank)\",\"critical account/ other credits existing (not at this bank)\",\"existing credits paid back duly till now\",\"existing credits paid back duly till now\",\"existing credits paid back duly till now\",\"existing credits paid back duly till now\",\"existing credits paid back duly till now\",\"existing credits paid back duly till now\",\"existing credits paid back duly till now\",\"critical account/ other credits existing (not at this bank)\",\"critical account/ other credits existing (not at this bank)\",\"critical account/ other credits existing (not at this bank)\",\"critical account/ other credits existing (not at this bank)\",\"existing credits paid back duly till now\",\"critical account/ other credits existing (not at this bank)\",\"existing credits paid back duly till now\",\"delay in paying off in the past\",\"existing credits paid back duly till now\",\"delay in paying off in the past\",\"critical account/ other credits existing (not at this bank)\",\"delay in paying off in the past\",\"existing credits paid back duly till now\",\"all credits at this bank paid back duly\",\"delay in paying off in the past\",\"existing credits paid back duly till now\",\"critical account/ other credits existing (not at this bank)\",\"critical account/ other credits existing (not at this bank)\",\"critical account/ other credits existing (not at this bank)\",\"existing credits paid back duly till now\",\"critical account/ other credits existing (not at this bank)\",\"critical account/ other credits existing (not at this bank)\",\"existing credits paid back duly till now\",\"all credits at this bank paid back duly\",\"no credits taken/ all credits paid back duly\",\"existing credits paid back duly till now\",\"critical account/ other credits existing (not at this bank)\",\"existing credits paid back duly till now\",\"critical account/ other credits existing (not at this bank)\",\"existing credits paid back duly till now\",\"critical account/ other credits existing (not at this bank)\",\"delay in paying off in the past\",\"existing credits paid back duly till now\",\"existing credits paid back duly till now\",\"existing credits paid back duly till now\",\"critical account/ other credits existing (not at this bank)\",\"existing credits paid back duly till now\",\"all credits at this bank paid back duly\",\"critical account/ other credits existing (not at this bank)\",\"critical account/ other credits existing (not at this bank)\",\"critical account/ other credits existing (not at this bank)\",\"existing credits paid back duly till now\",\"existing credits paid back duly till now\",\"delay in paying off in the past\",\"existing credits paid back duly till now\",\"existing credits paid back duly till now\",\"existing credits paid back duly till now\",\"critical account/ other credits existing (not at this bank)\",\"existing credits paid back duly till now\",\"critical account/ other credits existing (not at this bank)\",\"delay in paying off in the past\",\"all credits at this bank paid back duly\",\"critical account/ other credits existing (not at this bank)\",\"delay in paying off in the past\",\"existing credits paid back duly till now\",\"delay in paying off in the past\",\"no credits taken/ all credits paid back duly\",\"existing credits paid back duly till now\",\"existing credits paid back duly till now\",\"existing credits paid back duly till now\",\"critical account/ other credits existing (not at this bank)\",\"critical account/ other credits existing (not at this bank)\",\"all credits at this bank paid back duly\",\"no credits taken/ all credits paid back duly\",\"all credits at this bank paid back duly\",\"existing credits paid back duly till now\",\"existing credits paid back duly till now\",\"existing credits paid back duly till now\",\"critical account/ other credits existing (not at this bank)\",\"critical account/ other credits existing (not at this bank)\",\"critical account/ other credits existing (not at this bank)\",\"critical account/ other credits existing (not at this bank)\",\"critical account/ other credits existing (not at this bank)\",\"critical account/ other credits existing (not at this bank)\",\"delay in paying off in the past\",\"critical account/ other credits existing (not at this bank)\",\"critical account/ other credits existing (not at this bank)\",\"critical account/ other credits existing (not at this bank)\",\"delay in paying off in the past\",\"existing credits paid back duly till now\",\"critical account/ other credits existing (not at this bank)\",\"no credits taken/ all credits paid back duly\",\"all credits at this bank paid back duly\",\"all credits at this bank paid back duly\",\"all credits at this bank paid back duly\",\"existing credits paid back duly till now\",\"existing credits paid back duly till now\",\"critical account/ other credits existing (not at this bank)\",\"existing credits paid back duly till now\",\"critical account/ other credits existing (not at this bank)\",\"critical account/ other credits existing (not at this bank)\",\"existing credits paid back duly till now\",\"existing credits paid back duly till now\",\"existing credits paid back duly till now\",\"existing credits paid back duly till now\",\"critical account/ other credits existing (not at this bank)\",\"existing credits paid back duly till now\",\"critical account/ other credits existing (not at this bank)\",\"critical account/ other credits existing (not at this bank)\",\"critical account/ other credits existing (not at this bank)\",\"delay in paying off in the past\",\"delay in paying off in the past\",\"all credits at this bank paid back duly\",\"existing credits paid back duly till now\",\"delay in paying off in the past\",\"critical account/ other credits existing (not at this bank)\",\"critical account/ other credits existing (not at this bank)\",\"existing credits paid back duly till now\",\"critical account/ other credits existing (not at this bank)\",\"existing credits paid back duly till now\",\"critical account/ other credits existing (not at this bank)\",\"existing credits paid back duly till now\",\"existing credits paid back duly till now\",\"existing credits paid back duly till now\",\"existing credits paid back duly till now\",\"critical account/ other credits existing (not at this bank)\",\"existing credits paid back duly till now\",\"critical account/ other credits existing (not at this bank)\",\"critical account/ other credits existing (not at this bank)\",\"critical account/ other credits existing (not at this bank)\",\"existing credits paid back duly till now\",\"existing credits paid back duly till now\",\"critical account/ other credits existing (not at this bank)\",\"critical account/ other credits existing (not at this bank)\",\"existing credits paid back duly till now\",\"existing credits paid back duly till now\",\"delay in paying off in the past\",\"existing credits paid back duly till now\",\"existing credits paid back duly till now\",\"delay in paying off in the past\",\"existing credits paid back duly till now\",\"critical account/ other credits existing (not at this bank)\",\"existing credits paid back duly till now\",\"existing credits paid back duly till now\",\"critical account/ other credits existing (not at this bank)\",\"delay in paying off in the past\",\"critical account/ other credits existing (not at this bank)\",\"critical account/ other credits existing (not at this bank)\",\"critical account/ other credits existing (not at this bank)\",\"existing credits paid back duly till now\",\"existing credits paid back duly till now\",\"critical account/ other credits existing (not at this bank)\",\"existing credits paid back duly till now\",\"critical account/ other credits existing (not at this bank)\",\"existing credits paid back duly till now\",\"existing credits paid back duly till now\",\"delay in paying off in the past\",\"all credits at this bank paid back duly\",\"existing credits paid back duly till now\",\"existing credits paid back duly till now\",\"no credits taken/ all credits paid back duly\",\"critical account/ other credits existing (not at this bank)\",\"delay in paying off in the past\",\"all credits at this bank paid back duly\",\"delay in paying off in the past\",\"existing credits paid back duly till now\",\"delay in paying off in the past\",\"critical account/ other credits existing (not at this bank)\",\"existing credits paid back duly till now\",\"existing credits paid back duly till now\",\"existing credits paid back duly till now\",\"existing credits paid back duly till now\",\"critical account/ other credits existing (not at this bank)\",\"critical account/ other credits existing (not at this bank)\",\"existing credits paid back duly till now\",\"critical account/ other credits existing (not at this bank)\",\"existing credits paid back duly till now\",\"existing credits paid back duly till now\",\"no credits taken/ all credits paid back duly\",\"existing credits paid back duly till now\",\"critical account/ other credits existing (not at this bank)\",\"existing credits paid back duly till now\",\"existing credits paid back duly till now\",\"all credits at this bank paid back duly\",\"delay in paying off in the past\",\"all credits at this bank paid back duly\",\"critical account/ other credits existing (not at this bank)\",\"delay in paying off in the past\",\"delay in paying off in the past\",\"delay in paying off in the past\",\"existing credits paid back duly till now\",\"existing credits paid back duly till now\",\"existing credits paid back duly till now\",\"existing credits paid back duly till now\",\"critical account/ other credits existing (not at this bank)\",\"existing credits paid back duly till now\",\"existing credits paid back duly till now\",\"existing credits paid back duly till now\",\"critical account/ other credits existing (not at this bank)\",\"critical account/ other credits existing (not at this bank)\",\"existing credits paid back duly till now\",\"existing credits paid back duly till now\",\"critical account/ other credits existing (not at this bank)\",\"critical account/ other credits existing (not at this bank)\",\"existing credits paid back duly till now\",\"critical account/ other credits existing (not at this bank)\",\"critical account/ other credits existing (not at this bank)\"],\"xaxis\":\"x\",\"yaxis\":\"y\",\"type\":\"histogram\"},{\"alignmentgroup\":\"True\",\"bingroup\":\"x\",\"histnorm\":\"probability density\",\"hovertemplate\":\"<b>Synthetic</b><br>Frequency: %{y}<extra></extra>\",\"legendgroup\":\"Synthetic\",\"marker\":{\"color\":\"#01E0C9\",\"pattern\":{\"shape\":\"/\"}},\"name\":\"Synthetic\",\"offsetgroup\":\"Synthetic\",\"orientation\":\"v\",\"showlegend\":true,\"x\":[\"existing credits paid back duly till now\",\"existing credits paid back duly till now\",\"existing credits paid back duly till now\",\"existing credits paid back duly till now\",\"critical account/ other credits existing (not at this bank)\",\"existing credits paid back duly till now\",\"critical account/ other credits existing (not at this bank)\",\"existing credits paid back duly till now\",\"no credits taken/ all credits paid back duly\",\"existing credits paid back duly till now\",\"delay in paying off in the past\",\"existing credits paid back duly till now\",\"critical account/ other credits existing (not at this bank)\",\"existing credits paid back duly till now\",\"existing credits paid back duly till now\",\"critical account/ other credits existing (not at this bank)\",\"existing credits paid back duly till now\",\"critical account/ other credits existing (not at this bank)\",\"existing credits paid back duly till now\",\"no credits taken/ all credits paid back duly\",\"existing credits paid back duly till now\",\"existing credits paid back duly till now\",\"existing credits paid back duly till now\",\"all credits at this bank paid back duly\",\"existing credits paid back duly till now\",\"delay in paying off in the past\",\"existing credits paid back duly till now\",\"critical account/ other credits existing (not at this bank)\",\"critical account/ other credits existing (not at this bank)\",\"existing credits paid back duly till now\",\"critical account/ other credits existing (not at this bank)\",\"existing credits paid back duly till now\",\"existing credits paid back duly till now\",\"critical account/ other credits existing (not at this bank)\",\"critical account/ other credits existing (not at this bank)\",\"existing credits paid back duly till now\",\"delay in paying off in the past\",\"existing credits paid back duly till now\",\"no credits taken/ all credits paid back duly\",\"critical account/ other credits existing (not at this bank)\",\"existing credits paid back duly till now\",\"existing credits paid back duly till now\",\"existing credits paid back duly till now\",\"existing credits paid back duly till now\",\"existing credits paid back duly till now\",\"existing credits paid back duly till now\",\"no credits taken/ all credits paid back duly\",\"existing credits paid back duly till now\",\"delay in paying off in the past\",\"existing credits paid back duly till now\",\"existing credits paid back duly till now\",\"existing credits paid back duly till now\",\"existing credits paid back duly till now\",\"existing credits paid back duly till now\",\"critical account/ other credits existing (not at this bank)\",\"delay in paying off in the past\",\"critical account/ other credits existing (not at this bank)\",\"existing credits paid back duly till now\",\"existing credits paid back duly till now\",\"existing credits paid back duly till now\",\"existing credits paid back duly till now\",\"existing credits paid back duly till now\",\"existing credits paid back duly till now\",\"no credits taken/ all credits paid back duly\",\"existing credits paid back duly till now\",\"existing credits paid back duly till now\",\"existing credits paid back duly till now\",\"existing credits paid back duly till now\",\"critical account/ other credits existing (not at this bank)\",\"existing credits paid back duly till now\",\"existing credits paid back duly till now\",\"critical account/ other credits existing (not at this bank)\",\"existing credits paid back duly till now\",\"existing credits paid back duly till now\",\"critical account/ other credits existing (not at this bank)\",\"delay in paying off in the past\",\"critical account/ other credits existing (not at this bank)\",\"existing credits paid back duly till now\",\"all credits at this bank paid back duly\",\"delay in paying off in the past\",\"no credits taken/ all credits paid back duly\",\"delay in paying off in the past\",\"critical account/ other credits existing (not at this bank)\",\"existing credits paid back duly till now\",\"existing credits paid back duly till now\",\"delay in paying off in the past\",\"existing credits paid back duly till now\",\"critical account/ other credits existing (not at this bank)\",\"existing credits paid back duly till now\",\"all credits at this bank paid back duly\",\"critical account/ other credits existing (not at this bank)\",\"existing credits paid back duly till now\",\"existing credits paid back duly till now\",\"delay in paying off in the past\",\"existing credits paid back duly till now\",\"critical account/ other credits existing (not at this bank)\",\"existing credits paid back duly till now\",\"existing credits paid back duly till now\",\"critical account/ other credits existing (not at this bank)\",\"existing credits paid back duly till now\",\"all credits at this bank paid back duly\",\"critical account/ other credits existing (not at this bank)\",\"critical account/ other credits existing (not at this bank)\",\"no credits taken/ all credits paid back duly\",\"no credits taken/ all credits paid back duly\",\"existing credits paid back duly till now\",\"critical account/ other credits existing (not at this bank)\",\"existing credits paid back duly till now\",\"no credits taken/ all credits paid back duly\",\"existing credits paid back duly till now\",\"existing credits paid back duly till now\",\"existing credits paid back duly till now\",\"no credits taken/ all credits paid back duly\",\"critical account/ other credits existing (not at this bank)\",\"existing credits paid back duly till now\",\"critical account/ other credits existing (not at this bank)\",\"existing credits paid back duly till now\",\"no credits taken/ all credits paid back duly\",\"existing credits paid back duly till now\",\"existing credits paid back duly till now\",\"critical account/ other credits existing (not at this bank)\",\"existing credits paid back duly till now\",\"existing credits paid back duly till now\",\"existing credits paid back duly till now\",\"existing credits paid back duly till now\",\"critical account/ other credits existing (not at this bank)\",\"existing credits paid back duly till now\",\"critical account/ other credits existing (not at this bank)\",\"existing credits paid back duly till now\",\"critical account/ other credits existing (not at this bank)\",\"critical account/ other credits existing (not at this bank)\",\"existing credits paid back duly till now\",\"existing credits paid back duly till now\",\"existing credits paid back duly till now\",\"existing credits paid back duly till now\",\"existing credits paid back duly till now\",\"critical account/ other credits existing (not at this bank)\",\"no credits taken/ all credits paid back duly\",\"existing credits paid back duly till now\",\"existing credits paid back duly till now\",\"existing credits paid back duly till now\",\"existing credits paid back duly till now\",\"delay in paying off in the past\",\"critical account/ other credits existing (not at this bank)\",\"existing credits paid back duly till now\",\"existing credits paid back duly till now\",\"existing credits paid back duly till now\",\"critical account/ other credits existing (not at this bank)\",\"critical account/ other credits existing (not at this bank)\",\"existing credits paid back duly till now\",\"critical account/ other credits existing (not at this bank)\",\"existing credits paid back duly till now\",\"critical account/ other credits existing (not at this bank)\",\"existing credits paid back duly till now\",\"existing credits paid back duly till now\",\"critical account/ other credits existing (not at this bank)\",\"existing credits paid back duly till now\",\"critical account/ other credits existing (not at this bank)\",\"delay in paying off in the past\",\"existing credits paid back duly till now\",\"existing credits paid back duly till now\",\"critical account/ other credits existing (not at this bank)\",\"critical account/ other credits existing (not at this bank)\",\"no credits taken/ all credits paid back duly\",\"existing credits paid back duly till now\",\"existing credits paid back duly till now\",\"critical account/ other credits existing (not at this bank)\",\"existing credits paid back duly till now\",\"existing credits paid back duly till now\",\"all credits at this bank paid back duly\",\"critical account/ other credits existing (not at this bank)\",\"critical account/ other credits existing (not at this bank)\",\"existing credits paid back duly till now\",\"existing credits paid back duly till now\",\"critical account/ other credits existing (not at this bank)\",\"existing credits paid back duly till now\",\"existing credits paid back duly till now\",\"delay in paying off in the past\",\"existing credits paid back duly till now\",\"all credits at this bank paid back duly\",\"delay in paying off in the past\",\"delay in paying off in the past\",\"existing credits paid back duly till now\",\"critical account/ other credits existing (not at this bank)\",\"existing credits paid back duly till now\",\"existing credits paid back duly till now\",\"existing credits paid back duly till now\",\"existing credits paid back duly till now\",\"existing credits paid back duly till now\",\"existing credits paid back duly till now\",\"existing credits paid back duly till now\",\"existing credits paid back duly till now\",\"existing credits paid back duly till now\",\"existing credits paid back duly till now\",\"critical account/ other credits existing (not at this bank)\",\"existing credits paid back duly till now\",\"existing credits paid back duly till now\",\"critical account/ other credits existing (not at this bank)\",\"existing credits paid back duly till now\",\"existing credits paid back duly till now\",\"existing credits paid back duly till now\",\"existing credits paid back duly till now\",\"existing credits paid back duly till now\",\"existing credits paid back duly till now\",\"no credits taken/ all credits paid back duly\",\"critical account/ other credits existing (not at this bank)\",\"critical account/ other credits existing (not at this bank)\",\"existing credits paid back duly till now\",\"existing credits paid back duly till now\",\"critical account/ other credits existing (not at this bank)\",\"critical account/ other credits existing (not at this bank)\",\"delay in paying off in the past\",\"critical account/ other credits existing (not at this bank)\",\"critical account/ other credits existing (not at this bank)\",\"existing credits paid back duly till now\",\"existing credits paid back duly till now\",\"no credits taken/ all credits paid back duly\",\"existing credits paid back duly till now\",\"no credits taken/ all credits paid back duly\",\"existing credits paid back duly till now\",\"existing credits paid back duly till now\",\"existing credits paid back duly till now\",\"existing credits paid back duly till now\",\"delay in paying off in the past\",\"critical account/ other credits existing (not at this bank)\",\"existing credits paid back duly till now\",\"delay in paying off in the past\",\"existing credits paid back duly till now\",\"existing credits paid back duly till now\",\"existing credits paid back duly till now\",\"delay in paying off in the past\",\"existing credits paid back duly till now\",\"delay in paying off in the past\",\"existing credits paid back duly till now\",\"existing credits paid back duly till now\",\"existing credits paid back duly till now\",\"existing credits paid back duly till now\",\"existing credits paid back duly till now\",\"existing credits paid back duly till now\",\"critical account/ other credits existing (not at this bank)\",\"critical account/ other credits existing (not at this bank)\",\"critical account/ other credits existing (not at this bank)\",\"critical account/ other credits existing (not at this bank)\",\"existing credits paid back duly till now\",\"existing credits paid back duly till now\",\"existing credits paid back duly till now\",\"critical account/ other credits existing (not at this bank)\",\"critical account/ other credits existing (not at this bank)\",\"critical account/ other credits existing (not at this bank)\",\"existing credits paid back duly till now\"],\"xaxis\":\"x\",\"yaxis\":\"y\",\"type\":\"histogram\"}],                        {\"template\":{\"data\":{\"histogram2dcontour\":[{\"type\":\"histogram2dcontour\",\"colorbar\":{\"outlinewidth\":0,\"ticks\":\"\"},\"colorscale\":[[0.0,\"#0d0887\"],[0.1111111111111111,\"#46039f\"],[0.2222222222222222,\"#7201a8\"],[0.3333333333333333,\"#9c179e\"],[0.4444444444444444,\"#bd3786\"],[0.5555555555555556,\"#d8576b\"],[0.6666666666666666,\"#ed7953\"],[0.7777777777777778,\"#fb9f3a\"],[0.8888888888888888,\"#fdca26\"],[1.0,\"#f0f921\"]]}],\"choropleth\":[{\"type\":\"choropleth\",\"colorbar\":{\"outlinewidth\":0,\"ticks\":\"\"}}],\"histogram2d\":[{\"type\":\"histogram2d\",\"colorbar\":{\"outlinewidth\":0,\"ticks\":\"\"},\"colorscale\":[[0.0,\"#0d0887\"],[0.1111111111111111,\"#46039f\"],[0.2222222222222222,\"#7201a8\"],[0.3333333333333333,\"#9c179e\"],[0.4444444444444444,\"#bd3786\"],[0.5555555555555556,\"#d8576b\"],[0.6666666666666666,\"#ed7953\"],[0.7777777777777778,\"#fb9f3a\"],[0.8888888888888888,\"#fdca26\"],[1.0,\"#f0f921\"]]}],\"heatmap\":[{\"type\":\"heatmap\",\"colorbar\":{\"outlinewidth\":0,\"ticks\":\"\"},\"colorscale\":[[0.0,\"#0d0887\"],[0.1111111111111111,\"#46039f\"],[0.2222222222222222,\"#7201a8\"],[0.3333333333333333,\"#9c179e\"],[0.4444444444444444,\"#bd3786\"],[0.5555555555555556,\"#d8576b\"],[0.6666666666666666,\"#ed7953\"],[0.7777777777777778,\"#fb9f3a\"],[0.8888888888888888,\"#fdca26\"],[1.0,\"#f0f921\"]]}],\"heatmapgl\":[{\"type\":\"heatmapgl\",\"colorbar\":{\"outlinewidth\":0,\"ticks\":\"\"},\"colorscale\":[[0.0,\"#0d0887\"],[0.1111111111111111,\"#46039f\"],[0.2222222222222222,\"#7201a8\"],[0.3333333333333333,\"#9c179e\"],[0.4444444444444444,\"#bd3786\"],[0.5555555555555556,\"#d8576b\"],[0.6666666666666666,\"#ed7953\"],[0.7777777777777778,\"#fb9f3a\"],[0.8888888888888888,\"#fdca26\"],[1.0,\"#f0f921\"]]}],\"contourcarpet\":[{\"type\":\"contourcarpet\",\"colorbar\":{\"outlinewidth\":0,\"ticks\":\"\"}}],\"contour\":[{\"type\":\"contour\",\"colorbar\":{\"outlinewidth\":0,\"ticks\":\"\"},\"colorscale\":[[0.0,\"#0d0887\"],[0.1111111111111111,\"#46039f\"],[0.2222222222222222,\"#7201a8\"],[0.3333333333333333,\"#9c179e\"],[0.4444444444444444,\"#bd3786\"],[0.5555555555555556,\"#d8576b\"],[0.6666666666666666,\"#ed7953\"],[0.7777777777777778,\"#fb9f3a\"],[0.8888888888888888,\"#fdca26\"],[1.0,\"#f0f921\"]]}],\"surface\":[{\"type\":\"surface\",\"colorbar\":{\"outlinewidth\":0,\"ticks\":\"\"},\"colorscale\":[[0.0,\"#0d0887\"],[0.1111111111111111,\"#46039f\"],[0.2222222222222222,\"#7201a8\"],[0.3333333333333333,\"#9c179e\"],[0.4444444444444444,\"#bd3786\"],[0.5555555555555556,\"#d8576b\"],[0.6666666666666666,\"#ed7953\"],[0.7777777777777778,\"#fb9f3a\"],[0.8888888888888888,\"#fdca26\"],[1.0,\"#f0f921\"]]}],\"mesh3d\":[{\"type\":\"mesh3d\",\"colorbar\":{\"outlinewidth\":0,\"ticks\":\"\"}}],\"scatter\":[{\"fillpattern\":{\"fillmode\":\"overlay\",\"size\":10,\"solidity\":0.2},\"type\":\"scatter\"}],\"parcoords\":[{\"type\":\"parcoords\",\"line\":{\"colorbar\":{\"outlinewidth\":0,\"ticks\":\"\"}}}],\"scatterpolargl\":[{\"type\":\"scatterpolargl\",\"marker\":{\"colorbar\":{\"outlinewidth\":0,\"ticks\":\"\"}}}],\"bar\":[{\"error_x\":{\"color\":\"#2a3f5f\"},\"error_y\":{\"color\":\"#2a3f5f\"},\"marker\":{\"line\":{\"color\":\"#E5ECF6\",\"width\":0.5},\"pattern\":{\"fillmode\":\"overlay\",\"size\":10,\"solidity\":0.2}},\"type\":\"bar\"}],\"scattergeo\":[{\"type\":\"scattergeo\",\"marker\":{\"colorbar\":{\"outlinewidth\":0,\"ticks\":\"\"}}}],\"scatterpolar\":[{\"type\":\"scatterpolar\",\"marker\":{\"colorbar\":{\"outlinewidth\":0,\"ticks\":\"\"}}}],\"histogram\":[{\"marker\":{\"pattern\":{\"fillmode\":\"overlay\",\"size\":10,\"solidity\":0.2}},\"type\":\"histogram\"}],\"scattergl\":[{\"type\":\"scattergl\",\"marker\":{\"colorbar\":{\"outlinewidth\":0,\"ticks\":\"\"}}}],\"scatter3d\":[{\"type\":\"scatter3d\",\"line\":{\"colorbar\":{\"outlinewidth\":0,\"ticks\":\"\"}},\"marker\":{\"colorbar\":{\"outlinewidth\":0,\"ticks\":\"\"}}}],\"scattermapbox\":[{\"type\":\"scattermapbox\",\"marker\":{\"colorbar\":{\"outlinewidth\":0,\"ticks\":\"\"}}}],\"scatterternary\":[{\"type\":\"scatterternary\",\"marker\":{\"colorbar\":{\"outlinewidth\":0,\"ticks\":\"\"}}}],\"scattercarpet\":[{\"type\":\"scattercarpet\",\"marker\":{\"colorbar\":{\"outlinewidth\":0,\"ticks\":\"\"}}}],\"carpet\":[{\"aaxis\":{\"endlinecolor\":\"#2a3f5f\",\"gridcolor\":\"white\",\"linecolor\":\"white\",\"minorgridcolor\":\"white\",\"startlinecolor\":\"#2a3f5f\"},\"baxis\":{\"endlinecolor\":\"#2a3f5f\",\"gridcolor\":\"white\",\"linecolor\":\"white\",\"minorgridcolor\":\"white\",\"startlinecolor\":\"#2a3f5f\"},\"type\":\"carpet\"}],\"table\":[{\"cells\":{\"fill\":{\"color\":\"#EBF0F8\"},\"line\":{\"color\":\"white\"}},\"header\":{\"fill\":{\"color\":\"#C8D4E3\"},\"line\":{\"color\":\"white\"}},\"type\":\"table\"}],\"barpolar\":[{\"marker\":{\"line\":{\"color\":\"#E5ECF6\",\"width\":0.5},\"pattern\":{\"fillmode\":\"overlay\",\"size\":10,\"solidity\":0.2}},\"type\":\"barpolar\"}],\"pie\":[{\"automargin\":true,\"type\":\"pie\"}]},\"layout\":{\"autotypenumbers\":\"strict\",\"colorway\":[\"#636efa\",\"#EF553B\",\"#00cc96\",\"#ab63fa\",\"#FFA15A\",\"#19d3f3\",\"#FF6692\",\"#B6E880\",\"#FF97FF\",\"#FECB52\"],\"font\":{\"color\":\"#2a3f5f\"},\"hovermode\":\"closest\",\"hoverlabel\":{\"align\":\"left\"},\"paper_bgcolor\":\"white\",\"plot_bgcolor\":\"#E5ECF6\",\"polar\":{\"bgcolor\":\"#E5ECF6\",\"angularaxis\":{\"gridcolor\":\"white\",\"linecolor\":\"white\",\"ticks\":\"\"},\"radialaxis\":{\"gridcolor\":\"white\",\"linecolor\":\"white\",\"ticks\":\"\"}},\"ternary\":{\"bgcolor\":\"#E5ECF6\",\"aaxis\":{\"gridcolor\":\"white\",\"linecolor\":\"white\",\"ticks\":\"\"},\"baxis\":{\"gridcolor\":\"white\",\"linecolor\":\"white\",\"ticks\":\"\"},\"caxis\":{\"gridcolor\":\"white\",\"linecolor\":\"white\",\"ticks\":\"\"}},\"coloraxis\":{\"colorbar\":{\"outlinewidth\":0,\"ticks\":\"\"}},\"colorscale\":{\"sequential\":[[0.0,\"#0d0887\"],[0.1111111111111111,\"#46039f\"],[0.2222222222222222,\"#7201a8\"],[0.3333333333333333,\"#9c179e\"],[0.4444444444444444,\"#bd3786\"],[0.5555555555555556,\"#d8576b\"],[0.6666666666666666,\"#ed7953\"],[0.7777777777777778,\"#fb9f3a\"],[0.8888888888888888,\"#fdca26\"],[1.0,\"#f0f921\"]],\"sequentialminus\":[[0.0,\"#0d0887\"],[0.1111111111111111,\"#46039f\"],[0.2222222222222222,\"#7201a8\"],[0.3333333333333333,\"#9c179e\"],[0.4444444444444444,\"#bd3786\"],[0.5555555555555556,\"#d8576b\"],[0.6666666666666666,\"#ed7953\"],[0.7777777777777778,\"#fb9f3a\"],[0.8888888888888888,\"#fdca26\"],[1.0,\"#f0f921\"]],\"diverging\":[[0,\"#8e0152\"],[0.1,\"#c51b7d\"],[0.2,\"#de77ae\"],[0.3,\"#f1b6da\"],[0.4,\"#fde0ef\"],[0.5,\"#f7f7f7\"],[0.6,\"#e6f5d0\"],[0.7,\"#b8e186\"],[0.8,\"#7fbc41\"],[0.9,\"#4d9221\"],[1,\"#276419\"]]},\"xaxis\":{\"gridcolor\":\"white\",\"linecolor\":\"white\",\"ticks\":\"\",\"title\":{\"standoff\":15},\"zerolinecolor\":\"white\",\"automargin\":true,\"zerolinewidth\":2},\"yaxis\":{\"gridcolor\":\"white\",\"linecolor\":\"white\",\"ticks\":\"\",\"title\":{\"standoff\":15},\"zerolinecolor\":\"white\",\"automargin\":true,\"zerolinewidth\":2},\"scene\":{\"xaxis\":{\"backgroundcolor\":\"#E5ECF6\",\"gridcolor\":\"white\",\"linecolor\":\"white\",\"showbackground\":true,\"ticks\":\"\",\"zerolinecolor\":\"white\",\"gridwidth\":2},\"yaxis\":{\"backgroundcolor\":\"#E5ECF6\",\"gridcolor\":\"white\",\"linecolor\":\"white\",\"showbackground\":true,\"ticks\":\"\",\"zerolinecolor\":\"white\",\"gridwidth\":2},\"zaxis\":{\"backgroundcolor\":\"#E5ECF6\",\"gridcolor\":\"white\",\"linecolor\":\"white\",\"showbackground\":true,\"ticks\":\"\",\"zerolinecolor\":\"white\",\"gridwidth\":2}},\"shapedefaults\":{\"line\":{\"color\":\"#2a3f5f\"}},\"annotationdefaults\":{\"arrowcolor\":\"#2a3f5f\",\"arrowhead\":0,\"arrowwidth\":1},\"geo\":{\"bgcolor\":\"white\",\"landcolor\":\"#E5ECF6\",\"subunitcolor\":\"white\",\"showland\":true,\"showlakes\":true,\"lakecolor\":\"white\"},\"title\":{\"x\":0.05},\"mapbox\":{\"style\":\"light\"}}},\"xaxis\":{\"anchor\":\"y\",\"domain\":[0.0,1.0],\"title\":{\"text\":\"Category\"}},\"yaxis\":{\"anchor\":\"x\",\"domain\":[0.0,1.0],\"title\":{\"text\":\"Frequency\"}},\"legend\":{\"title\":{\"text\":\"Data\"},\"tracegroupgap\":0},\"margin\":{\"t\":60},\"barmode\":\"group\",\"title\":{\"text\":\"Real vs. Synthetic Data for column 'credit_history'\"},\"plot_bgcolor\":\"#F5F5F8\"},                        {\"responsive\": true}                    ).then(function(){\n",
              "                            \n",
              "var gd = document.getElementById('59c18aa7-4e68-4e72-8035-9746dd45021e');\n",
              "var x = new MutationObserver(function (mutations, observer) {{\n",
              "        var display = window.getComputedStyle(gd).display;\n",
              "        if (!display || display === 'none') {{\n",
              "            console.log([gd, 'removed!']);\n",
              "            Plotly.purge(gd);\n",
              "            observer.disconnect();\n",
              "        }}\n",
              "}});\n",
              "\n",
              "// Listen for the removal of the full notebook cells\n",
              "var notebookContainer = gd.closest('#notebook-container');\n",
              "if (notebookContainer) {{\n",
              "    x.observe(notebookContainer, {childList: true});\n",
              "}}\n",
              "\n",
              "// Listen for the clearing of the current output cell\n",
              "var outputEl = gd.closest('.output');\n",
              "if (outputEl) {{\n",
              "    x.observe(outputEl, {childList: true});\n",
              "}}\n",
              "\n",
              "                        })                };                            </script>        </div>\n",
              "</body>\n",
              "</html>"
            ]
          },
          "metadata": {}
        }
      ]
    },
    {
      "cell_type": "markdown",
      "source": [
        "## TVAESynthesizer\n"
      ],
      "metadata": {
        "id": "6hsRNWqykXvU"
      }
    },
    {
      "cell_type": "code",
      "source": [
        "synthesizer3 = TVAESynthesizer(metadata)\n",
        "synthesizer3.fit(train_data)"
      ],
      "metadata": {
        "id": "GYam-4H7l8_G"
      },
      "execution_count": 24,
      "outputs": []
    },
    {
      "cell_type": "code",
      "source": [
        "synthesizer3.reset_sampling()\n",
        "synthetic_data3 = synthesizer3.sample(num_rows=250)\n",
        "for column in synthetic_data3:\n",
        "  print(\"------------------------------\\n\", synthetic_data3[column].value_counts(), sep ='')"
      ],
      "metadata": {
        "colab": {
          "base_uri": "https://localhost:8080/"
        },
        "id": "RrMd4Jdjm4Mf",
        "outputId": "319baced-4887-4189-e2c5-159f9c6288e9"
      },
      "execution_count": 25,
      "outputs": [
        {
          "output_type": "stream",
          "name": "stdout",
          "text": [
            "------------------------------\n",
            "0    193\n",
            "1     57\n",
            "Name: default, dtype: int64\n",
            "------------------------------\n",
            "no checking account    140\n",
            "0 <= ... < 200 DM       61\n",
            "< 0 DM                  49\n",
            "Name: account_check_status, dtype: int64\n",
            "------------------------------\n",
            "10    28\n",
            "9     28\n",
            "11    26\n",
            "13    20\n",
            "8     15\n",
            "7     14\n",
            "12    14\n",
            "14    10\n",
            "6      9\n",
            "15     6\n",
            "25     6\n",
            "4      6\n",
            "16     5\n",
            "46     4\n",
            "50     4\n",
            "24     4\n",
            "48     4\n",
            "45     4\n",
            "5      3\n",
            "39     3\n",
            "42     3\n",
            "41     3\n",
            "40     3\n",
            "17     2\n",
            "20     2\n",
            "22     2\n",
            "38     2\n",
            "44     2\n",
            "23     2\n",
            "37     2\n",
            "18     2\n",
            "54     1\n",
            "53     1\n",
            "32     1\n",
            "51     1\n",
            "36     1\n",
            "47     1\n",
            "60     1\n",
            "29     1\n",
            "26     1\n",
            "57     1\n",
            "34     1\n",
            "52     1\n",
            "Name: duration_in_month, dtype: int64\n",
            "------------------------------\n",
            "existing credits paid back duly till now                       210\n",
            "critical account/ other credits existing (not at this bank)     40\n",
            "Name: credit_history, dtype: int64\n",
            "------------------------------\n",
            "domestic appliances    104\n",
            "car (new)              102\n",
            "radio/television        25\n",
            "car (used)              14\n",
            "business                 5\n",
            "Name: purpose, dtype: int64\n",
            "------------------------------\n",
            "1235    2\n",
            "1632    2\n",
            "3331    2\n",
            "2140    2\n",
            "2521    2\n",
            "       ..\n",
            "3447    1\n",
            "1738    1\n",
            "2333    1\n",
            "2616    1\n",
            "2928    1\n",
            "Name: credit_amount, Length: 243, dtype: int64\n",
            "------------------------------\n",
            "... < 100 DM    250\n",
            "Name: savings, dtype: int64\n",
            "------------------------------\n",
            "1 <= ... < 4 years    182\n",
            ".. >= 7 years          64\n",
            "... < 1 year            4\n",
            "Name: present_emp_since, dtype: int64\n",
            "------------------------------\n",
            "4    158\n",
            "2     89\n",
            "1      3\n",
            "Name: installment_as_income_perc, dtype: int64\n",
            "------------------------------\n",
            "male      205\n",
            "female     45\n",
            "Name: sex, dtype: int64\n",
            "------------------------------\n",
            "single      179\n",
            "divorced     71\n",
            "Name: personal_status, dtype: int64\n",
            "------------------------------\n",
            "none    250\n",
            "Name: other_debtors, dtype: int64\n",
            "------------------------------\n",
            "2    136\n",
            "4    110\n",
            "1      4\n",
            "Name: present_res_since, dtype: int64\n",
            "------------------------------\n",
            "if not A121/A122 : car or other, not in attribute 6                 148\n",
            "real estate                                                          77\n",
            "unknown / no property                                                19\n",
            "if not A121 : building society savings agreement/ life insurance      6\n",
            "Name: property, dtype: int64\n",
            "------------------------------\n",
            "25    24\n",
            "24    24\n",
            "26    19\n",
            "27    17\n",
            "28    16\n",
            "35    11\n",
            "23    11\n",
            "29     9\n",
            "33     8\n",
            "31     7\n",
            "32     7\n",
            "34     7\n",
            "30     7\n",
            "40     7\n",
            "21     7\n",
            "38     6\n",
            "39     5\n",
            "22     5\n",
            "36     5\n",
            "37     5\n",
            "43     4\n",
            "20     4\n",
            "44     4\n",
            "45     3\n",
            "41     3\n",
            "46     2\n",
            "56     2\n",
            "60     2\n",
            "47     2\n",
            "50     2\n",
            "64     1\n",
            "72     1\n",
            "75     1\n",
            "51     1\n",
            "19     1\n",
            "62     1\n",
            "52     1\n",
            "48     1\n",
            "53     1\n",
            "58     1\n",
            "73     1\n",
            "63     1\n",
            "54     1\n",
            "61     1\n",
            "70     1\n",
            "Name: age, dtype: int64\n",
            "------------------------------\n",
            "none    250\n",
            "Name: other_installment_plans, dtype: int64\n",
            "------------------------------\n",
            "own         243\n",
            "rent          5\n",
            "for free      2\n",
            "Name: housing, dtype: int64\n",
            "------------------------------\n",
            "1    231\n",
            "2     19\n",
            "Name: credits_this_bank, dtype: int64\n",
            "------------------------------\n",
            "skilled employee / official                                      247\n",
            "unskilled - resident                                               2\n",
            "management/ self-employed/ highly qualified employee/ officer      1\n",
            "Name: job, dtype: int64\n",
            "------------------------------\n",
            "1    234\n",
            "2     16\n",
            "Name: people_under_maintenance, dtype: int64\n",
            "------------------------------\n",
            "none                                        154\n",
            "yes, registered under the customers name     96\n",
            "Name: telephone, dtype: int64\n",
            "------------------------------\n",
            "yes    250\n",
            "Name: foreign_worker, dtype: int64\n"
          ]
        }
      ]
    },
    {
      "cell_type": "code",
      "source": [
        "Y_train_aug3 = synthetic_data3['default']\n",
        "X_train_aug3 = synthetic_data3.drop(columns=\"default\")\n",
        "\n",
        "clf_logistic_regression.fit(pd.concat([X_train, X_train_aug3]), pd.concat([Y_train, Y_train_aug3]))\n",
        "clf_logistic_regression.score(X_test, Y_test)"
      ],
      "metadata": {
        "colab": {
          "base_uri": "https://localhost:8080/"
        },
        "id": "LKTnPVyHm-O6",
        "outputId": "911415bf-d6e1-43a2-c728-eab08e0cfe13"
      },
      "execution_count": 26,
      "outputs": [
        {
          "output_type": "execute_result",
          "data": {
            "text/plain": [
              "0.76"
            ]
          },
          "metadata": {},
          "execution_count": 26
        }
      ]
    },
    {
      "cell_type": "markdown",
      "source": [
        "0.765 doesn't improve"
      ],
      "metadata": {
        "id": "QgDp_eeunB2z"
      }
    },
    {
      "cell_type": "code",
      "source": [
        "quality_report3 = evaluate_quality(\n",
        "    real_data=train_data,\n",
        "    synthetic_data=synthetic_data3,\n",
        "    metadata=metadata)"
      ],
      "metadata": {
        "colab": {
          "base_uri": "https://localhost:8080/"
        },
        "id": "qlwEWQTFnEZG",
        "outputId": "263062a1-6012-486e-fce3-d556779ba239"
      },
      "execution_count": 27,
      "outputs": [
        {
          "output_type": "stream",
          "name": "stderr",
          "text": [
            "Creating report: 100%|██████████| 4/4 [00:02<00:00,  1.73it/s]\n"
          ]
        },
        {
          "output_type": "stream",
          "name": "stdout",
          "text": [
            "\n",
            "Overall Quality Score: 73.55%\n",
            "\n",
            "Properties:\n",
            "Column Shapes: 79.34%\n",
            "Column Pair Trends: 67.77%\n"
          ]
        }
      ]
    },
    {
      "cell_type": "code",
      "source": [
        "diagnostic_report3 = run_diagnostic(\n",
        "    real_data=train_data,\n",
        "    synthetic_data=synthetic_data3,\n",
        "    metadata=metadata)"
      ],
      "metadata": {
        "colab": {
          "base_uri": "https://localhost:8080/"
        },
        "id": "jcSFD4qfnIqW",
        "outputId": "b7997536-fec3-4f3c-8c20-9b74fa478ec5"
      },
      "execution_count": 28,
      "outputs": [
        {
          "output_type": "stream",
          "name": "stderr",
          "text": [
            "Creating report: 100%|██████████| 4/4 [00:07<00:00,  1.78s/it]"
          ]
        },
        {
          "output_type": "stream",
          "name": "stdout",
          "text": [
            "\n",
            "DiagnosticResults:\n",
            "\n",
            "SUCCESS:\n",
            "✓ The synthetic data covers over 90% of the numerical ranges present in the real data\n",
            "✓ Over 90% of the synthetic rows are not copies of the real data\n",
            "✓ The synthetic data follows over 90% of the min/max boundaries set by the real data\n",
            "\n",
            "WARNING:\n",
            "! The synthetic data is missing more than 10% of the categories present in the real data\n"
          ]
        },
        {
          "output_type": "stream",
          "name": "stderr",
          "text": [
            "\n"
          ]
        }
      ]
    },
    {
      "cell_type": "code",
      "source": [
        "fig3 = get_column_plot(\n",
        "    real_data=train_data,\n",
        "    synthetic_data=synthetic_data3,\n",
        "    column_name='credit_history',\n",
        "    metadata=metadata\n",
        ")\n",
        "\n",
        "fig3.show()"
      ],
      "metadata": {
        "colab": {
          "base_uri": "https://localhost:8080/",
          "height": 542
        },
        "id": "21u0JYn9nM2Z",
        "outputId": "e6e3650d-364b-4302-cd2b-d13d677dd5f9"
      },
      "execution_count": 29,
      "outputs": [
        {
          "output_type": "display_data",
          "data": {
            "text/html": [
              "<html>\n",
              "<head><meta charset=\"utf-8\" /></head>\n",
              "<body>\n",
              "    <div>            <script src=\"https://cdnjs.cloudflare.com/ajax/libs/mathjax/2.7.5/MathJax.js?config=TeX-AMS-MML_SVG\"></script><script type=\"text/javascript\">if (window.MathJax && window.MathJax.Hub && window.MathJax.Hub.Config) {window.MathJax.Hub.Config({SVG: {font: \"STIX-Web\"}});}</script>                <script type=\"text/javascript\">window.PlotlyConfig = {MathJaxConfig: 'local'};</script>\n",
              "        <script src=\"https://cdn.plot.ly/plotly-2.18.2.min.js\"></script>                <div id=\"4bb148cc-c746-45c9-a5f6-f52d1a364150\" class=\"plotly-graph-div\" style=\"height:525px; width:100%;\"></div>            <script type=\"text/javascript\">                                    window.PLOTLYENV=window.PLOTLYENV || {};                                    if (document.getElementById(\"4bb148cc-c746-45c9-a5f6-f52d1a364150\")) {                    Plotly.newPlot(                        \"4bb148cc-c746-45c9-a5f6-f52d1a364150\",                        [{\"alignmentgroup\":\"True\",\"bingroup\":\"x\",\"histnorm\":\"probability density\",\"hovertemplate\":\"<b>Real</b><br>Frequency: %{y}<extra></extra>\",\"legendgroup\":\"Real\",\"marker\":{\"color\":\"#000036\",\"pattern\":{\"shape\":\"\"}},\"name\":\"Real\",\"offsetgroup\":\"Real\",\"orientation\":\"v\",\"showlegend\":true,\"x\":[\"no credits taken/ all credits paid back duly\",\"existing credits paid back duly till now\",\"existing credits paid back duly till now\",\"critical account/ other credits existing (not at this bank)\",\"existing credits paid back duly till now\",\"existing credits paid back duly till now\",\"existing credits paid back duly till now\",\"existing credits paid back duly till now\",\"delay in paying off in the past\",\"critical account/ other credits existing (not at this bank)\",\"existing credits paid back duly till now\",\"critical account/ other credits existing (not at this bank)\",\"existing credits paid back duly till now\",\"no credits taken/ all credits paid back duly\",\"no credits taken/ all credits paid back duly\",\"critical account/ other credits existing (not at this bank)\",\"no credits taken/ all credits paid back duly\",\"all credits at this bank paid back duly\",\"existing credits paid back duly till now\",\"critical account/ other credits existing (not at this bank)\",\"delay in paying off in the past\",\"existing credits paid back duly till now\",\"existing credits paid back duly till now\",\"existing credits paid back duly till now\",\"existing credits paid back duly till now\",\"critical account/ other credits existing (not at this bank)\",\"critical account/ other credits existing (not at this bank)\",\"existing credits paid back duly till now\",\"existing credits paid back duly till now\",\"existing credits paid back duly till now\",\"existing credits paid back duly till now\",\"critical account/ other credits existing (not at this bank)\",\"critical account/ other credits existing (not at this bank)\",\"existing credits paid back duly till now\",\"critical account/ other credits existing (not at this bank)\",\"existing credits paid back duly till now\",\"delay in paying off in the past\",\"existing credits paid back duly till now\",\"critical account/ other credits existing (not at this bank)\",\"existing credits paid back duly till now\",\"critical account/ other credits existing (not at this bank)\",\"existing credits paid back duly till now\",\"existing credits paid back duly till now\",\"existing credits paid back duly till now\",\"critical account/ other credits existing (not at this bank)\",\"existing credits paid back duly till now\",\"existing credits paid back duly till now\",\"existing credits paid back duly till now\",\"existing credits paid back duly till now\",\"existing credits paid back duly till now\",\"critical account/ other credits existing (not at this bank)\",\"critical account/ other credits existing (not at this bank)\",\"existing credits paid back duly till now\",\"delay in paying off in the past\",\"existing credits paid back duly till now\",\"existing credits paid back duly till now\",\"critical account/ other credits existing (not at this bank)\",\"existing credits paid back duly till now\",\"existing credits paid back duly till now\",\"critical account/ other credits existing (not at this bank)\",\"all credits at this bank paid back duly\",\"existing credits paid back duly till now\",\"critical account/ other credits existing (not at this bank)\",\"critical account/ other credits existing (not at this bank)\",\"no credits taken/ all credits paid back duly\",\"existing credits paid back duly till now\",\"existing credits paid back duly till now\",\"existing credits paid back duly till now\",\"delay in paying off in the past\",\"delay in paying off in the past\",\"existing credits paid back duly till now\",\"existing credits paid back duly till now\",\"existing credits paid back duly till now\",\"existing credits paid back duly till now\",\"critical account/ other credits existing (not at this bank)\",\"critical account/ other credits existing (not at this bank)\",\"existing credits paid back duly till now\",\"existing credits paid back duly till now\",\"existing credits paid back duly till now\",\"all credits at this bank paid back duly\",\"delay in paying off in the past\",\"existing credits paid back duly till now\",\"existing credits paid back duly till now\",\"existing credits paid back duly till now\",\"delay in paying off in the past\",\"no credits taken/ all credits paid back duly\",\"existing credits paid back duly till now\",\"existing credits paid back duly till now\",\"existing credits paid back duly till now\",\"existing credits paid back duly till now\",\"existing credits paid back duly till now\",\"critical account/ other credits existing (not at this bank)\",\"critical account/ other credits existing (not at this bank)\",\"existing credits paid back duly till now\",\"critical account/ other credits existing (not at this bank)\",\"critical account/ other credits existing (not at this bank)\",\"existing credits paid back duly till now\",\"existing credits paid back duly till now\",\"existing credits paid back duly till now\",\"existing credits paid back duly till now\",\"existing credits paid back duly till now\",\"existing credits paid back duly till now\",\"existing credits paid back duly till now\",\"existing credits paid back duly till now\",\"existing credits paid back duly till now\",\"existing credits paid back duly till now\",\"existing credits paid back duly till now\",\"no credits taken/ all credits paid back duly\",\"critical account/ other credits existing (not at this bank)\",\"delay in paying off in the past\",\"critical account/ other credits existing (not at this bank)\",\"existing credits paid back duly till now\",\"existing credits paid back duly till now\",\"existing credits paid back duly till now\",\"existing credits paid back duly till now\",\"critical account/ other credits existing (not at this bank)\",\"existing credits paid back duly till now\",\"critical account/ other credits existing (not at this bank)\",\"critical account/ other credits existing (not at this bank)\",\"existing credits paid back duly till now\",\"all credits at this bank paid back duly\",\"critical account/ other credits existing (not at this bank)\",\"critical account/ other credits existing (not at this bank)\",\"existing credits paid back duly till now\",\"existing credits paid back duly till now\",\"critical account/ other credits existing (not at this bank)\",\"existing credits paid back duly till now\",\"existing credits paid back duly till now\",\"existing credits paid back duly till now\",\"existing credits paid back duly till now\",\"delay in paying off in the past\",\"existing credits paid back duly till now\",\"no credits taken/ all credits paid back duly\",\"existing credits paid back duly till now\",\"existing credits paid back duly till now\",\"no credits taken/ all credits paid back duly\",\"existing credits paid back duly till now\",\"no credits taken/ all credits paid back duly\",\"delay in paying off in the past\",\"critical account/ other credits existing (not at this bank)\",\"existing credits paid back duly till now\",\"existing credits paid back duly till now\",\"critical account/ other credits existing (not at this bank)\",\"existing credits paid back duly till now\",\"existing credits paid back duly till now\",\"existing credits paid back duly till now\",\"existing credits paid back duly till now\",\"existing credits paid back duly till now\",\"existing credits paid back duly till now\",\"existing credits paid back duly till now\",\"critical account/ other credits existing (not at this bank)\",\"critical account/ other credits existing (not at this bank)\",\"existing credits paid back duly till now\",\"existing credits paid back duly till now\",\"existing credits paid back duly till now\",\"all credits at this bank paid back duly\",\"all credits at this bank paid back duly\",\"existing credits paid back duly till now\",\"all credits at this bank paid back duly\",\"critical account/ other credits existing (not at this bank)\",\"delay in paying off in the past\",\"existing credits paid back duly till now\",\"delay in paying off in the past\",\"delay in paying off in the past\",\"existing credits paid back duly till now\",\"critical account/ other credits existing (not at this bank)\",\"delay in paying off in the past\",\"critical account/ other credits existing (not at this bank)\",\"critical account/ other credits existing (not at this bank)\",\"critical account/ other credits existing (not at this bank)\",\"existing credits paid back duly till now\",\"existing credits paid back duly till now\",\"existing credits paid back duly till now\",\"existing credits paid back duly till now\",\"critical account/ other credits existing (not at this bank)\",\"existing credits paid back duly till now\",\"critical account/ other credits existing (not at this bank)\",\"existing credits paid back duly till now\",\"existing credits paid back duly till now\",\"existing credits paid back duly till now\",\"delay in paying off in the past\",\"existing credits paid back duly till now\",\"existing credits paid back duly till now\",\"critical account/ other credits existing (not at this bank)\",\"critical account/ other credits existing (not at this bank)\",\"delay in paying off in the past\",\"existing credits paid back duly till now\",\"existing credits paid back duly till now\",\"existing credits paid back duly till now\",\"delay in paying off in the past\",\"no credits taken/ all credits paid back duly\",\"existing credits paid back duly till now\",\"existing credits paid back duly till now\",\"existing credits paid back duly till now\",\"all credits at this bank paid back duly\",\"existing credits paid back duly till now\",\"existing credits paid back duly till now\",\"existing credits paid back duly till now\",\"critical account/ other credits existing (not at this bank)\",\"existing credits paid back duly till now\",\"no credits taken/ all credits paid back duly\",\"all credits at this bank paid back duly\",\"existing credits paid back duly till now\",\"existing credits paid back duly till now\",\"existing credits paid back duly till now\",\"existing credits paid back duly till now\",\"existing credits paid back duly till now\",\"existing credits paid back duly till now\",\"existing credits paid back duly till now\",\"all credits at this bank paid back duly\",\"critical account/ other credits existing (not at this bank)\",\"existing credits paid back duly till now\",\"critical account/ other credits existing (not at this bank)\",\"existing credits paid back duly till now\",\"all credits at this bank paid back duly\",\"delay in paying off in the past\",\"critical account/ other credits existing (not at this bank)\",\"existing credits paid back duly till now\",\"delay in paying off in the past\",\"existing credits paid back duly till now\",\"delay in paying off in the past\",\"existing credits paid back duly till now\",\"critical account/ other credits existing (not at this bank)\",\"existing credits paid back duly till now\",\"existing credits paid back duly till now\",\"critical account/ other credits existing (not at this bank)\",\"critical account/ other credits existing (not at this bank)\",\"critical account/ other credits existing (not at this bank)\",\"existing credits paid back duly till now\",\"existing credits paid back duly till now\",\"delay in paying off in the past\",\"existing credits paid back duly till now\",\"existing credits paid back duly till now\",\"all credits at this bank paid back duly\",\"existing credits paid back duly till now\",\"existing credits paid back duly till now\",\"existing credits paid back duly till now\",\"critical account/ other credits existing (not at this bank)\",\"no credits taken/ all credits paid back duly\",\"existing credits paid back duly till now\",\"critical account/ other credits existing (not at this bank)\",\"existing credits paid back duly till now\",\"existing credits paid back duly till now\",\"existing credits paid back duly till now\",\"critical account/ other credits existing (not at this bank)\",\"critical account/ other credits existing (not at this bank)\",\"existing credits paid back duly till now\",\"critical account/ other credits existing (not at this bank)\",\"existing credits paid back duly till now\",\"existing credits paid back duly till now\",\"existing credits paid back duly till now\",\"existing credits paid back duly till now\",\"existing credits paid back duly till now\",\"delay in paying off in the past\",\"critical account/ other credits existing (not at this bank)\",\"critical account/ other credits existing (not at this bank)\",\"critical account/ other credits existing (not at this bank)\",\"critical account/ other credits existing (not at this bank)\",\"critical account/ other credits existing (not at this bank)\",\"critical account/ other credits existing (not at this bank)\",\"critical account/ other credits existing (not at this bank)\",\"existing credits paid back duly till now\",\"existing credits paid back duly till now\",\"critical account/ other credits existing (not at this bank)\",\"existing credits paid back duly till now\",\"existing credits paid back duly till now\",\"no credits taken/ all credits paid back duly\",\"no credits taken/ all credits paid back duly\",\"existing credits paid back duly till now\",\"existing credits paid back duly till now\",\"existing credits paid back duly till now\",\"delay in paying off in the past\",\"critical account/ other credits existing (not at this bank)\",\"existing credits paid back duly till now\",\"existing credits paid back duly till now\",\"existing credits paid back duly till now\",\"existing credits paid back duly till now\",\"existing credits paid back duly till now\",\"existing credits paid back duly till now\",\"critical account/ other credits existing (not at this bank)\",\"critical account/ other credits existing (not at this bank)\",\"all credits at this bank paid back duly\",\"delay in paying off in the past\",\"critical account/ other credits existing (not at this bank)\",\"no credits taken/ all credits paid back duly\",\"critical account/ other credits existing (not at this bank)\",\"existing credits paid back duly till now\",\"existing credits paid back duly till now\",\"critical account/ other credits existing (not at this bank)\",\"critical account/ other credits existing (not at this bank)\",\"existing credits paid back duly till now\",\"critical account/ other credits existing (not at this bank)\",\"existing credits paid back duly till now\",\"critical account/ other credits existing (not at this bank)\",\"existing credits paid back duly till now\",\"critical account/ other credits existing (not at this bank)\",\"existing credits paid back duly till now\",\"existing credits paid back duly till now\",\"existing credits paid back duly till now\",\"critical account/ other credits existing (not at this bank)\",\"existing credits paid back duly till now\",\"critical account/ other credits existing (not at this bank)\",\"critical account/ other credits existing (not at this bank)\",\"critical account/ other credits existing (not at this bank)\",\"existing credits paid back duly till now\",\"critical account/ other credits existing (not at this bank)\",\"existing credits paid back duly till now\",\"delay in paying off in the past\",\"critical account/ other credits existing (not at this bank)\",\"existing credits paid back duly till now\",\"critical account/ other credits existing (not at this bank)\",\"existing credits paid back duly till now\",\"existing credits paid back duly till now\",\"existing credits paid back duly till now\",\"existing credits paid back duly till now\",\"critical account/ other credits existing (not at this bank)\",\"existing credits paid back duly till now\",\"all credits at this bank paid back duly\",\"critical account/ other credits existing (not at this bank)\",\"existing credits paid back duly till now\",\"all credits at this bank paid back duly\",\"critical account/ other credits existing (not at this bank)\",\"existing credits paid back duly till now\",\"existing credits paid back duly till now\",\"existing credits paid back duly till now\",\"critical account/ other credits existing (not at this bank)\",\"critical account/ other credits existing (not at this bank)\",\"existing credits paid back duly till now\",\"critical account/ other credits existing (not at this bank)\",\"critical account/ other credits existing (not at this bank)\",\"critical account/ other credits existing (not at this bank)\",\"critical account/ other credits existing (not at this bank)\",\"critical account/ other credits existing (not at this bank)\",\"existing credits paid back duly till now\",\"existing credits paid back duly till now\",\"critical account/ other credits existing (not at this bank)\",\"existing credits paid back duly till now\",\"existing credits paid back duly till now\",\"existing credits paid back duly till now\",\"critical account/ other credits existing (not at this bank)\",\"existing credits paid back duly till now\",\"critical account/ other credits existing (not at this bank)\",\"existing credits paid back duly till now\",\"delay in paying off in the past\",\"existing credits paid back duly till now\",\"existing credits paid back duly till now\",\"critical account/ other credits existing (not at this bank)\",\"critical account/ other credits existing (not at this bank)\",\"critical account/ other credits existing (not at this bank)\",\"existing credits paid back duly till now\",\"existing credits paid back duly till now\",\"existing credits paid back duly till now\",\"existing credits paid back duly till now\",\"existing credits paid back duly till now\",\"delay in paying off in the past\",\"existing credits paid back duly till now\",\"existing credits paid back duly till now\",\"critical account/ other credits existing (not at this bank)\",\"existing credits paid back duly till now\",\"delay in paying off in the past\",\"delay in paying off in the past\",\"critical account/ other credits existing (not at this bank)\",\"existing credits paid back duly till now\",\"existing credits paid back duly till now\",\"critical account/ other credits existing (not at this bank)\",\"existing credits paid back duly till now\",\"critical account/ other credits existing (not at this bank)\",\"all credits at this bank paid back duly\",\"critical account/ other credits existing (not at this bank)\",\"existing credits paid back duly till now\",\"existing credits paid back duly till now\",\"critical account/ other credits existing (not at this bank)\",\"critical account/ other credits existing (not at this bank)\",\"critical account/ other credits existing (not at this bank)\",\"critical account/ other credits existing (not at this bank)\",\"critical account/ other credits existing (not at this bank)\",\"existing credits paid back duly till now\",\"existing credits paid back duly till now\",\"existing credits paid back duly till now\",\"existing credits paid back duly till now\",\"all credits at this bank paid back duly\",\"critical account/ other credits existing (not at this bank)\",\"existing credits paid back duly till now\",\"existing credits paid back duly till now\",\"existing credits paid back duly till now\",\"existing credits paid back duly till now\",\"existing credits paid back duly till now\",\"delay in paying off in the past\",\"delay in paying off in the past\",\"critical account/ other credits existing (not at this bank)\",\"critical account/ other credits existing (not at this bank)\",\"existing credits paid back duly till now\",\"existing credits paid back duly till now\",\"delay in paying off in the past\",\"existing credits paid back duly till now\",\"existing credits paid back duly till now\",\"critical account/ other credits existing (not at this bank)\",\"existing credits paid back duly till now\",\"critical account/ other credits existing (not at this bank)\",\"critical account/ other credits existing (not at this bank)\",\"no credits taken/ all credits paid back duly\",\"existing credits paid back duly till now\",\"existing credits paid back duly till now\",\"existing credits paid back duly till now\",\"existing credits paid back duly till now\",\"existing credits paid back duly till now\",\"existing credits paid back duly till now\",\"existing credits paid back duly till now\",\"critical account/ other credits existing (not at this bank)\",\"existing credits paid back duly till now\",\"critical account/ other credits existing (not at this bank)\",\"existing credits paid back duly till now\",\"existing credits paid back duly till now\",\"existing credits paid back duly till now\",\"existing credits paid back duly till now\",\"all credits at this bank paid back duly\",\"existing credits paid back duly till now\",\"all credits at this bank paid back duly\",\"existing credits paid back duly till now\",\"existing credits paid back duly till now\",\"existing credits paid back duly till now\",\"existing credits paid back duly till now\",\"critical account/ other credits existing (not at this bank)\",\"critical account/ other credits existing (not at this bank)\",\"existing credits paid back duly till now\",\"critical account/ other credits existing (not at this bank)\",\"critical account/ other credits existing (not at this bank)\",\"delay in paying off in the past\",\"no credits taken/ all credits paid back duly\",\"critical account/ other credits existing (not at this bank)\",\"critical account/ other credits existing (not at this bank)\",\"existing credits paid back duly till now\",\"critical account/ other credits existing (not at this bank)\",\"critical account/ other credits existing (not at this bank)\",\"existing credits paid back duly till now\",\"existing credits paid back duly till now\",\"critical account/ other credits existing (not at this bank)\",\"critical account/ other credits existing (not at this bank)\",\"delay in paying off in the past\",\"critical account/ other credits existing (not at this bank)\",\"existing credits paid back duly till now\",\"critical account/ other credits existing (not at this bank)\",\"delay in paying off in the past\",\"existing credits paid back duly till now\",\"critical account/ other credits existing (not at this bank)\",\"critical account/ other credits existing (not at this bank)\",\"existing credits paid back duly till now\",\"existing credits paid back duly till now\",\"critical account/ other credits existing (not at this bank)\",\"critical account/ other credits existing (not at this bank)\",\"existing credits paid back duly till now\",\"existing credits paid back duly till now\",\"critical account/ other credits existing (not at this bank)\",\"delay in paying off in the past\",\"critical account/ other credits existing (not at this bank)\",\"existing credits paid back duly till now\",\"existing credits paid back duly till now\",\"critical account/ other credits existing (not at this bank)\",\"existing credits paid back duly till now\",\"critical account/ other credits existing (not at this bank)\",\"existing credits paid back duly till now\",\"existing credits paid back duly till now\",\"existing credits paid back duly till now\",\"critical account/ other credits existing (not at this bank)\",\"no credits taken/ all credits paid back duly\",\"existing credits paid back duly till now\",\"existing credits paid back duly till now\",\"critical account/ other credits existing (not at this bank)\",\"critical account/ other credits existing (not at this bank)\",\"existing credits paid back duly till now\",\"existing credits paid back duly till now\",\"existing credits paid back duly till now\",\"existing credits paid back duly till now\",\"critical account/ other credits existing (not at this bank)\",\"critical account/ other credits existing (not at this bank)\",\"critical account/ other credits existing (not at this bank)\",\"delay in paying off in the past\",\"existing credits paid back duly till now\",\"existing credits paid back duly till now\",\"existing credits paid back duly till now\",\"existing credits paid back duly till now\",\"no credits taken/ all credits paid back duly\",\"existing credits paid back duly till now\",\"existing credits paid back duly till now\",\"critical account/ other credits existing (not at this bank)\",\"existing credits paid back duly till now\",\"existing credits paid back duly till now\",\"no credits taken/ all credits paid back duly\",\"existing credits paid back duly till now\",\"critical account/ other credits existing (not at this bank)\",\"existing credits paid back duly till now\",\"existing credits paid back duly till now\",\"critical account/ other credits existing (not at this bank)\",\"existing credits paid back duly till now\",\"existing credits paid back duly till now\",\"existing credits paid back duly till now\",\"existing credits paid back duly till now\",\"existing credits paid back duly till now\",\"delay in paying off in the past\",\"existing credits paid back duly till now\",\"existing credits paid back duly till now\",\"existing credits paid back duly till now\",\"all credits at this bank paid back duly\",\"no credits taken/ all credits paid back duly\",\"critical account/ other credits existing (not at this bank)\",\"existing credits paid back duly till now\",\"critical account/ other credits existing (not at this bank)\",\"existing credits paid back duly till now\",\"critical account/ other credits existing (not at this bank)\",\"existing credits paid back duly till now\",\"critical account/ other credits existing (not at this bank)\",\"existing credits paid back duly till now\",\"all credits at this bank paid back duly\",\"critical account/ other credits existing (not at this bank)\",\"existing credits paid back duly till now\",\"existing credits paid back duly till now\",\"critical account/ other credits existing (not at this bank)\",\"critical account/ other credits existing (not at this bank)\",\"critical account/ other credits existing (not at this bank)\",\"existing credits paid back duly till now\",\"critical account/ other credits existing (not at this bank)\",\"existing credits paid back duly till now\",\"critical account/ other credits existing (not at this bank)\",\"existing credits paid back duly till now\",\"critical account/ other credits existing (not at this bank)\",\"existing credits paid back duly till now\",\"critical account/ other credits existing (not at this bank)\",\"delay in paying off in the past\",\"existing credits paid back duly till now\",\"existing credits paid back duly till now\",\"existing credits paid back duly till now\",\"existing credits paid back duly till now\",\"all credits at this bank paid back duly\",\"existing credits paid back duly till now\",\"existing credits paid back duly till now\",\"existing credits paid back duly till now\",\"critical account/ other credits existing (not at this bank)\",\"critical account/ other credits existing (not at this bank)\",\"existing credits paid back duly till now\",\"all credits at this bank paid back duly\",\"existing credits paid back duly till now\",\"critical account/ other credits existing (not at this bank)\",\"existing credits paid back duly till now\",\"existing credits paid back duly till now\",\"existing credits paid back duly till now\",\"all credits at this bank paid back duly\",\"all credits at this bank paid back duly\",\"existing credits paid back duly till now\",\"existing credits paid back duly till now\",\"delay in paying off in the past\",\"delay in paying off in the past\",\"existing credits paid back duly till now\",\"existing credits paid back duly till now\",\"delay in paying off in the past\",\"existing credits paid back duly till now\",\"delay in paying off in the past\",\"existing credits paid back duly till now\",\"no credits taken/ all credits paid back duly\",\"critical account/ other credits existing (not at this bank)\",\"existing credits paid back duly till now\",\"critical account/ other credits existing (not at this bank)\",\"critical account/ other credits existing (not at this bank)\",\"existing credits paid back duly till now\",\"existing credits paid back duly till now\",\"critical account/ other credits existing (not at this bank)\",\"existing credits paid back duly till now\",\"existing credits paid back duly till now\",\"delay in paying off in the past\",\"delay in paying off in the past\",\"existing credits paid back duly till now\",\"no credits taken/ all credits paid back duly\",\"critical account/ other credits existing (not at this bank)\",\"existing credits paid back duly till now\",\"existing credits paid back duly till now\",\"existing credits paid back duly till now\",\"existing credits paid back duly till now\",\"existing credits paid back duly till now\",\"existing credits paid back duly till now\",\"existing credits paid back duly till now\",\"all credits at this bank paid back duly\",\"existing credits paid back duly till now\",\"critical account/ other credits existing (not at this bank)\",\"critical account/ other credits existing (not at this bank)\",\"delay in paying off in the past\",\"existing credits paid back duly till now\",\"existing credits paid back duly till now\",\"critical account/ other credits existing (not at this bank)\",\"existing credits paid back duly till now\",\"existing credits paid back duly till now\",\"existing credits paid back duly till now\",\"critical account/ other credits existing (not at this bank)\",\"existing credits paid back duly till now\",\"critical account/ other credits existing (not at this bank)\",\"no credits taken/ all credits paid back duly\",\"critical account/ other credits existing (not at this bank)\",\"critical account/ other credits existing (not at this bank)\",\"existing credits paid back duly till now\",\"existing credits paid back duly till now\",\"existing credits paid back duly till now\",\"existing credits paid back duly till now\",\"existing credits paid back duly till now\",\"existing credits paid back duly till now\",\"existing credits paid back duly till now\",\"critical account/ other credits existing (not at this bank)\",\"critical account/ other credits existing (not at this bank)\",\"critical account/ other credits existing (not at this bank)\",\"critical account/ other credits existing (not at this bank)\",\"existing credits paid back duly till now\",\"critical account/ other credits existing (not at this bank)\",\"existing credits paid back duly till now\",\"delay in paying off in the past\",\"existing credits paid back duly till now\",\"delay in paying off in the past\",\"critical account/ other credits existing (not at this bank)\",\"delay in paying off in the past\",\"existing credits paid back duly till now\",\"all credits at this bank paid back duly\",\"delay in paying off in the past\",\"existing credits paid back duly till now\",\"critical account/ other credits existing (not at this bank)\",\"critical account/ other credits existing (not at this bank)\",\"critical account/ other credits existing (not at this bank)\",\"existing credits paid back duly till now\",\"critical account/ other credits existing (not at this bank)\",\"critical account/ other credits existing (not at this bank)\",\"existing credits paid back duly till now\",\"all credits at this bank paid back duly\",\"no credits taken/ all credits paid back duly\",\"existing credits paid back duly till now\",\"critical account/ other credits existing (not at this bank)\",\"existing credits paid back duly till now\",\"critical account/ other credits existing (not at this bank)\",\"existing credits paid back duly till now\",\"critical account/ other credits existing (not at this bank)\",\"delay in paying off in the past\",\"existing credits paid back duly till now\",\"existing credits paid back duly till now\",\"existing credits paid back duly till now\",\"critical account/ other credits existing (not at this bank)\",\"existing credits paid back duly till now\",\"all credits at this bank paid back duly\",\"critical account/ other credits existing (not at this bank)\",\"critical account/ other credits existing (not at this bank)\",\"critical account/ other credits existing (not at this bank)\",\"existing credits paid back duly till now\",\"existing credits paid back duly till now\",\"delay in paying off in the past\",\"existing credits paid back duly till now\",\"existing credits paid back duly till now\",\"existing credits paid back duly till now\",\"critical account/ other credits existing (not at this bank)\",\"existing credits paid back duly till now\",\"critical account/ other credits existing (not at this bank)\",\"delay in paying off in the past\",\"all credits at this bank paid back duly\",\"critical account/ other credits existing (not at this bank)\",\"delay in paying off in the past\",\"existing credits paid back duly till now\",\"delay in paying off in the past\",\"no credits taken/ all credits paid back duly\",\"existing credits paid back duly till now\",\"existing credits paid back duly till now\",\"existing credits paid back duly till now\",\"critical account/ other credits existing (not at this bank)\",\"critical account/ other credits existing (not at this bank)\",\"all credits at this bank paid back duly\",\"no credits taken/ all credits paid back duly\",\"all credits at this bank paid back duly\",\"existing credits paid back duly till now\",\"existing credits paid back duly till now\",\"existing credits paid back duly till now\",\"critical account/ other credits existing (not at this bank)\",\"critical account/ other credits existing (not at this bank)\",\"critical account/ other credits existing (not at this bank)\",\"critical account/ other credits existing (not at this bank)\",\"critical account/ other credits existing (not at this bank)\",\"critical account/ other credits existing (not at this bank)\",\"delay in paying off in the past\",\"critical account/ other credits existing (not at this bank)\",\"critical account/ other credits existing (not at this bank)\",\"critical account/ other credits existing (not at this bank)\",\"delay in paying off in the past\",\"existing credits paid back duly till now\",\"critical account/ other credits existing (not at this bank)\",\"no credits taken/ all credits paid back duly\",\"all credits at this bank paid back duly\",\"all credits at this bank paid back duly\",\"all credits at this bank paid back duly\",\"existing credits paid back duly till now\",\"existing credits paid back duly till now\",\"critical account/ other credits existing (not at this bank)\",\"existing credits paid back duly till now\",\"critical account/ other credits existing (not at this bank)\",\"critical account/ other credits existing (not at this bank)\",\"existing credits paid back duly till now\",\"existing credits paid back duly till now\",\"existing credits paid back duly till now\",\"existing credits paid back duly till now\",\"critical account/ other credits existing (not at this bank)\",\"existing credits paid back duly till now\",\"critical account/ other credits existing (not at this bank)\",\"critical account/ other credits existing (not at this bank)\",\"critical account/ other credits existing (not at this bank)\",\"delay in paying off in the past\",\"delay in paying off in the past\",\"all credits at this bank paid back duly\",\"existing credits paid back duly till now\",\"delay in paying off in the past\",\"critical account/ other credits existing (not at this bank)\",\"critical account/ other credits existing (not at this bank)\",\"existing credits paid back duly till now\",\"critical account/ other credits existing (not at this bank)\",\"existing credits paid back duly till now\",\"critical account/ other credits existing (not at this bank)\",\"existing credits paid back duly till now\",\"existing credits paid back duly till now\",\"existing credits paid back duly till now\",\"existing credits paid back duly till now\",\"critical account/ other credits existing (not at this bank)\",\"existing credits paid back duly till now\",\"critical account/ other credits existing (not at this bank)\",\"critical account/ other credits existing (not at this bank)\",\"critical account/ other credits existing (not at this bank)\",\"existing credits paid back duly till now\",\"existing credits paid back duly till now\",\"critical account/ other credits existing (not at this bank)\",\"critical account/ other credits existing (not at this bank)\",\"existing credits paid back duly till now\",\"existing credits paid back duly till now\",\"delay in paying off in the past\",\"existing credits paid back duly till now\",\"existing credits paid back duly till now\",\"delay in paying off in the past\",\"existing credits paid back duly till now\",\"critical account/ other credits existing (not at this bank)\",\"existing credits paid back duly till now\",\"existing credits paid back duly till now\",\"critical account/ other credits existing (not at this bank)\",\"delay in paying off in the past\",\"critical account/ other credits existing (not at this bank)\",\"critical account/ other credits existing (not at this bank)\",\"critical account/ other credits existing (not at this bank)\",\"existing credits paid back duly till now\",\"existing credits paid back duly till now\",\"critical account/ other credits existing (not at this bank)\",\"existing credits paid back duly till now\",\"critical account/ other credits existing (not at this bank)\",\"existing credits paid back duly till now\",\"existing credits paid back duly till now\",\"delay in paying off in the past\",\"all credits at this bank paid back duly\",\"existing credits paid back duly till now\",\"existing credits paid back duly till now\",\"no credits taken/ all credits paid back duly\",\"critical account/ other credits existing (not at this bank)\",\"delay in paying off in the past\",\"all credits at this bank paid back duly\",\"delay in paying off in the past\",\"existing credits paid back duly till now\",\"delay in paying off in the past\",\"critical account/ other credits existing (not at this bank)\",\"existing credits paid back duly till now\",\"existing credits paid back duly till now\",\"existing credits paid back duly till now\",\"existing credits paid back duly till now\",\"critical account/ other credits existing (not at this bank)\",\"critical account/ other credits existing (not at this bank)\",\"existing credits paid back duly till now\",\"critical account/ other credits existing (not at this bank)\",\"existing credits paid back duly till now\",\"existing credits paid back duly till now\",\"no credits taken/ all credits paid back duly\",\"existing credits paid back duly till now\",\"critical account/ other credits existing (not at this bank)\",\"existing credits paid back duly till now\",\"existing credits paid back duly till now\",\"all credits at this bank paid back duly\",\"delay in paying off in the past\",\"all credits at this bank paid back duly\",\"critical account/ other credits existing (not at this bank)\",\"delay in paying off in the past\",\"delay in paying off in the past\",\"delay in paying off in the past\",\"existing credits paid back duly till now\",\"existing credits paid back duly till now\",\"existing credits paid back duly till now\",\"existing credits paid back duly till now\",\"critical account/ other credits existing (not at this bank)\",\"existing credits paid back duly till now\",\"existing credits paid back duly till now\",\"existing credits paid back duly till now\",\"critical account/ other credits existing (not at this bank)\",\"critical account/ other credits existing (not at this bank)\",\"existing credits paid back duly till now\",\"existing credits paid back duly till now\",\"critical account/ other credits existing (not at this bank)\",\"critical account/ other credits existing (not at this bank)\",\"existing credits paid back duly till now\",\"critical account/ other credits existing (not at this bank)\",\"critical account/ other credits existing (not at this bank)\"],\"xaxis\":\"x\",\"yaxis\":\"y\",\"type\":\"histogram\"},{\"alignmentgroup\":\"True\",\"bingroup\":\"x\",\"histnorm\":\"probability density\",\"hovertemplate\":\"<b>Synthetic</b><br>Frequency: %{y}<extra></extra>\",\"legendgroup\":\"Synthetic\",\"marker\":{\"color\":\"#01E0C9\",\"pattern\":{\"shape\":\"/\"}},\"name\":\"Synthetic\",\"offsetgroup\":\"Synthetic\",\"orientation\":\"v\",\"showlegend\":true,\"x\":[\"existing credits paid back duly till now\",\"existing credits paid back duly till now\",\"existing credits paid back duly till now\",\"existing credits paid back duly till now\",\"existing credits paid back duly till now\",\"existing credits paid back duly till now\",\"existing credits paid back duly till now\",\"existing credits paid back duly till now\",\"existing credits paid back duly till now\",\"existing credits paid back duly till now\",\"critical account/ other credits existing (not at this bank)\",\"existing credits paid back duly till now\",\"critical account/ other credits existing (not at this bank)\",\"existing credits paid back duly till now\",\"existing credits paid back duly till now\",\"existing credits paid back duly till now\",\"critical account/ other credits existing (not at this bank)\",\"existing credits paid back duly till now\",\"existing credits paid back duly till now\",\"existing credits paid back duly till now\",\"existing credits paid back duly till now\",\"existing credits paid back duly till now\",\"existing credits paid back duly till now\",\"critical account/ other credits existing (not at this bank)\",\"existing credits paid back duly till now\",\"existing credits paid back duly till now\",\"existing credits paid back duly till now\",\"existing credits paid back duly till now\",\"critical account/ other credits existing (not at this bank)\",\"existing credits paid back duly till now\",\"critical account/ other credits existing (not at this bank)\",\"existing credits paid back duly till now\",\"existing credits paid back duly till now\",\"existing credits paid back duly till now\",\"existing credits paid back duly till now\",\"existing credits paid back duly till now\",\"critical account/ other credits existing (not at this bank)\",\"existing credits paid back duly till now\",\"existing credits paid back duly till now\",\"existing credits paid back duly till now\",\"critical account/ other credits existing (not at this bank)\",\"existing credits paid back duly till now\",\"existing credits paid back duly till now\",\"existing credits paid back duly till now\",\"existing credits paid back duly till now\",\"critical account/ other credits existing (not at this bank)\",\"existing credits paid back duly till now\",\"existing credits paid back duly till now\",\"existing credits paid back duly till now\",\"existing credits paid back duly till now\",\"existing credits paid back duly till now\",\"existing credits paid back duly till now\",\"existing credits paid back duly till now\",\"existing credits paid back duly till now\",\"critical account/ other credits existing (not at this bank)\",\"existing credits paid back duly till now\",\"existing credits paid back duly till now\",\"existing credits paid back duly till now\",\"existing credits paid back duly till now\",\"existing credits paid back duly till now\",\"critical account/ other credits existing (not at this bank)\",\"existing credits paid back duly till now\",\"critical account/ other credits existing (not at this bank)\",\"existing credits paid back duly till now\",\"existing credits paid back duly till now\",\"existing credits paid back duly till now\",\"existing credits paid back duly till now\",\"existing credits paid back duly till now\",\"existing credits paid back duly till now\",\"existing credits paid back duly till now\",\"existing credits paid back duly till now\",\"existing credits paid back duly till now\",\"critical account/ other credits existing (not at this bank)\",\"existing credits paid back duly till now\",\"existing credits paid back duly till now\",\"existing credits paid back duly till now\",\"existing credits paid back duly till now\",\"critical account/ other credits existing (not at this bank)\",\"critical account/ other credits existing (not at this bank)\",\"existing credits paid back duly till now\",\"existing credits paid back duly till now\",\"existing credits paid back duly till now\",\"existing credits paid back duly till now\",\"existing credits paid back duly till now\",\"critical account/ other credits existing (not at this bank)\",\"critical account/ other credits existing (not at this bank)\",\"existing credits paid back duly till now\",\"existing credits paid back duly till now\",\"existing credits paid back duly till now\",\"existing credits paid back duly till now\",\"existing credits paid back duly till now\",\"existing credits paid back duly till now\",\"existing credits paid back duly till now\",\"critical account/ other credits existing (not at this bank)\",\"existing credits paid back duly till now\",\"existing credits paid back duly till now\",\"critical account/ other credits existing (not at this bank)\",\"existing credits paid back duly till now\",\"existing credits paid back duly till now\",\"existing credits paid back duly till now\",\"existing credits paid back duly till now\",\"existing credits paid back duly till now\",\"existing credits paid back duly till now\",\"existing credits paid back duly till now\",\"existing credits paid back duly till now\",\"existing credits paid back duly till now\",\"existing credits paid back duly till now\",\"critical account/ other credits existing (not at this bank)\",\"existing credits paid back duly till now\",\"existing credits paid back duly till now\",\"existing credits paid back duly till now\",\"existing credits paid back duly till now\",\"existing credits paid back duly till now\",\"existing credits paid back duly till now\",\"existing credits paid back duly till now\",\"existing credits paid back duly till now\",\"existing credits paid back duly till now\",\"existing credits paid back duly till now\",\"existing credits paid back duly till now\",\"existing credits paid back duly till now\",\"existing credits paid back duly till now\",\"existing credits paid back duly till now\",\"existing credits paid back duly till now\",\"critical account/ other credits existing (not at this bank)\",\"critical account/ other credits existing (not at this bank)\",\"existing credits paid back duly till now\",\"existing credits paid back duly till now\",\"existing credits paid back duly till now\",\"existing credits paid back duly till now\",\"existing credits paid back duly till now\",\"existing credits paid back duly till now\",\"existing credits paid back duly till now\",\"existing credits paid back duly till now\",\"existing credits paid back duly till now\",\"existing credits paid back duly till now\",\"critical account/ other credits existing (not at this bank)\",\"existing credits paid back duly till now\",\"existing credits paid back duly till now\",\"existing credits paid back duly till now\",\"existing credits paid back duly till now\",\"existing credits paid back duly till now\",\"critical account/ other credits existing (not at this bank)\",\"existing credits paid back duly till now\",\"existing credits paid back duly till now\",\"existing credits paid back duly till now\",\"existing credits paid back duly till now\",\"existing credits paid back duly till now\",\"existing credits paid back duly till now\",\"existing credits paid back duly till now\",\"existing credits paid back duly till now\",\"existing credits paid back duly till now\",\"existing credits paid back duly till now\",\"existing credits paid back duly till now\",\"existing credits paid back duly till now\",\"existing credits paid back duly till now\",\"critical account/ other credits existing (not at this bank)\",\"critical account/ other credits existing (not at this bank)\",\"existing credits paid back duly till now\",\"existing credits paid back duly till now\",\"existing credits paid back duly till now\",\"critical account/ other credits existing (not at this bank)\",\"existing credits paid back duly till now\",\"existing credits paid back duly till now\",\"existing credits paid back duly till now\",\"existing credits paid back duly till now\",\"existing credits paid back duly till now\",\"existing credits paid back duly till now\",\"existing credits paid back duly till now\",\"existing credits paid back duly till now\",\"existing credits paid back duly till now\",\"critical account/ other credits existing (not at this bank)\",\"critical account/ other credits existing (not at this bank)\",\"existing credits paid back duly till now\",\"existing credits paid back duly till now\",\"existing credits paid back duly till now\",\"existing credits paid back duly till now\",\"critical account/ other credits existing (not at this bank)\",\"existing credits paid back duly till now\",\"existing credits paid back duly till now\",\"existing credits paid back duly till now\",\"critical account/ other credits existing (not at this bank)\",\"existing credits paid back duly till now\",\"existing credits paid back duly till now\",\"existing credits paid back duly till now\",\"existing credits paid back duly till now\",\"existing credits paid back duly till now\",\"existing credits paid back duly till now\",\"existing credits paid back duly till now\",\"existing credits paid back duly till now\",\"existing credits paid back duly till now\",\"existing credits paid back duly till now\",\"critical account/ other credits existing (not at this bank)\",\"existing credits paid back duly till now\",\"existing credits paid back duly till now\",\"existing credits paid back duly till now\",\"existing credits paid back duly till now\",\"existing credits paid back duly till now\",\"existing credits paid back duly till now\",\"existing credits paid back duly till now\",\"existing credits paid back duly till now\",\"existing credits paid back duly till now\",\"existing credits paid back duly till now\",\"existing credits paid back duly till now\",\"existing credits paid back duly till now\",\"critical account/ other credits existing (not at this bank)\",\"existing credits paid back duly till now\",\"existing credits paid back duly till now\",\"existing credits paid back duly till now\",\"existing credits paid back duly till now\",\"existing credits paid back duly till now\",\"existing credits paid back duly till now\",\"existing credits paid back duly till now\",\"existing credits paid back duly till now\",\"existing credits paid back duly till now\",\"existing credits paid back duly till now\",\"critical account/ other credits existing (not at this bank)\",\"existing credits paid back duly till now\",\"critical account/ other credits existing (not at this bank)\",\"existing credits paid back duly till now\",\"existing credits paid back duly till now\",\"existing credits paid back duly till now\",\"critical account/ other credits existing (not at this bank)\",\"critical account/ other credits existing (not at this bank)\",\"existing credits paid back duly till now\",\"existing credits paid back duly till now\",\"critical account/ other credits existing (not at this bank)\",\"existing credits paid back duly till now\",\"critical account/ other credits existing (not at this bank)\",\"existing credits paid back duly till now\",\"existing credits paid back duly till now\",\"existing credits paid back duly till now\",\"existing credits paid back duly till now\",\"existing credits paid back duly till now\",\"existing credits paid back duly till now\",\"existing credits paid back duly till now\",\"existing credits paid back duly till now\",\"existing credits paid back duly till now\",\"existing credits paid back duly till now\",\"existing credits paid back duly till now\",\"existing credits paid back duly till now\",\"existing credits paid back duly till now\",\"existing credits paid back duly till now\",\"critical account/ other credits existing (not at this bank)\",\"existing credits paid back duly till now\",\"existing credits paid back duly till now\",\"existing credits paid back duly till now\",\"existing credits paid back duly till now\",\"existing credits paid back duly till now\",\"existing credits paid back duly till now\",\"existing credits paid back duly till now\"],\"xaxis\":\"x\",\"yaxis\":\"y\",\"type\":\"histogram\"}],                        {\"template\":{\"data\":{\"histogram2dcontour\":[{\"type\":\"histogram2dcontour\",\"colorbar\":{\"outlinewidth\":0,\"ticks\":\"\"},\"colorscale\":[[0.0,\"#0d0887\"],[0.1111111111111111,\"#46039f\"],[0.2222222222222222,\"#7201a8\"],[0.3333333333333333,\"#9c179e\"],[0.4444444444444444,\"#bd3786\"],[0.5555555555555556,\"#d8576b\"],[0.6666666666666666,\"#ed7953\"],[0.7777777777777778,\"#fb9f3a\"],[0.8888888888888888,\"#fdca26\"],[1.0,\"#f0f921\"]]}],\"choropleth\":[{\"type\":\"choropleth\",\"colorbar\":{\"outlinewidth\":0,\"ticks\":\"\"}}],\"histogram2d\":[{\"type\":\"histogram2d\",\"colorbar\":{\"outlinewidth\":0,\"ticks\":\"\"},\"colorscale\":[[0.0,\"#0d0887\"],[0.1111111111111111,\"#46039f\"],[0.2222222222222222,\"#7201a8\"],[0.3333333333333333,\"#9c179e\"],[0.4444444444444444,\"#bd3786\"],[0.5555555555555556,\"#d8576b\"],[0.6666666666666666,\"#ed7953\"],[0.7777777777777778,\"#fb9f3a\"],[0.8888888888888888,\"#fdca26\"],[1.0,\"#f0f921\"]]}],\"heatmap\":[{\"type\":\"heatmap\",\"colorbar\":{\"outlinewidth\":0,\"ticks\":\"\"},\"colorscale\":[[0.0,\"#0d0887\"],[0.1111111111111111,\"#46039f\"],[0.2222222222222222,\"#7201a8\"],[0.3333333333333333,\"#9c179e\"],[0.4444444444444444,\"#bd3786\"],[0.5555555555555556,\"#d8576b\"],[0.6666666666666666,\"#ed7953\"],[0.7777777777777778,\"#fb9f3a\"],[0.8888888888888888,\"#fdca26\"],[1.0,\"#f0f921\"]]}],\"heatmapgl\":[{\"type\":\"heatmapgl\",\"colorbar\":{\"outlinewidth\":0,\"ticks\":\"\"},\"colorscale\":[[0.0,\"#0d0887\"],[0.1111111111111111,\"#46039f\"],[0.2222222222222222,\"#7201a8\"],[0.3333333333333333,\"#9c179e\"],[0.4444444444444444,\"#bd3786\"],[0.5555555555555556,\"#d8576b\"],[0.6666666666666666,\"#ed7953\"],[0.7777777777777778,\"#fb9f3a\"],[0.8888888888888888,\"#fdca26\"],[1.0,\"#f0f921\"]]}],\"contourcarpet\":[{\"type\":\"contourcarpet\",\"colorbar\":{\"outlinewidth\":0,\"ticks\":\"\"}}],\"contour\":[{\"type\":\"contour\",\"colorbar\":{\"outlinewidth\":0,\"ticks\":\"\"},\"colorscale\":[[0.0,\"#0d0887\"],[0.1111111111111111,\"#46039f\"],[0.2222222222222222,\"#7201a8\"],[0.3333333333333333,\"#9c179e\"],[0.4444444444444444,\"#bd3786\"],[0.5555555555555556,\"#d8576b\"],[0.6666666666666666,\"#ed7953\"],[0.7777777777777778,\"#fb9f3a\"],[0.8888888888888888,\"#fdca26\"],[1.0,\"#f0f921\"]]}],\"surface\":[{\"type\":\"surface\",\"colorbar\":{\"outlinewidth\":0,\"ticks\":\"\"},\"colorscale\":[[0.0,\"#0d0887\"],[0.1111111111111111,\"#46039f\"],[0.2222222222222222,\"#7201a8\"],[0.3333333333333333,\"#9c179e\"],[0.4444444444444444,\"#bd3786\"],[0.5555555555555556,\"#d8576b\"],[0.6666666666666666,\"#ed7953\"],[0.7777777777777778,\"#fb9f3a\"],[0.8888888888888888,\"#fdca26\"],[1.0,\"#f0f921\"]]}],\"mesh3d\":[{\"type\":\"mesh3d\",\"colorbar\":{\"outlinewidth\":0,\"ticks\":\"\"}}],\"scatter\":[{\"fillpattern\":{\"fillmode\":\"overlay\",\"size\":10,\"solidity\":0.2},\"type\":\"scatter\"}],\"parcoords\":[{\"type\":\"parcoords\",\"line\":{\"colorbar\":{\"outlinewidth\":0,\"ticks\":\"\"}}}],\"scatterpolargl\":[{\"type\":\"scatterpolargl\",\"marker\":{\"colorbar\":{\"outlinewidth\":0,\"ticks\":\"\"}}}],\"bar\":[{\"error_x\":{\"color\":\"#2a3f5f\"},\"error_y\":{\"color\":\"#2a3f5f\"},\"marker\":{\"line\":{\"color\":\"#E5ECF6\",\"width\":0.5},\"pattern\":{\"fillmode\":\"overlay\",\"size\":10,\"solidity\":0.2}},\"type\":\"bar\"}],\"scattergeo\":[{\"type\":\"scattergeo\",\"marker\":{\"colorbar\":{\"outlinewidth\":0,\"ticks\":\"\"}}}],\"scatterpolar\":[{\"type\":\"scatterpolar\",\"marker\":{\"colorbar\":{\"outlinewidth\":0,\"ticks\":\"\"}}}],\"histogram\":[{\"marker\":{\"pattern\":{\"fillmode\":\"overlay\",\"size\":10,\"solidity\":0.2}},\"type\":\"histogram\"}],\"scattergl\":[{\"type\":\"scattergl\",\"marker\":{\"colorbar\":{\"outlinewidth\":0,\"ticks\":\"\"}}}],\"scatter3d\":[{\"type\":\"scatter3d\",\"line\":{\"colorbar\":{\"outlinewidth\":0,\"ticks\":\"\"}},\"marker\":{\"colorbar\":{\"outlinewidth\":0,\"ticks\":\"\"}}}],\"scattermapbox\":[{\"type\":\"scattermapbox\",\"marker\":{\"colorbar\":{\"outlinewidth\":0,\"ticks\":\"\"}}}],\"scatterternary\":[{\"type\":\"scatterternary\",\"marker\":{\"colorbar\":{\"outlinewidth\":0,\"ticks\":\"\"}}}],\"scattercarpet\":[{\"type\":\"scattercarpet\",\"marker\":{\"colorbar\":{\"outlinewidth\":0,\"ticks\":\"\"}}}],\"carpet\":[{\"aaxis\":{\"endlinecolor\":\"#2a3f5f\",\"gridcolor\":\"white\",\"linecolor\":\"white\",\"minorgridcolor\":\"white\",\"startlinecolor\":\"#2a3f5f\"},\"baxis\":{\"endlinecolor\":\"#2a3f5f\",\"gridcolor\":\"white\",\"linecolor\":\"white\",\"minorgridcolor\":\"white\",\"startlinecolor\":\"#2a3f5f\"},\"type\":\"carpet\"}],\"table\":[{\"cells\":{\"fill\":{\"color\":\"#EBF0F8\"},\"line\":{\"color\":\"white\"}},\"header\":{\"fill\":{\"color\":\"#C8D4E3\"},\"line\":{\"color\":\"white\"}},\"type\":\"table\"}],\"barpolar\":[{\"marker\":{\"line\":{\"color\":\"#E5ECF6\",\"width\":0.5},\"pattern\":{\"fillmode\":\"overlay\",\"size\":10,\"solidity\":0.2}},\"type\":\"barpolar\"}],\"pie\":[{\"automargin\":true,\"type\":\"pie\"}]},\"layout\":{\"autotypenumbers\":\"strict\",\"colorway\":[\"#636efa\",\"#EF553B\",\"#00cc96\",\"#ab63fa\",\"#FFA15A\",\"#19d3f3\",\"#FF6692\",\"#B6E880\",\"#FF97FF\",\"#FECB52\"],\"font\":{\"color\":\"#2a3f5f\"},\"hovermode\":\"closest\",\"hoverlabel\":{\"align\":\"left\"},\"paper_bgcolor\":\"white\",\"plot_bgcolor\":\"#E5ECF6\",\"polar\":{\"bgcolor\":\"#E5ECF6\",\"angularaxis\":{\"gridcolor\":\"white\",\"linecolor\":\"white\",\"ticks\":\"\"},\"radialaxis\":{\"gridcolor\":\"white\",\"linecolor\":\"white\",\"ticks\":\"\"}},\"ternary\":{\"bgcolor\":\"#E5ECF6\",\"aaxis\":{\"gridcolor\":\"white\",\"linecolor\":\"white\",\"ticks\":\"\"},\"baxis\":{\"gridcolor\":\"white\",\"linecolor\":\"white\",\"ticks\":\"\"},\"caxis\":{\"gridcolor\":\"white\",\"linecolor\":\"white\",\"ticks\":\"\"}},\"coloraxis\":{\"colorbar\":{\"outlinewidth\":0,\"ticks\":\"\"}},\"colorscale\":{\"sequential\":[[0.0,\"#0d0887\"],[0.1111111111111111,\"#46039f\"],[0.2222222222222222,\"#7201a8\"],[0.3333333333333333,\"#9c179e\"],[0.4444444444444444,\"#bd3786\"],[0.5555555555555556,\"#d8576b\"],[0.6666666666666666,\"#ed7953\"],[0.7777777777777778,\"#fb9f3a\"],[0.8888888888888888,\"#fdca26\"],[1.0,\"#f0f921\"]],\"sequentialminus\":[[0.0,\"#0d0887\"],[0.1111111111111111,\"#46039f\"],[0.2222222222222222,\"#7201a8\"],[0.3333333333333333,\"#9c179e\"],[0.4444444444444444,\"#bd3786\"],[0.5555555555555556,\"#d8576b\"],[0.6666666666666666,\"#ed7953\"],[0.7777777777777778,\"#fb9f3a\"],[0.8888888888888888,\"#fdca26\"],[1.0,\"#f0f921\"]],\"diverging\":[[0,\"#8e0152\"],[0.1,\"#c51b7d\"],[0.2,\"#de77ae\"],[0.3,\"#f1b6da\"],[0.4,\"#fde0ef\"],[0.5,\"#f7f7f7\"],[0.6,\"#e6f5d0\"],[0.7,\"#b8e186\"],[0.8,\"#7fbc41\"],[0.9,\"#4d9221\"],[1,\"#276419\"]]},\"xaxis\":{\"gridcolor\":\"white\",\"linecolor\":\"white\",\"ticks\":\"\",\"title\":{\"standoff\":15},\"zerolinecolor\":\"white\",\"automargin\":true,\"zerolinewidth\":2},\"yaxis\":{\"gridcolor\":\"white\",\"linecolor\":\"white\",\"ticks\":\"\",\"title\":{\"standoff\":15},\"zerolinecolor\":\"white\",\"automargin\":true,\"zerolinewidth\":2},\"scene\":{\"xaxis\":{\"backgroundcolor\":\"#E5ECF6\",\"gridcolor\":\"white\",\"linecolor\":\"white\",\"showbackground\":true,\"ticks\":\"\",\"zerolinecolor\":\"white\",\"gridwidth\":2},\"yaxis\":{\"backgroundcolor\":\"#E5ECF6\",\"gridcolor\":\"white\",\"linecolor\":\"white\",\"showbackground\":true,\"ticks\":\"\",\"zerolinecolor\":\"white\",\"gridwidth\":2},\"zaxis\":{\"backgroundcolor\":\"#E5ECF6\",\"gridcolor\":\"white\",\"linecolor\":\"white\",\"showbackground\":true,\"ticks\":\"\",\"zerolinecolor\":\"white\",\"gridwidth\":2}},\"shapedefaults\":{\"line\":{\"color\":\"#2a3f5f\"}},\"annotationdefaults\":{\"arrowcolor\":\"#2a3f5f\",\"arrowhead\":0,\"arrowwidth\":1},\"geo\":{\"bgcolor\":\"white\",\"landcolor\":\"#E5ECF6\",\"subunitcolor\":\"white\",\"showland\":true,\"showlakes\":true,\"lakecolor\":\"white\"},\"title\":{\"x\":0.05},\"mapbox\":{\"style\":\"light\"}}},\"xaxis\":{\"anchor\":\"y\",\"domain\":[0.0,1.0],\"title\":{\"text\":\"Category\"}},\"yaxis\":{\"anchor\":\"x\",\"domain\":[0.0,1.0],\"title\":{\"text\":\"Frequency\"}},\"legend\":{\"title\":{\"text\":\"Data\"},\"tracegroupgap\":0},\"margin\":{\"t\":60},\"barmode\":\"group\",\"title\":{\"text\":\"Real vs. Synthetic Data for column 'credit_history'\"},\"plot_bgcolor\":\"#F5F5F8\"},                        {\"responsive\": true}                    ).then(function(){\n",
              "                            \n",
              "var gd = document.getElementById('4bb148cc-c746-45c9-a5f6-f52d1a364150');\n",
              "var x = new MutationObserver(function (mutations, observer) {{\n",
              "        var display = window.getComputedStyle(gd).display;\n",
              "        if (!display || display === 'none') {{\n",
              "            console.log([gd, 'removed!']);\n",
              "            Plotly.purge(gd);\n",
              "            observer.disconnect();\n",
              "        }}\n",
              "}});\n",
              "\n",
              "// Listen for the removal of the full notebook cells\n",
              "var notebookContainer = gd.closest('#notebook-container');\n",
              "if (notebookContainer) {{\n",
              "    x.observe(notebookContainer, {childList: true});\n",
              "}}\n",
              "\n",
              "// Listen for the clearing of the current output cell\n",
              "var outputEl = gd.closest('.output');\n",
              "if (outputEl) {{\n",
              "    x.observe(outputEl, {childList: true});\n",
              "}}\n",
              "\n",
              "                        })                };                            </script>        </div>\n",
              "</body>\n",
              "</html>"
            ]
          },
          "metadata": {}
        }
      ]
    },
    {
      "cell_type": "markdown",
      "source": [
        "## CopulaGANSynthesizer"
      ],
      "metadata": {
        "id": "Pynjenxpnb3a"
      }
    },
    {
      "cell_type": "code",
      "source": [
        "synthesizer4 = CopulaGANSynthesizer(metadata)\n",
        "synthesizer4.fit(train_data)"
      ],
      "metadata": {
        "id": "HOACo6Lynfhm"
      },
      "execution_count": 30,
      "outputs": []
    },
    {
      "cell_type": "code",
      "source": [
        "synthesizer4.reset_sampling()\n",
        "synthetic_data4 = synthesizer4.sample(num_rows=250)\n",
        "for column in synthetic_data4:\n",
        "  print(\"------------------------------\\n\", synthetic_data4[column].value_counts(), sep ='')"
      ],
      "metadata": {
        "colab": {
          "base_uri": "https://localhost:8080/"
        },
        "id": "6wycdhVFpQrT",
        "outputId": "e5fdce4a-92e3-49ce-dfed-dd1ecdf4a9ca"
      },
      "execution_count": 31,
      "outputs": [
        {
          "output_type": "stream",
          "name": "stdout",
          "text": [
            "------------------------------\n",
            "0    220\n",
            "1     30\n",
            "Name: default, dtype: int64\n",
            "------------------------------\n",
            "no checking account                                   100\n",
            "0 <= ... < 200 DM                                      73\n",
            "< 0 DM                                                 59\n",
            ">= 200 DM / salary assignments for at least 1 year     18\n",
            "Name: account_check_status, dtype: int64\n",
            "------------------------------\n",
            "23    16\n",
            "9     15\n",
            "8     15\n",
            "13    13\n",
            "15    12\n",
            "18    11\n",
            "5     11\n",
            "21    11\n",
            "20    11\n",
            "11    10\n",
            "10     9\n",
            "17     8\n",
            "14     8\n",
            "22     8\n",
            "19     8\n",
            "27     8\n",
            "7      7\n",
            "16     7\n",
            "12     6\n",
            "36     6\n",
            "28     5\n",
            "37     5\n",
            "24     5\n",
            "35     4\n",
            "25     3\n",
            "6      3\n",
            "45     3\n",
            "52     3\n",
            "40     2\n",
            "33     2\n",
            "29     2\n",
            "32     2\n",
            "26     2\n",
            "42     1\n",
            "43     1\n",
            "38     1\n",
            "44     1\n",
            "55     1\n",
            "39     1\n",
            "41     1\n",
            "48     1\n",
            "60     1\n",
            "Name: duration_in_month, dtype: int64\n",
            "------------------------------\n",
            "existing credits paid back duly till now                       116\n",
            "critical account/ other credits existing (not at this bank)     83\n",
            "delay in paying off in the past                                 20\n",
            "all credits at this bank paid back duly                         16\n",
            "no credits taken/ all credits paid back duly                    15\n",
            "Name: credit_history, dtype: int64\n",
            "------------------------------\n",
            "car (new)                       70\n",
            "domestic appliances             66\n",
            "radio/television                35\n",
            "car (used)                      30\n",
            "business                        17\n",
            "(vacation - does not exist?)    13\n",
            "furniture/equipment              7\n",
            "education                        6\n",
            "repairs                          5\n",
            "retraining                       1\n",
            "Name: purpose, dtype: int64\n",
            "------------------------------\n",
            "15672    10\n",
            "2410      2\n",
            "1622      2\n",
            "1686      2\n",
            "3199      2\n",
            "         ..\n",
            "4151      1\n",
            "2148      1\n",
            "3532      1\n",
            "3797      1\n",
            "2311      1\n",
            "Name: credit_amount, Length: 235, dtype: int64\n",
            "------------------------------\n",
            "... < 100 DM                   151\n",
            "unknown/ no savings account     34\n",
            "100 <= ... < 500 DM             32\n",
            ".. >= 1000 DM                   17\n",
            "500 <= ... < 1000 DM            16\n",
            "Name: savings, dtype: int64\n",
            "------------------------------\n",
            "1 <= ... < 4 years    76\n",
            ".. >= 7 years         75\n",
            "... < 1 year          46\n",
            "4 <= ... < 7 years    39\n",
            "unemployed            14\n",
            "Name: present_emp_since, dtype: int64\n",
            "------------------------------\n",
            "1    104\n",
            "4     82\n",
            "2     49\n",
            "3     15\n",
            "Name: installment_as_income_perc, dtype: int64\n",
            "------------------------------\n",
            "male      187\n",
            "female     63\n",
            "Name: sex, dtype: int64\n",
            "------------------------------\n",
            "single      146\n",
            "divorced     82\n",
            "married      22\n",
            "Name: personal_status, dtype: int64\n",
            "------------------------------\n",
            "none            217\n",
            "guarantor        21\n",
            "co-applicant     12\n",
            "Name: other_debtors, dtype: int64\n",
            "------------------------------\n",
            "4    166\n",
            "3     48\n",
            "2     22\n",
            "1     14\n",
            "Name: present_res_since, dtype: int64\n",
            "------------------------------\n",
            "if not A121/A122 : car or other, not in attribute 6                 78\n",
            "real estate                                                         77\n",
            "if not A121 : building society savings agreement/ life insurance    48\n",
            "unknown / no property                                               47\n",
            "Name: property, dtype: int64\n",
            "------------------------------\n",
            "75    19\n",
            "29    10\n",
            "36    10\n",
            "33     9\n",
            "28     9\n",
            "39     8\n",
            "35     8\n",
            "30     7\n",
            "25     7\n",
            "24     7\n",
            "26     6\n",
            "23     6\n",
            "48     6\n",
            "59     6\n",
            "43     6\n",
            "27     6\n",
            "46     6\n",
            "42     6\n",
            "51     5\n",
            "70     5\n",
            "52     5\n",
            "47     5\n",
            "45     5\n",
            "49     5\n",
            "41     5\n",
            "37     5\n",
            "57     4\n",
            "63     4\n",
            "44     4\n",
            "40     4\n",
            "53     4\n",
            "58     4\n",
            "65     4\n",
            "74     3\n",
            "55     3\n",
            "34     3\n",
            "56     3\n",
            "32     3\n",
            "38     3\n",
            "50     3\n",
            "66     3\n",
            "73     2\n",
            "20     2\n",
            "60     2\n",
            "64     2\n",
            "67     1\n",
            "61     1\n",
            "69     1\n",
            "22     1\n",
            "71     1\n",
            "72     1\n",
            "21     1\n",
            "31     1\n",
            "Name: age, dtype: int64\n",
            "------------------------------\n",
            "none      187\n",
            "bank       45\n",
            "stores     18\n",
            "Name: other_installment_plans, dtype: int64\n",
            "------------------------------\n",
            "own         184\n",
            "rent         39\n",
            "for free     27\n",
            "Name: housing, dtype: int64\n",
            "------------------------------\n",
            "2    232\n",
            "4     10\n",
            "3      8\n",
            "Name: credits_this_bank, dtype: int64\n",
            "------------------------------\n",
            "skilled employee / official                                      138\n",
            "management/ self-employed/ highly qualified employee/ officer     55\n",
            "unskilled - resident                                              48\n",
            "unemployed/ unskilled - non-resident                               9\n",
            "Name: job, dtype: int64\n",
            "------------------------------\n",
            "1    231\n",
            "2     19\n",
            "Name: people_under_maintenance, dtype: int64\n",
            "------------------------------\n",
            "none                                        135\n",
            "yes, registered under the customers name    115\n",
            "Name: telephone, dtype: int64\n",
            "------------------------------\n",
            "yes    233\n",
            "no      17\n",
            "Name: foreign_worker, dtype: int64\n"
          ]
        }
      ]
    },
    {
      "cell_type": "code",
      "source": [
        "Y_train_aug4 = synthetic_data4['default']\n",
        "X_train_aug4 = synthetic_data4.drop(columns=\"default\")\n",
        "\n",
        "clf_logistic_regression.fit(pd.concat([X_train, X_train_aug4]), pd.concat([Y_train, Y_train_aug4]))\n",
        "clf_logistic_regression.score(X_test, Y_test)"
      ],
      "metadata": {
        "colab": {
          "base_uri": "https://localhost:8080/"
        },
        "id": "wiyo37lLpTXv",
        "outputId": "412b4298-0d61-4fe7-81c8-4909c53fad1f"
      },
      "execution_count": 32,
      "outputs": [
        {
          "output_type": "execute_result",
          "data": {
            "text/plain": [
              "0.825"
            ]
          },
          "metadata": {},
          "execution_count": 32
        }
      ]
    },
    {
      "cell_type": "markdown",
      "source": [
        "0.755 doesn't improve"
      ],
      "metadata": {
        "id": "c9lpVSZLpZUW"
      }
    },
    {
      "cell_type": "code",
      "source": [
        "quality_report4 = evaluate_quality(\n",
        "    real_data=train_data,\n",
        "    synthetic_data=synthetic_data4,\n",
        "    metadata=metadata)"
      ],
      "metadata": {
        "colab": {
          "base_uri": "https://localhost:8080/"
        },
        "id": "5SH6Kmi_pcxe",
        "outputId": "3ca159f4-ce5e-4967-b046-af0933bd4853"
      },
      "execution_count": 33,
      "outputs": [
        {
          "output_type": "stream",
          "name": "stderr",
          "text": [
            "Creating report: 100%|██████████| 4/4 [00:02<00:00,  1.89it/s]\n"
          ]
        },
        {
          "output_type": "stream",
          "name": "stdout",
          "text": [
            "\n",
            "Overall Quality Score: 84.23%\n",
            "\n",
            "Properties:\n",
            "Column Shapes: 87.19%\n",
            "Column Pair Trends: 81.27%\n"
          ]
        }
      ]
    },
    {
      "cell_type": "code",
      "source": [
        "diagnostic_report4 = run_diagnostic(\n",
        "    real_data=train_data,\n",
        "    synthetic_data=synthetic_data4,\n",
        "    metadata=metadata)"
      ],
      "metadata": {
        "colab": {
          "base_uri": "https://localhost:8080/"
        },
        "id": "crgltLw9phsv",
        "outputId": "290b9a07-5516-462a-8ed0-e82db13b10cc"
      },
      "execution_count": 34,
      "outputs": [
        {
          "output_type": "stream",
          "name": "stderr",
          "text": [
            "Creating report: 100%|██████████| 4/4 [00:06<00:00,  1.67s/it]"
          ]
        },
        {
          "output_type": "stream",
          "name": "stdout",
          "text": [
            "\n",
            "DiagnosticResults:\n",
            "\n",
            "SUCCESS:\n",
            "✓ The synthetic data covers over 90% of the numerical ranges present in the real data\n",
            "✓ The synthetic data covers over 90% of the categories present in the real data\n",
            "✓ Over 90% of the synthetic rows are not copies of the real data\n",
            "✓ The synthetic data follows over 90% of the min/max boundaries set by the real data\n"
          ]
        },
        {
          "output_type": "stream",
          "name": "stderr",
          "text": [
            "\n"
          ]
        }
      ]
    },
    {
      "cell_type": "code",
      "source": [
        "fig4 = get_column_plot(\n",
        "    real_data=train_data,\n",
        "    synthetic_data=synthetic_data4,\n",
        "    column_name='credit_history',\n",
        "    metadata=metadata\n",
        ")\n",
        "\n",
        "fig4.show()"
      ],
      "metadata": {
        "colab": {
          "base_uri": "https://localhost:8080/",
          "height": 542
        },
        "id": "G9HX92pVpkZc",
        "outputId": "350196e2-60be-43ec-86f5-0b945a3b075f"
      },
      "execution_count": 35,
      "outputs": [
        {
          "output_type": "display_data",
          "data": {
            "text/html": [
              "<html>\n",
              "<head><meta charset=\"utf-8\" /></head>\n",
              "<body>\n",
              "    <div>            <script src=\"https://cdnjs.cloudflare.com/ajax/libs/mathjax/2.7.5/MathJax.js?config=TeX-AMS-MML_SVG\"></script><script type=\"text/javascript\">if (window.MathJax && window.MathJax.Hub && window.MathJax.Hub.Config) {window.MathJax.Hub.Config({SVG: {font: \"STIX-Web\"}});}</script>                <script type=\"text/javascript\">window.PlotlyConfig = {MathJaxConfig: 'local'};</script>\n",
              "        <script src=\"https://cdn.plot.ly/plotly-2.18.2.min.js\"></script>                <div id=\"a8dd0eb4-89c4-4bdc-82b0-fba7534d133d\" class=\"plotly-graph-div\" style=\"height:525px; width:100%;\"></div>            <script type=\"text/javascript\">                                    window.PLOTLYENV=window.PLOTLYENV || {};                                    if (document.getElementById(\"a8dd0eb4-89c4-4bdc-82b0-fba7534d133d\")) {                    Plotly.newPlot(                        \"a8dd0eb4-89c4-4bdc-82b0-fba7534d133d\",                        [{\"alignmentgroup\":\"True\",\"bingroup\":\"x\",\"histnorm\":\"probability density\",\"hovertemplate\":\"<b>Real</b><br>Frequency: %{y}<extra></extra>\",\"legendgroup\":\"Real\",\"marker\":{\"color\":\"#000036\",\"pattern\":{\"shape\":\"\"}},\"name\":\"Real\",\"offsetgroup\":\"Real\",\"orientation\":\"v\",\"showlegend\":true,\"x\":[\"no credits taken/ all credits paid back duly\",\"existing credits paid back duly till now\",\"existing credits paid back duly till now\",\"critical account/ other credits existing (not at this bank)\",\"existing credits paid back duly till now\",\"existing credits paid back duly till now\",\"existing credits paid back duly till now\",\"existing credits paid back duly till now\",\"delay in paying off in the past\",\"critical account/ other credits existing (not at this bank)\",\"existing credits paid back duly till now\",\"critical account/ other credits existing (not at this bank)\",\"existing credits paid back duly till now\",\"no credits taken/ all credits paid back duly\",\"no credits taken/ all credits paid back duly\",\"critical account/ other credits existing (not at this bank)\",\"no credits taken/ all credits paid back duly\",\"all credits at this bank paid back duly\",\"existing credits paid back duly till now\",\"critical account/ other credits existing (not at this bank)\",\"delay in paying off in the past\",\"existing credits paid back duly till now\",\"existing credits paid back duly till now\",\"existing credits paid back duly till now\",\"existing credits paid back duly till now\",\"critical account/ other credits existing (not at this bank)\",\"critical account/ other credits existing (not at this bank)\",\"existing credits paid back duly till now\",\"existing credits paid back duly till now\",\"existing credits paid back duly till now\",\"existing credits paid back duly till now\",\"critical account/ other credits existing (not at this bank)\",\"critical account/ other credits existing (not at this bank)\",\"existing credits paid back duly till now\",\"critical account/ other credits existing (not at this bank)\",\"existing credits paid back duly till now\",\"delay in paying off in the past\",\"existing credits paid back duly till now\",\"critical account/ other credits existing (not at this bank)\",\"existing credits paid back duly till now\",\"critical account/ other credits existing (not at this bank)\",\"existing credits paid back duly till now\",\"existing credits paid back duly till now\",\"existing credits paid back duly till now\",\"critical account/ other credits existing (not at this bank)\",\"existing credits paid back duly till now\",\"existing credits paid back duly till now\",\"existing credits paid back duly till now\",\"existing credits paid back duly till now\",\"existing credits paid back duly till now\",\"critical account/ other credits existing (not at this bank)\",\"critical account/ other credits existing (not at this bank)\",\"existing credits paid back duly till now\",\"delay in paying off in the past\",\"existing credits paid back duly till now\",\"existing credits paid back duly till now\",\"critical account/ other credits existing (not at this bank)\",\"existing credits paid back duly till now\",\"existing credits paid back duly till now\",\"critical account/ other credits existing (not at this bank)\",\"all credits at this bank paid back duly\",\"existing credits paid back duly till now\",\"critical account/ other credits existing (not at this bank)\",\"critical account/ other credits existing (not at this bank)\",\"no credits taken/ all credits paid back duly\",\"existing credits paid back duly till now\",\"existing credits paid back duly till now\",\"existing credits paid back duly till now\",\"delay in paying off in the past\",\"delay in paying off in the past\",\"existing credits paid back duly till now\",\"existing credits paid back duly till now\",\"existing credits paid back duly till now\",\"existing credits paid back duly till now\",\"critical account/ other credits existing (not at this bank)\",\"critical account/ other credits existing (not at this bank)\",\"existing credits paid back duly till now\",\"existing credits paid back duly till now\",\"existing credits paid back duly till now\",\"all credits at this bank paid back duly\",\"delay in paying off in the past\",\"existing credits paid back duly till now\",\"existing credits paid back duly till now\",\"existing credits paid back duly till now\",\"delay in paying off in the past\",\"no credits taken/ all credits paid back duly\",\"existing credits paid back duly till now\",\"existing credits paid back duly till now\",\"existing credits paid back duly till now\",\"existing credits paid back duly till now\",\"existing credits paid back duly till now\",\"critical account/ other credits existing (not at this bank)\",\"critical account/ other credits existing (not at this bank)\",\"existing credits paid back duly till now\",\"critical account/ other credits existing (not at this bank)\",\"critical account/ other credits existing (not at this bank)\",\"existing credits paid back duly till now\",\"existing credits paid back duly till now\",\"existing credits paid back duly till now\",\"existing credits paid back duly till now\",\"existing credits paid back duly till now\",\"existing credits paid back duly till now\",\"existing credits paid back duly till now\",\"existing credits paid back duly till now\",\"existing credits paid back duly till now\",\"existing credits paid back duly till now\",\"existing credits paid back duly till now\",\"no credits taken/ all credits paid back duly\",\"critical account/ other credits existing (not at this bank)\",\"delay in paying off in the past\",\"critical account/ other credits existing (not at this bank)\",\"existing credits paid back duly till now\",\"existing credits paid back duly till now\",\"existing credits paid back duly till now\",\"existing credits paid back duly till now\",\"critical account/ other credits existing (not at this bank)\",\"existing credits paid back duly till now\",\"critical account/ other credits existing (not at this bank)\",\"critical account/ other credits existing (not at this bank)\",\"existing credits paid back duly till now\",\"all credits at this bank paid back duly\",\"critical account/ other credits existing (not at this bank)\",\"critical account/ other credits existing (not at this bank)\",\"existing credits paid back duly till now\",\"existing credits paid back duly till now\",\"critical account/ other credits existing (not at this bank)\",\"existing credits paid back duly till now\",\"existing credits paid back duly till now\",\"existing credits paid back duly till now\",\"existing credits paid back duly till now\",\"delay in paying off in the past\",\"existing credits paid back duly till now\",\"no credits taken/ all credits paid back duly\",\"existing credits paid back duly till now\",\"existing credits paid back duly till now\",\"no credits taken/ all credits paid back duly\",\"existing credits paid back duly till now\",\"no credits taken/ all credits paid back duly\",\"delay in paying off in the past\",\"critical account/ other credits existing (not at this bank)\",\"existing credits paid back duly till now\",\"existing credits paid back duly till now\",\"critical account/ other credits existing (not at this bank)\",\"existing credits paid back duly till now\",\"existing credits paid back duly till now\",\"existing credits paid back duly till now\",\"existing credits paid back duly till now\",\"existing credits paid back duly till now\",\"existing credits paid back duly till now\",\"existing credits paid back duly till now\",\"critical account/ other credits existing (not at this bank)\",\"critical account/ other credits existing (not at this bank)\",\"existing credits paid back duly till now\",\"existing credits paid back duly till now\",\"existing credits paid back duly till now\",\"all credits at this bank paid back duly\",\"all credits at this bank paid back duly\",\"existing credits paid back duly till now\",\"all credits at this bank paid back duly\",\"critical account/ other credits existing (not at this bank)\",\"delay in paying off in the past\",\"existing credits paid back duly till now\",\"delay in paying off in the past\",\"delay in paying off in the past\",\"existing credits paid back duly till now\",\"critical account/ other credits existing (not at this bank)\",\"delay in paying off in the past\",\"critical account/ other credits existing (not at this bank)\",\"critical account/ other credits existing (not at this bank)\",\"critical account/ other credits existing (not at this bank)\",\"existing credits paid back duly till now\",\"existing credits paid back duly till now\",\"existing credits paid back duly till now\",\"existing credits paid back duly till now\",\"critical account/ other credits existing (not at this bank)\",\"existing credits paid back duly till now\",\"critical account/ other credits existing (not at this bank)\",\"existing credits paid back duly till now\",\"existing credits paid back duly till now\",\"existing credits paid back duly till now\",\"delay in paying off in the past\",\"existing credits paid back duly till now\",\"existing credits paid back duly till now\",\"critical account/ other credits existing (not at this bank)\",\"critical account/ other credits existing (not at this bank)\",\"delay in paying off in the past\",\"existing credits paid back duly till now\",\"existing credits paid back duly till now\",\"existing credits paid back duly till now\",\"delay in paying off in the past\",\"no credits taken/ all credits paid back duly\",\"existing credits paid back duly till now\",\"existing credits paid back duly till now\",\"existing credits paid back duly till now\",\"all credits at this bank paid back duly\",\"existing credits paid back duly till now\",\"existing credits paid back duly till now\",\"existing credits paid back duly till now\",\"critical account/ other credits existing (not at this bank)\",\"existing credits paid back duly till now\",\"no credits taken/ all credits paid back duly\",\"all credits at this bank paid back duly\",\"existing credits paid back duly till now\",\"existing credits paid back duly till now\",\"existing credits paid back duly till now\",\"existing credits paid back duly till now\",\"existing credits paid back duly till now\",\"existing credits paid back duly till now\",\"existing credits paid back duly till now\",\"all credits at this bank paid back duly\",\"critical account/ other credits existing (not at this bank)\",\"existing credits paid back duly till now\",\"critical account/ other credits existing (not at this bank)\",\"existing credits paid back duly till now\",\"all credits at this bank paid back duly\",\"delay in paying off in the past\",\"critical account/ other credits existing (not at this bank)\",\"existing credits paid back duly till now\",\"delay in paying off in the past\",\"existing credits paid back duly till now\",\"delay in paying off in the past\",\"existing credits paid back duly till now\",\"critical account/ other credits existing (not at this bank)\",\"existing credits paid back duly till now\",\"existing credits paid back duly till now\",\"critical account/ other credits existing (not at this bank)\",\"critical account/ other credits existing (not at this bank)\",\"critical account/ other credits existing (not at this bank)\",\"existing credits paid back duly till now\",\"existing credits paid back duly till now\",\"delay in paying off in the past\",\"existing credits paid back duly till now\",\"existing credits paid back duly till now\",\"all credits at this bank paid back duly\",\"existing credits paid back duly till now\",\"existing credits paid back duly till now\",\"existing credits paid back duly till now\",\"critical account/ other credits existing (not at this bank)\",\"no credits taken/ all credits paid back duly\",\"existing credits paid back duly till now\",\"critical account/ other credits existing (not at this bank)\",\"existing credits paid back duly till now\",\"existing credits paid back duly till now\",\"existing credits paid back duly till now\",\"critical account/ other credits existing (not at this bank)\",\"critical account/ other credits existing (not at this bank)\",\"existing credits paid back duly till now\",\"critical account/ other credits existing (not at this bank)\",\"existing credits paid back duly till now\",\"existing credits paid back duly till now\",\"existing credits paid back duly till now\",\"existing credits paid back duly till now\",\"existing credits paid back duly till now\",\"delay in paying off in the past\",\"critical account/ other credits existing (not at this bank)\",\"critical account/ other credits existing (not at this bank)\",\"critical account/ other credits existing (not at this bank)\",\"critical account/ other credits existing (not at this bank)\",\"critical account/ other credits existing (not at this bank)\",\"critical account/ other credits existing (not at this bank)\",\"critical account/ other credits existing (not at this bank)\",\"existing credits paid back duly till now\",\"existing credits paid back duly till now\",\"critical account/ other credits existing (not at this bank)\",\"existing credits paid back duly till now\",\"existing credits paid back duly till now\",\"no credits taken/ all credits paid back duly\",\"no credits taken/ all credits paid back duly\",\"existing credits paid back duly till now\",\"existing credits paid back duly till now\",\"existing credits paid back duly till now\",\"delay in paying off in the past\",\"critical account/ other credits existing (not at this bank)\",\"existing credits paid back duly till now\",\"existing credits paid back duly till now\",\"existing credits paid back duly till now\",\"existing credits paid back duly till now\",\"existing credits paid back duly till now\",\"existing credits paid back duly till now\",\"critical account/ other credits existing (not at this bank)\",\"critical account/ other credits existing (not at this bank)\",\"all credits at this bank paid back duly\",\"delay in paying off in the past\",\"critical account/ other credits existing (not at this bank)\",\"no credits taken/ all credits paid back duly\",\"critical account/ other credits existing (not at this bank)\",\"existing credits paid back duly till now\",\"existing credits paid back duly till now\",\"critical account/ other credits existing (not at this bank)\",\"critical account/ other credits existing (not at this bank)\",\"existing credits paid back duly till now\",\"critical account/ other credits existing (not at this bank)\",\"existing credits paid back duly till now\",\"critical account/ other credits existing (not at this bank)\",\"existing credits paid back duly till now\",\"critical account/ other credits existing (not at this bank)\",\"existing credits paid back duly till now\",\"existing credits paid back duly till now\",\"existing credits paid back duly till now\",\"critical account/ other credits existing (not at this bank)\",\"existing credits paid back duly till now\",\"critical account/ other credits existing (not at this bank)\",\"critical account/ other credits existing (not at this bank)\",\"critical account/ other credits existing (not at this bank)\",\"existing credits paid back duly till now\",\"critical account/ other credits existing (not at this bank)\",\"existing credits paid back duly till now\",\"delay in paying off in the past\",\"critical account/ other credits existing (not at this bank)\",\"existing credits paid back duly till now\",\"critical account/ other credits existing (not at this bank)\",\"existing credits paid back duly till now\",\"existing credits paid back duly till now\",\"existing credits paid back duly till now\",\"existing credits paid back duly till now\",\"critical account/ other credits existing (not at this bank)\",\"existing credits paid back duly till now\",\"all credits at this bank paid back duly\",\"critical account/ other credits existing (not at this bank)\",\"existing credits paid back duly till now\",\"all credits at this bank paid back duly\",\"critical account/ other credits existing (not at this bank)\",\"existing credits paid back duly till now\",\"existing credits paid back duly till now\",\"existing credits paid back duly till now\",\"critical account/ other credits existing (not at this bank)\",\"critical account/ other credits existing (not at this bank)\",\"existing credits paid back duly till now\",\"critical account/ other credits existing (not at this bank)\",\"critical account/ other credits existing (not at this bank)\",\"critical account/ other credits existing (not at this bank)\",\"critical account/ other credits existing (not at this bank)\",\"critical account/ other credits existing (not at this bank)\",\"existing credits paid back duly till now\",\"existing credits paid back duly till now\",\"critical account/ other credits existing (not at this bank)\",\"existing credits paid back duly till now\",\"existing credits paid back duly till now\",\"existing credits paid back duly till now\",\"critical account/ other credits existing (not at this bank)\",\"existing credits paid back duly till now\",\"critical account/ other credits existing (not at this bank)\",\"existing credits paid back duly till now\",\"delay in paying off in the past\",\"existing credits paid back duly till now\",\"existing credits paid back duly till now\",\"critical account/ other credits existing (not at this bank)\",\"critical account/ other credits existing (not at this bank)\",\"critical account/ other credits existing (not at this bank)\",\"existing credits paid back duly till now\",\"existing credits paid back duly till now\",\"existing credits paid back duly till now\",\"existing credits paid back duly till now\",\"existing credits paid back duly till now\",\"delay in paying off in the past\",\"existing credits paid back duly till now\",\"existing credits paid back duly till now\",\"critical account/ other credits existing (not at this bank)\",\"existing credits paid back duly till now\",\"delay in paying off in the past\",\"delay in paying off in the past\",\"critical account/ other credits existing (not at this bank)\",\"existing credits paid back duly till now\",\"existing credits paid back duly till now\",\"critical account/ other credits existing (not at this bank)\",\"existing credits paid back duly till now\",\"critical account/ other credits existing (not at this bank)\",\"all credits at this bank paid back duly\",\"critical account/ other credits existing (not at this bank)\",\"existing credits paid back duly till now\",\"existing credits paid back duly till now\",\"critical account/ other credits existing (not at this bank)\",\"critical account/ other credits existing (not at this bank)\",\"critical account/ other credits existing (not at this bank)\",\"critical account/ other credits existing (not at this bank)\",\"critical account/ other credits existing (not at this bank)\",\"existing credits paid back duly till now\",\"existing credits paid back duly till now\",\"existing credits paid back duly till now\",\"existing credits paid back duly till now\",\"all credits at this bank paid back duly\",\"critical account/ other credits existing (not at this bank)\",\"existing credits paid back duly till now\",\"existing credits paid back duly till now\",\"existing credits paid back duly till now\",\"existing credits paid back duly till now\",\"existing credits paid back duly till now\",\"delay in paying off in the past\",\"delay in paying off in the past\",\"critical account/ other credits existing (not at this bank)\",\"critical account/ other credits existing (not at this bank)\",\"existing credits paid back duly till now\",\"existing credits paid back duly till now\",\"delay in paying off in the past\",\"existing credits paid back duly till now\",\"existing credits paid back duly till now\",\"critical account/ other credits existing (not at this bank)\",\"existing credits paid back duly till now\",\"critical account/ other credits existing (not at this bank)\",\"critical account/ other credits existing (not at this bank)\",\"no credits taken/ all credits paid back duly\",\"existing credits paid back duly till now\",\"existing credits paid back duly till now\",\"existing credits paid back duly till now\",\"existing credits paid back duly till now\",\"existing credits paid back duly till now\",\"existing credits paid back duly till now\",\"existing credits paid back duly till now\",\"critical account/ other credits existing (not at this bank)\",\"existing credits paid back duly till now\",\"critical account/ other credits existing (not at this bank)\",\"existing credits paid back duly till now\",\"existing credits paid back duly till now\",\"existing credits paid back duly till now\",\"existing credits paid back duly till now\",\"all credits at this bank paid back duly\",\"existing credits paid back duly till now\",\"all credits at this bank paid back duly\",\"existing credits paid back duly till now\",\"existing credits paid back duly till now\",\"existing credits paid back duly till now\",\"existing credits paid back duly till now\",\"critical account/ other credits existing (not at this bank)\",\"critical account/ other credits existing (not at this bank)\",\"existing credits paid back duly till now\",\"critical account/ other credits existing (not at this bank)\",\"critical account/ other credits existing (not at this bank)\",\"delay in paying off in the past\",\"no credits taken/ all credits paid back duly\",\"critical account/ other credits existing (not at this bank)\",\"critical account/ other credits existing (not at this bank)\",\"existing credits paid back duly till now\",\"critical account/ other credits existing (not at this bank)\",\"critical account/ other credits existing (not at this bank)\",\"existing credits paid back duly till now\",\"existing credits paid back duly till now\",\"critical account/ other credits existing (not at this bank)\",\"critical account/ other credits existing (not at this bank)\",\"delay in paying off in the past\",\"critical account/ other credits existing (not at this bank)\",\"existing credits paid back duly till now\",\"critical account/ other credits existing (not at this bank)\",\"delay in paying off in the past\",\"existing credits paid back duly till now\",\"critical account/ other credits existing (not at this bank)\",\"critical account/ other credits existing (not at this bank)\",\"existing credits paid back duly till now\",\"existing credits paid back duly till now\",\"critical account/ other credits existing (not at this bank)\",\"critical account/ other credits existing (not at this bank)\",\"existing credits paid back duly till now\",\"existing credits paid back duly till now\",\"critical account/ other credits existing (not at this bank)\",\"delay in paying off in the past\",\"critical account/ other credits existing (not at this bank)\",\"existing credits paid back duly till now\",\"existing credits paid back duly till now\",\"critical account/ other credits existing (not at this bank)\",\"existing credits paid back duly till now\",\"critical account/ other credits existing (not at this bank)\",\"existing credits paid back duly till now\",\"existing credits paid back duly till now\",\"existing credits paid back duly till now\",\"critical account/ other credits existing (not at this bank)\",\"no credits taken/ all credits paid back duly\",\"existing credits paid back duly till now\",\"existing credits paid back duly till now\",\"critical account/ other credits existing (not at this bank)\",\"critical account/ other credits existing (not at this bank)\",\"existing credits paid back duly till now\",\"existing credits paid back duly till now\",\"existing credits paid back duly till now\",\"existing credits paid back duly till now\",\"critical account/ other credits existing (not at this bank)\",\"critical account/ other credits existing (not at this bank)\",\"critical account/ other credits existing (not at this bank)\",\"delay in paying off in the past\",\"existing credits paid back duly till now\",\"existing credits paid back duly till now\",\"existing credits paid back duly till now\",\"existing credits paid back duly till now\",\"no credits taken/ all credits paid back duly\",\"existing credits paid back duly till now\",\"existing credits paid back duly till now\",\"critical account/ other credits existing (not at this bank)\",\"existing credits paid back duly till now\",\"existing credits paid back duly till now\",\"no credits taken/ all credits paid back duly\",\"existing credits paid back duly till now\",\"critical account/ other credits existing (not at this bank)\",\"existing credits paid back duly till now\",\"existing credits paid back duly till now\",\"critical account/ other credits existing (not at this bank)\",\"existing credits paid back duly till now\",\"existing credits paid back duly till now\",\"existing credits paid back duly till now\",\"existing credits paid back duly till now\",\"existing credits paid back duly till now\",\"delay in paying off in the past\",\"existing credits paid back duly till now\",\"existing credits paid back duly till now\",\"existing credits paid back duly till now\",\"all credits at this bank paid back duly\",\"no credits taken/ all credits paid back duly\",\"critical account/ other credits existing (not at this bank)\",\"existing credits paid back duly till now\",\"critical account/ other credits existing (not at this bank)\",\"existing credits paid back duly till now\",\"critical account/ other credits existing (not at this bank)\",\"existing credits paid back duly till now\",\"critical account/ other credits existing (not at this bank)\",\"existing credits paid back duly till now\",\"all credits at this bank paid back duly\",\"critical account/ other credits existing (not at this bank)\",\"existing credits paid back duly till now\",\"existing credits paid back duly till now\",\"critical account/ other credits existing (not at this bank)\",\"critical account/ other credits existing (not at this bank)\",\"critical account/ other credits existing (not at this bank)\",\"existing credits paid back duly till now\",\"critical account/ other credits existing (not at this bank)\",\"existing credits paid back duly till now\",\"critical account/ other credits existing (not at this bank)\",\"existing credits paid back duly till now\",\"critical account/ other credits existing (not at this bank)\",\"existing credits paid back duly till now\",\"critical account/ other credits existing (not at this bank)\",\"delay in paying off in the past\",\"existing credits paid back duly till now\",\"existing credits paid back duly till now\",\"existing credits paid back duly till now\",\"existing credits paid back duly till now\",\"all credits at this bank paid back duly\",\"existing credits paid back duly till now\",\"existing credits paid back duly till now\",\"existing credits paid back duly till now\",\"critical account/ other credits existing (not at this bank)\",\"critical account/ other credits existing (not at this bank)\",\"existing credits paid back duly till now\",\"all credits at this bank paid back duly\",\"existing credits paid back duly till now\",\"critical account/ other credits existing (not at this bank)\",\"existing credits paid back duly till now\",\"existing credits paid back duly till now\",\"existing credits paid back duly till now\",\"all credits at this bank paid back duly\",\"all credits at this bank paid back duly\",\"existing credits paid back duly till now\",\"existing credits paid back duly till now\",\"delay in paying off in the past\",\"delay in paying off in the past\",\"existing credits paid back duly till now\",\"existing credits paid back duly till now\",\"delay in paying off in the past\",\"existing credits paid back duly till now\",\"delay in paying off in the past\",\"existing credits paid back duly till now\",\"no credits taken/ all credits paid back duly\",\"critical account/ other credits existing (not at this bank)\",\"existing credits paid back duly till now\",\"critical account/ other credits existing (not at this bank)\",\"critical account/ other credits existing (not at this bank)\",\"existing credits paid back duly till now\",\"existing credits paid back duly till now\",\"critical account/ other credits existing (not at this bank)\",\"existing credits paid back duly till now\",\"existing credits paid back duly till now\",\"delay in paying off in the past\",\"delay in paying off in the past\",\"existing credits paid back duly till now\",\"no credits taken/ all credits paid back duly\",\"critical account/ other credits existing (not at this bank)\",\"existing credits paid back duly till now\",\"existing credits paid back duly till now\",\"existing credits paid back duly till now\",\"existing credits paid back duly till now\",\"existing credits paid back duly till now\",\"existing credits paid back duly till now\",\"existing credits paid back duly till now\",\"all credits at this bank paid back duly\",\"existing credits paid back duly till now\",\"critical account/ other credits existing (not at this bank)\",\"critical account/ other credits existing (not at this bank)\",\"delay in paying off in the past\",\"existing credits paid back duly till now\",\"existing credits paid back duly till now\",\"critical account/ other credits existing (not at this bank)\",\"existing credits paid back duly till now\",\"existing credits paid back duly till now\",\"existing credits paid back duly till now\",\"critical account/ other credits existing (not at this bank)\",\"existing credits paid back duly till now\",\"critical account/ other credits existing (not at this bank)\",\"no credits taken/ all credits paid back duly\",\"critical account/ other credits existing (not at this bank)\",\"critical account/ other credits existing (not at this bank)\",\"existing credits paid back duly till now\",\"existing credits paid back duly till now\",\"existing credits paid back duly till now\",\"existing credits paid back duly till now\",\"existing credits paid back duly till now\",\"existing credits paid back duly till now\",\"existing credits paid back duly till now\",\"critical account/ other credits existing (not at this bank)\",\"critical account/ other credits existing (not at this bank)\",\"critical account/ other credits existing (not at this bank)\",\"critical account/ other credits existing (not at this bank)\",\"existing credits paid back duly till now\",\"critical account/ other credits existing (not at this bank)\",\"existing credits paid back duly till now\",\"delay in paying off in the past\",\"existing credits paid back duly till now\",\"delay in paying off in the past\",\"critical account/ other credits existing (not at this bank)\",\"delay in paying off in the past\",\"existing credits paid back duly till now\",\"all credits at this bank paid back duly\",\"delay in paying off in the past\",\"existing credits paid back duly till now\",\"critical account/ other credits existing (not at this bank)\",\"critical account/ other credits existing (not at this bank)\",\"critical account/ other credits existing (not at this bank)\",\"existing credits paid back duly till now\",\"critical account/ other credits existing (not at this bank)\",\"critical account/ other credits existing (not at this bank)\",\"existing credits paid back duly till now\",\"all credits at this bank paid back duly\",\"no credits taken/ all credits paid back duly\",\"existing credits paid back duly till now\",\"critical account/ other credits existing (not at this bank)\",\"existing credits paid back duly till now\",\"critical account/ other credits existing (not at this bank)\",\"existing credits paid back duly till now\",\"critical account/ other credits existing (not at this bank)\",\"delay in paying off in the past\",\"existing credits paid back duly till now\",\"existing credits paid back duly till now\",\"existing credits paid back duly till now\",\"critical account/ other credits existing (not at this bank)\",\"existing credits paid back duly till now\",\"all credits at this bank paid back duly\",\"critical account/ other credits existing (not at this bank)\",\"critical account/ other credits existing (not at this bank)\",\"critical account/ other credits existing (not at this bank)\",\"existing credits paid back duly till now\",\"existing credits paid back duly till now\",\"delay in paying off in the past\",\"existing credits paid back duly till now\",\"existing credits paid back duly till now\",\"existing credits paid back duly till now\",\"critical account/ other credits existing (not at this bank)\",\"existing credits paid back duly till now\",\"critical account/ other credits existing (not at this bank)\",\"delay in paying off in the past\",\"all credits at this bank paid back duly\",\"critical account/ other credits existing (not at this bank)\",\"delay in paying off in the past\",\"existing credits paid back duly till now\",\"delay in paying off in the past\",\"no credits taken/ all credits paid back duly\",\"existing credits paid back duly till now\",\"existing credits paid back duly till now\",\"existing credits paid back duly till now\",\"critical account/ other credits existing (not at this bank)\",\"critical account/ other credits existing (not at this bank)\",\"all credits at this bank paid back duly\",\"no credits taken/ all credits paid back duly\",\"all credits at this bank paid back duly\",\"existing credits paid back duly till now\",\"existing credits paid back duly till now\",\"existing credits paid back duly till now\",\"critical account/ other credits existing (not at this bank)\",\"critical account/ other credits existing (not at this bank)\",\"critical account/ other credits existing (not at this bank)\",\"critical account/ other credits existing (not at this bank)\",\"critical account/ other credits existing (not at this bank)\",\"critical account/ other credits existing (not at this bank)\",\"delay in paying off in the past\",\"critical account/ other credits existing (not at this bank)\",\"critical account/ other credits existing (not at this bank)\",\"critical account/ other credits existing (not at this bank)\",\"delay in paying off in the past\",\"existing credits paid back duly till now\",\"critical account/ other credits existing (not at this bank)\",\"no credits taken/ all credits paid back duly\",\"all credits at this bank paid back duly\",\"all credits at this bank paid back duly\",\"all credits at this bank paid back duly\",\"existing credits paid back duly till now\",\"existing credits paid back duly till now\",\"critical account/ other credits existing (not at this bank)\",\"existing credits paid back duly till now\",\"critical account/ other credits existing (not at this bank)\",\"critical account/ other credits existing (not at this bank)\",\"existing credits paid back duly till now\",\"existing credits paid back duly till now\",\"existing credits paid back duly till now\",\"existing credits paid back duly till now\",\"critical account/ other credits existing (not at this bank)\",\"existing credits paid back duly till now\",\"critical account/ other credits existing (not at this bank)\",\"critical account/ other credits existing (not at this bank)\",\"critical account/ other credits existing (not at this bank)\",\"delay in paying off in the past\",\"delay in paying off in the past\",\"all credits at this bank paid back duly\",\"existing credits paid back duly till now\",\"delay in paying off in the past\",\"critical account/ other credits existing (not at this bank)\",\"critical account/ other credits existing (not at this bank)\",\"existing credits paid back duly till now\",\"critical account/ other credits existing (not at this bank)\",\"existing credits paid back duly till now\",\"critical account/ other credits existing (not at this bank)\",\"existing credits paid back duly till now\",\"existing credits paid back duly till now\",\"existing credits paid back duly till now\",\"existing credits paid back duly till now\",\"critical account/ other credits existing (not at this bank)\",\"existing credits paid back duly till now\",\"critical account/ other credits existing (not at this bank)\",\"critical account/ other credits existing (not at this bank)\",\"critical account/ other credits existing (not at this bank)\",\"existing credits paid back duly till now\",\"existing credits paid back duly till now\",\"critical account/ other credits existing (not at this bank)\",\"critical account/ other credits existing (not at this bank)\",\"existing credits paid back duly till now\",\"existing credits paid back duly till now\",\"delay in paying off in the past\",\"existing credits paid back duly till now\",\"existing credits paid back duly till now\",\"delay in paying off in the past\",\"existing credits paid back duly till now\",\"critical account/ other credits existing (not at this bank)\",\"existing credits paid back duly till now\",\"existing credits paid back duly till now\",\"critical account/ other credits existing (not at this bank)\",\"delay in paying off in the past\",\"critical account/ other credits existing (not at this bank)\",\"critical account/ other credits existing (not at this bank)\",\"critical account/ other credits existing (not at this bank)\",\"existing credits paid back duly till now\",\"existing credits paid back duly till now\",\"critical account/ other credits existing (not at this bank)\",\"existing credits paid back duly till now\",\"critical account/ other credits existing (not at this bank)\",\"existing credits paid back duly till now\",\"existing credits paid back duly till now\",\"delay in paying off in the past\",\"all credits at this bank paid back duly\",\"existing credits paid back duly till now\",\"existing credits paid back duly till now\",\"no credits taken/ all credits paid back duly\",\"critical account/ other credits existing (not at this bank)\",\"delay in paying off in the past\",\"all credits at this bank paid back duly\",\"delay in paying off in the past\",\"existing credits paid back duly till now\",\"delay in paying off in the past\",\"critical account/ other credits existing (not at this bank)\",\"existing credits paid back duly till now\",\"existing credits paid back duly till now\",\"existing credits paid back duly till now\",\"existing credits paid back duly till now\",\"critical account/ other credits existing (not at this bank)\",\"critical account/ other credits existing (not at this bank)\",\"existing credits paid back duly till now\",\"critical account/ other credits existing (not at this bank)\",\"existing credits paid back duly till now\",\"existing credits paid back duly till now\",\"no credits taken/ all credits paid back duly\",\"existing credits paid back duly till now\",\"critical account/ other credits existing (not at this bank)\",\"existing credits paid back duly till now\",\"existing credits paid back duly till now\",\"all credits at this bank paid back duly\",\"delay in paying off in the past\",\"all credits at this bank paid back duly\",\"critical account/ other credits existing (not at this bank)\",\"delay in paying off in the past\",\"delay in paying off in the past\",\"delay in paying off in the past\",\"existing credits paid back duly till now\",\"existing credits paid back duly till now\",\"existing credits paid back duly till now\",\"existing credits paid back duly till now\",\"critical account/ other credits existing (not at this bank)\",\"existing credits paid back duly till now\",\"existing credits paid back duly till now\",\"existing credits paid back duly till now\",\"critical account/ other credits existing (not at this bank)\",\"critical account/ other credits existing (not at this bank)\",\"existing credits paid back duly till now\",\"existing credits paid back duly till now\",\"critical account/ other credits existing (not at this bank)\",\"critical account/ other credits existing (not at this bank)\",\"existing credits paid back duly till now\",\"critical account/ other credits existing (not at this bank)\",\"critical account/ other credits existing (not at this bank)\"],\"xaxis\":\"x\",\"yaxis\":\"y\",\"type\":\"histogram\"},{\"alignmentgroup\":\"True\",\"bingroup\":\"x\",\"histnorm\":\"probability density\",\"hovertemplate\":\"<b>Synthetic</b><br>Frequency: %{y}<extra></extra>\",\"legendgroup\":\"Synthetic\",\"marker\":{\"color\":\"#01E0C9\",\"pattern\":{\"shape\":\"/\"}},\"name\":\"Synthetic\",\"offsetgroup\":\"Synthetic\",\"orientation\":\"v\",\"showlegend\":true,\"x\":[\"existing credits paid back duly till now\",\"existing credits paid back duly till now\",\"existing credits paid back duly till now\",\"existing credits paid back duly till now\",\"no credits taken/ all credits paid back duly\",\"critical account/ other credits existing (not at this bank)\",\"critical account/ other credits existing (not at this bank)\",\"existing credits paid back duly till now\",\"existing credits paid back duly till now\",\"critical account/ other credits existing (not at this bank)\",\"critical account/ other credits existing (not at this bank)\",\"delay in paying off in the past\",\"critical account/ other credits existing (not at this bank)\",\"critical account/ other credits existing (not at this bank)\",\"no credits taken/ all credits paid back duly\",\"existing credits paid back duly till now\",\"all credits at this bank paid back duly\",\"existing credits paid back duly till now\",\"no credits taken/ all credits paid back duly\",\"critical account/ other credits existing (not at this bank)\",\"existing credits paid back duly till now\",\"existing credits paid back duly till now\",\"critical account/ other credits existing (not at this bank)\",\"delay in paying off in the past\",\"critical account/ other credits existing (not at this bank)\",\"critical account/ other credits existing (not at this bank)\",\"no credits taken/ all credits paid back duly\",\"critical account/ other credits existing (not at this bank)\",\"existing credits paid back duly till now\",\"existing credits paid back duly till now\",\"delay in paying off in the past\",\"existing credits paid back duly till now\",\"delay in paying off in the past\",\"existing credits paid back duly till now\",\"critical account/ other credits existing (not at this bank)\",\"existing credits paid back duly till now\",\"existing credits paid back duly till now\",\"existing credits paid back duly till now\",\"existing credits paid back duly till now\",\"critical account/ other credits existing (not at this bank)\",\"critical account/ other credits existing (not at this bank)\",\"critical account/ other credits existing (not at this bank)\",\"existing credits paid back duly till now\",\"existing credits paid back duly till now\",\"existing credits paid back duly till now\",\"existing credits paid back duly till now\",\"critical account/ other credits existing (not at this bank)\",\"critical account/ other credits existing (not at this bank)\",\"critical account/ other credits existing (not at this bank)\",\"all credits at this bank paid back duly\",\"existing credits paid back duly till now\",\"existing credits paid back duly till now\",\"existing credits paid back duly till now\",\"critical account/ other credits existing (not at this bank)\",\"critical account/ other credits existing (not at this bank)\",\"delay in paying off in the past\",\"existing credits paid back duly till now\",\"all credits at this bank paid back duly\",\"existing credits paid back duly till now\",\"existing credits paid back duly till now\",\"delay in paying off in the past\",\"delay in paying off in the past\",\"existing credits paid back duly till now\",\"existing credits paid back duly till now\",\"critical account/ other credits existing (not at this bank)\",\"critical account/ other credits existing (not at this bank)\",\"existing credits paid back duly till now\",\"existing credits paid back duly till now\",\"critical account/ other credits existing (not at this bank)\",\"existing credits paid back duly till now\",\"existing credits paid back duly till now\",\"no credits taken/ all credits paid back duly\",\"critical account/ other credits existing (not at this bank)\",\"existing credits paid back duly till now\",\"critical account/ other credits existing (not at this bank)\",\"critical account/ other credits existing (not at this bank)\",\"critical account/ other credits existing (not at this bank)\",\"existing credits paid back duly till now\",\"existing credits paid back duly till now\",\"existing credits paid back duly till now\",\"critical account/ other credits existing (not at this bank)\",\"existing credits paid back duly till now\",\"all credits at this bank paid back duly\",\"existing credits paid back duly till now\",\"critical account/ other credits existing (not at this bank)\",\"existing credits paid back duly till now\",\"existing credits paid back duly till now\",\"existing credits paid back duly till now\",\"delay in paying off in the past\",\"existing credits paid back duly till now\",\"existing credits paid back duly till now\",\"critical account/ other credits existing (not at this bank)\",\"existing credits paid back duly till now\",\"critical account/ other credits existing (not at this bank)\",\"existing credits paid back duly till now\",\"existing credits paid back duly till now\",\"no credits taken/ all credits paid back duly\",\"existing credits paid back duly till now\",\"critical account/ other credits existing (not at this bank)\",\"critical account/ other credits existing (not at this bank)\",\"critical account/ other credits existing (not at this bank)\",\"critical account/ other credits existing (not at this bank)\",\"existing credits paid back duly till now\",\"existing credits paid back duly till now\",\"critical account/ other credits existing (not at this bank)\",\"existing credits paid back duly till now\",\"existing credits paid back duly till now\",\"existing credits paid back duly till now\",\"existing credits paid back duly till now\",\"existing credits paid back duly till now\",\"existing credits paid back duly till now\",\"critical account/ other credits existing (not at this bank)\",\"critical account/ other credits existing (not at this bank)\",\"critical account/ other credits existing (not at this bank)\",\"delay in paying off in the past\",\"existing credits paid back duly till now\",\"existing credits paid back duly till now\",\"critical account/ other credits existing (not at this bank)\",\"all credits at this bank paid back duly\",\"critical account/ other credits existing (not at this bank)\",\"delay in paying off in the past\",\"all credits at this bank paid back duly\",\"critical account/ other credits existing (not at this bank)\",\"no credits taken/ all credits paid back duly\",\"existing credits paid back duly till now\",\"critical account/ other credits existing (not at this bank)\",\"delay in paying off in the past\",\"critical account/ other credits existing (not at this bank)\",\"existing credits paid back duly till now\",\"no credits taken/ all credits paid back duly\",\"existing credits paid back duly till now\",\"delay in paying off in the past\",\"existing credits paid back duly till now\",\"critical account/ other credits existing (not at this bank)\",\"existing credits paid back duly till now\",\"critical account/ other credits existing (not at this bank)\",\"all credits at this bank paid back duly\",\"critical account/ other credits existing (not at this bank)\",\"critical account/ other credits existing (not at this bank)\",\"no credits taken/ all credits paid back duly\",\"existing credits paid back duly till now\",\"existing credits paid back duly till now\",\"existing credits paid back duly till now\",\"delay in paying off in the past\",\"critical account/ other credits existing (not at this bank)\",\"existing credits paid back duly till now\",\"existing credits paid back duly till now\",\"existing credits paid back duly till now\",\"critical account/ other credits existing (not at this bank)\",\"existing credits paid back duly till now\",\"no credits taken/ all credits paid back duly\",\"critical account/ other credits existing (not at this bank)\",\"existing credits paid back duly till now\",\"existing credits paid back duly till now\",\"critical account/ other credits existing (not at this bank)\",\"existing credits paid back duly till now\",\"critical account/ other credits existing (not at this bank)\",\"existing credits paid back duly till now\",\"critical account/ other credits existing (not at this bank)\",\"all credits at this bank paid back duly\",\"existing credits paid back duly till now\",\"existing credits paid back duly till now\",\"existing credits paid back duly till now\",\"existing credits paid back duly till now\",\"critical account/ other credits existing (not at this bank)\",\"existing credits paid back duly till now\",\"critical account/ other credits existing (not at this bank)\",\"critical account/ other credits existing (not at this bank)\",\"delay in paying off in the past\",\"delay in paying off in the past\",\"existing credits paid back duly till now\",\"existing credits paid back duly till now\",\"no credits taken/ all credits paid back duly\",\"critical account/ other credits existing (not at this bank)\",\"critical account/ other credits existing (not at this bank)\",\"critical account/ other credits existing (not at this bank)\",\"critical account/ other credits existing (not at this bank)\",\"existing credits paid back duly till now\",\"critical account/ other credits existing (not at this bank)\",\"all credits at this bank paid back duly\",\"existing credits paid back duly till now\",\"delay in paying off in the past\",\"existing credits paid back duly till now\",\"critical account/ other credits existing (not at this bank)\",\"existing credits paid back duly till now\",\"existing credits paid back duly till now\",\"all credits at this bank paid back duly\",\"critical account/ other credits existing (not at this bank)\",\"existing credits paid back duly till now\",\"all credits at this bank paid back duly\",\"critical account/ other credits existing (not at this bank)\",\"existing credits paid back duly till now\",\"existing credits paid back duly till now\",\"critical account/ other credits existing (not at this bank)\",\"existing credits paid back duly till now\",\"existing credits paid back duly till now\",\"existing credits paid back duly till now\",\"existing credits paid back duly till now\",\"delay in paying off in the past\",\"existing credits paid back duly till now\",\"critical account/ other credits existing (not at this bank)\",\"existing credits paid back duly till now\",\"critical account/ other credits existing (not at this bank)\",\"existing credits paid back duly till now\",\"existing credits paid back duly till now\",\"existing credits paid back duly till now\",\"all credits at this bank paid back duly\",\"existing credits paid back duly till now\",\"critical account/ other credits existing (not at this bank)\",\"all credits at this bank paid back duly\",\"no credits taken/ all credits paid back duly\",\"delay in paying off in the past\",\"critical account/ other credits existing (not at this bank)\",\"critical account/ other credits existing (not at this bank)\",\"all credits at this bank paid back duly\",\"existing credits paid back duly till now\",\"critical account/ other credits existing (not at this bank)\",\"critical account/ other credits existing (not at this bank)\",\"critical account/ other credits existing (not at this bank)\",\"existing credits paid back duly till now\",\"critical account/ other credits existing (not at this bank)\",\"critical account/ other credits existing (not at this bank)\",\"critical account/ other credits existing (not at this bank)\",\"existing credits paid back duly till now\",\"critical account/ other credits existing (not at this bank)\",\"existing credits paid back duly till now\",\"critical account/ other credits existing (not at this bank)\",\"existing credits paid back duly till now\",\"existing credits paid back duly till now\",\"no credits taken/ all credits paid back duly\",\"existing credits paid back duly till now\",\"no credits taken/ all credits paid back duly\",\"existing credits paid back duly till now\",\"all credits at this bank paid back duly\",\"existing credits paid back duly till now\",\"critical account/ other credits existing (not at this bank)\",\"delay in paying off in the past\",\"existing credits paid back duly till now\",\"existing credits paid back duly till now\",\"existing credits paid back duly till now\",\"critical account/ other credits existing (not at this bank)\",\"existing credits paid back duly till now\",\"existing credits paid back duly till now\",\"existing credits paid back duly till now\",\"critical account/ other credits existing (not at this bank)\",\"existing credits paid back duly till now\",\"delay in paying off in the past\",\"all credits at this bank paid back duly\",\"critical account/ other credits existing (not at this bank)\",\"no credits taken/ all credits paid back duly\"],\"xaxis\":\"x\",\"yaxis\":\"y\",\"type\":\"histogram\"}],                        {\"template\":{\"data\":{\"histogram2dcontour\":[{\"type\":\"histogram2dcontour\",\"colorbar\":{\"outlinewidth\":0,\"ticks\":\"\"},\"colorscale\":[[0.0,\"#0d0887\"],[0.1111111111111111,\"#46039f\"],[0.2222222222222222,\"#7201a8\"],[0.3333333333333333,\"#9c179e\"],[0.4444444444444444,\"#bd3786\"],[0.5555555555555556,\"#d8576b\"],[0.6666666666666666,\"#ed7953\"],[0.7777777777777778,\"#fb9f3a\"],[0.8888888888888888,\"#fdca26\"],[1.0,\"#f0f921\"]]}],\"choropleth\":[{\"type\":\"choropleth\",\"colorbar\":{\"outlinewidth\":0,\"ticks\":\"\"}}],\"histogram2d\":[{\"type\":\"histogram2d\",\"colorbar\":{\"outlinewidth\":0,\"ticks\":\"\"},\"colorscale\":[[0.0,\"#0d0887\"],[0.1111111111111111,\"#46039f\"],[0.2222222222222222,\"#7201a8\"],[0.3333333333333333,\"#9c179e\"],[0.4444444444444444,\"#bd3786\"],[0.5555555555555556,\"#d8576b\"],[0.6666666666666666,\"#ed7953\"],[0.7777777777777778,\"#fb9f3a\"],[0.8888888888888888,\"#fdca26\"],[1.0,\"#f0f921\"]]}],\"heatmap\":[{\"type\":\"heatmap\",\"colorbar\":{\"outlinewidth\":0,\"ticks\":\"\"},\"colorscale\":[[0.0,\"#0d0887\"],[0.1111111111111111,\"#46039f\"],[0.2222222222222222,\"#7201a8\"],[0.3333333333333333,\"#9c179e\"],[0.4444444444444444,\"#bd3786\"],[0.5555555555555556,\"#d8576b\"],[0.6666666666666666,\"#ed7953\"],[0.7777777777777778,\"#fb9f3a\"],[0.8888888888888888,\"#fdca26\"],[1.0,\"#f0f921\"]]}],\"heatmapgl\":[{\"type\":\"heatmapgl\",\"colorbar\":{\"outlinewidth\":0,\"ticks\":\"\"},\"colorscale\":[[0.0,\"#0d0887\"],[0.1111111111111111,\"#46039f\"],[0.2222222222222222,\"#7201a8\"],[0.3333333333333333,\"#9c179e\"],[0.4444444444444444,\"#bd3786\"],[0.5555555555555556,\"#d8576b\"],[0.6666666666666666,\"#ed7953\"],[0.7777777777777778,\"#fb9f3a\"],[0.8888888888888888,\"#fdca26\"],[1.0,\"#f0f921\"]]}],\"contourcarpet\":[{\"type\":\"contourcarpet\",\"colorbar\":{\"outlinewidth\":0,\"ticks\":\"\"}}],\"contour\":[{\"type\":\"contour\",\"colorbar\":{\"outlinewidth\":0,\"ticks\":\"\"},\"colorscale\":[[0.0,\"#0d0887\"],[0.1111111111111111,\"#46039f\"],[0.2222222222222222,\"#7201a8\"],[0.3333333333333333,\"#9c179e\"],[0.4444444444444444,\"#bd3786\"],[0.5555555555555556,\"#d8576b\"],[0.6666666666666666,\"#ed7953\"],[0.7777777777777778,\"#fb9f3a\"],[0.8888888888888888,\"#fdca26\"],[1.0,\"#f0f921\"]]}],\"surface\":[{\"type\":\"surface\",\"colorbar\":{\"outlinewidth\":0,\"ticks\":\"\"},\"colorscale\":[[0.0,\"#0d0887\"],[0.1111111111111111,\"#46039f\"],[0.2222222222222222,\"#7201a8\"],[0.3333333333333333,\"#9c179e\"],[0.4444444444444444,\"#bd3786\"],[0.5555555555555556,\"#d8576b\"],[0.6666666666666666,\"#ed7953\"],[0.7777777777777778,\"#fb9f3a\"],[0.8888888888888888,\"#fdca26\"],[1.0,\"#f0f921\"]]}],\"mesh3d\":[{\"type\":\"mesh3d\",\"colorbar\":{\"outlinewidth\":0,\"ticks\":\"\"}}],\"scatter\":[{\"fillpattern\":{\"fillmode\":\"overlay\",\"size\":10,\"solidity\":0.2},\"type\":\"scatter\"}],\"parcoords\":[{\"type\":\"parcoords\",\"line\":{\"colorbar\":{\"outlinewidth\":0,\"ticks\":\"\"}}}],\"scatterpolargl\":[{\"type\":\"scatterpolargl\",\"marker\":{\"colorbar\":{\"outlinewidth\":0,\"ticks\":\"\"}}}],\"bar\":[{\"error_x\":{\"color\":\"#2a3f5f\"},\"error_y\":{\"color\":\"#2a3f5f\"},\"marker\":{\"line\":{\"color\":\"#E5ECF6\",\"width\":0.5},\"pattern\":{\"fillmode\":\"overlay\",\"size\":10,\"solidity\":0.2}},\"type\":\"bar\"}],\"scattergeo\":[{\"type\":\"scattergeo\",\"marker\":{\"colorbar\":{\"outlinewidth\":0,\"ticks\":\"\"}}}],\"scatterpolar\":[{\"type\":\"scatterpolar\",\"marker\":{\"colorbar\":{\"outlinewidth\":0,\"ticks\":\"\"}}}],\"histogram\":[{\"marker\":{\"pattern\":{\"fillmode\":\"overlay\",\"size\":10,\"solidity\":0.2}},\"type\":\"histogram\"}],\"scattergl\":[{\"type\":\"scattergl\",\"marker\":{\"colorbar\":{\"outlinewidth\":0,\"ticks\":\"\"}}}],\"scatter3d\":[{\"type\":\"scatter3d\",\"line\":{\"colorbar\":{\"outlinewidth\":0,\"ticks\":\"\"}},\"marker\":{\"colorbar\":{\"outlinewidth\":0,\"ticks\":\"\"}}}],\"scattermapbox\":[{\"type\":\"scattermapbox\",\"marker\":{\"colorbar\":{\"outlinewidth\":0,\"ticks\":\"\"}}}],\"scatterternary\":[{\"type\":\"scatterternary\",\"marker\":{\"colorbar\":{\"outlinewidth\":0,\"ticks\":\"\"}}}],\"scattercarpet\":[{\"type\":\"scattercarpet\",\"marker\":{\"colorbar\":{\"outlinewidth\":0,\"ticks\":\"\"}}}],\"carpet\":[{\"aaxis\":{\"endlinecolor\":\"#2a3f5f\",\"gridcolor\":\"white\",\"linecolor\":\"white\",\"minorgridcolor\":\"white\",\"startlinecolor\":\"#2a3f5f\"},\"baxis\":{\"endlinecolor\":\"#2a3f5f\",\"gridcolor\":\"white\",\"linecolor\":\"white\",\"minorgridcolor\":\"white\",\"startlinecolor\":\"#2a3f5f\"},\"type\":\"carpet\"}],\"table\":[{\"cells\":{\"fill\":{\"color\":\"#EBF0F8\"},\"line\":{\"color\":\"white\"}},\"header\":{\"fill\":{\"color\":\"#C8D4E3\"},\"line\":{\"color\":\"white\"}},\"type\":\"table\"}],\"barpolar\":[{\"marker\":{\"line\":{\"color\":\"#E5ECF6\",\"width\":0.5},\"pattern\":{\"fillmode\":\"overlay\",\"size\":10,\"solidity\":0.2}},\"type\":\"barpolar\"}],\"pie\":[{\"automargin\":true,\"type\":\"pie\"}]},\"layout\":{\"autotypenumbers\":\"strict\",\"colorway\":[\"#636efa\",\"#EF553B\",\"#00cc96\",\"#ab63fa\",\"#FFA15A\",\"#19d3f3\",\"#FF6692\",\"#B6E880\",\"#FF97FF\",\"#FECB52\"],\"font\":{\"color\":\"#2a3f5f\"},\"hovermode\":\"closest\",\"hoverlabel\":{\"align\":\"left\"},\"paper_bgcolor\":\"white\",\"plot_bgcolor\":\"#E5ECF6\",\"polar\":{\"bgcolor\":\"#E5ECF6\",\"angularaxis\":{\"gridcolor\":\"white\",\"linecolor\":\"white\",\"ticks\":\"\"},\"radialaxis\":{\"gridcolor\":\"white\",\"linecolor\":\"white\",\"ticks\":\"\"}},\"ternary\":{\"bgcolor\":\"#E5ECF6\",\"aaxis\":{\"gridcolor\":\"white\",\"linecolor\":\"white\",\"ticks\":\"\"},\"baxis\":{\"gridcolor\":\"white\",\"linecolor\":\"white\",\"ticks\":\"\"},\"caxis\":{\"gridcolor\":\"white\",\"linecolor\":\"white\",\"ticks\":\"\"}},\"coloraxis\":{\"colorbar\":{\"outlinewidth\":0,\"ticks\":\"\"}},\"colorscale\":{\"sequential\":[[0.0,\"#0d0887\"],[0.1111111111111111,\"#46039f\"],[0.2222222222222222,\"#7201a8\"],[0.3333333333333333,\"#9c179e\"],[0.4444444444444444,\"#bd3786\"],[0.5555555555555556,\"#d8576b\"],[0.6666666666666666,\"#ed7953\"],[0.7777777777777778,\"#fb9f3a\"],[0.8888888888888888,\"#fdca26\"],[1.0,\"#f0f921\"]],\"sequentialminus\":[[0.0,\"#0d0887\"],[0.1111111111111111,\"#46039f\"],[0.2222222222222222,\"#7201a8\"],[0.3333333333333333,\"#9c179e\"],[0.4444444444444444,\"#bd3786\"],[0.5555555555555556,\"#d8576b\"],[0.6666666666666666,\"#ed7953\"],[0.7777777777777778,\"#fb9f3a\"],[0.8888888888888888,\"#fdca26\"],[1.0,\"#f0f921\"]],\"diverging\":[[0,\"#8e0152\"],[0.1,\"#c51b7d\"],[0.2,\"#de77ae\"],[0.3,\"#f1b6da\"],[0.4,\"#fde0ef\"],[0.5,\"#f7f7f7\"],[0.6,\"#e6f5d0\"],[0.7,\"#b8e186\"],[0.8,\"#7fbc41\"],[0.9,\"#4d9221\"],[1,\"#276419\"]]},\"xaxis\":{\"gridcolor\":\"white\",\"linecolor\":\"white\",\"ticks\":\"\",\"title\":{\"standoff\":15},\"zerolinecolor\":\"white\",\"automargin\":true,\"zerolinewidth\":2},\"yaxis\":{\"gridcolor\":\"white\",\"linecolor\":\"white\",\"ticks\":\"\",\"title\":{\"standoff\":15},\"zerolinecolor\":\"white\",\"automargin\":true,\"zerolinewidth\":2},\"scene\":{\"xaxis\":{\"backgroundcolor\":\"#E5ECF6\",\"gridcolor\":\"white\",\"linecolor\":\"white\",\"showbackground\":true,\"ticks\":\"\",\"zerolinecolor\":\"white\",\"gridwidth\":2},\"yaxis\":{\"backgroundcolor\":\"#E5ECF6\",\"gridcolor\":\"white\",\"linecolor\":\"white\",\"showbackground\":true,\"ticks\":\"\",\"zerolinecolor\":\"white\",\"gridwidth\":2},\"zaxis\":{\"backgroundcolor\":\"#E5ECF6\",\"gridcolor\":\"white\",\"linecolor\":\"white\",\"showbackground\":true,\"ticks\":\"\",\"zerolinecolor\":\"white\",\"gridwidth\":2}},\"shapedefaults\":{\"line\":{\"color\":\"#2a3f5f\"}},\"annotationdefaults\":{\"arrowcolor\":\"#2a3f5f\",\"arrowhead\":0,\"arrowwidth\":1},\"geo\":{\"bgcolor\":\"white\",\"landcolor\":\"#E5ECF6\",\"subunitcolor\":\"white\",\"showland\":true,\"showlakes\":true,\"lakecolor\":\"white\"},\"title\":{\"x\":0.05},\"mapbox\":{\"style\":\"light\"}}},\"xaxis\":{\"anchor\":\"y\",\"domain\":[0.0,1.0],\"title\":{\"text\":\"Category\"}},\"yaxis\":{\"anchor\":\"x\",\"domain\":[0.0,1.0],\"title\":{\"text\":\"Frequency\"}},\"legend\":{\"title\":{\"text\":\"Data\"},\"tracegroupgap\":0},\"margin\":{\"t\":60},\"barmode\":\"group\",\"title\":{\"text\":\"Real vs. Synthetic Data for column 'credit_history'\"},\"plot_bgcolor\":\"#F5F5F8\"},                        {\"responsive\": true}                    ).then(function(){\n",
              "                            \n",
              "var gd = document.getElementById('a8dd0eb4-89c4-4bdc-82b0-fba7534d133d');\n",
              "var x = new MutationObserver(function (mutations, observer) {{\n",
              "        var display = window.getComputedStyle(gd).display;\n",
              "        if (!display || display === 'none') {{\n",
              "            console.log([gd, 'removed!']);\n",
              "            Plotly.purge(gd);\n",
              "            observer.disconnect();\n",
              "        }}\n",
              "}});\n",
              "\n",
              "// Listen for the removal of the full notebook cells\n",
              "var notebookContainer = gd.closest('#notebook-container');\n",
              "if (notebookContainer) {{\n",
              "    x.observe(notebookContainer, {childList: true});\n",
              "}}\n",
              "\n",
              "// Listen for the clearing of the current output cell\n",
              "var outputEl = gd.closest('.output');\n",
              "if (outputEl) {{\n",
              "    x.observe(outputEl, {childList: true});\n",
              "}}\n",
              "\n",
              "                        })                };                            </script>        </div>\n",
              "</body>\n",
              "</html>"
            ]
          },
          "metadata": {}
        }
      ]
    },
    {
      "cell_type": "markdown",
      "source": [
        "# **Improvement and Conclusions**"
      ],
      "metadata": {
        "id": "pVd4KthFvT6F"
      }
    },
    {
      "cell_type": "markdown",
      "source": [
        "Apparently, CTGANSynthesizer is the best model for this scenario. When doing data augmentation on a tabular dataset, a balance must be achieved in adding rows to avoid underfitting and overfitting. "
      ],
      "metadata": {
        "id": "kDhv3LvKvZQG"
      }
    },
    {
      "cell_type": "code",
      "source": [
        "def res(x):\n",
        "  synthesizer2.reset_sampling()\n",
        "  synthetic_data = synthesizer2.sample(num_rows=x)\n",
        "\n",
        "  Y_train_aug = synthetic_data['default']\n",
        "  X_train_aug = synthetic_data.drop(columns=\"default\")\n",
        "\n",
        "  clf_logistic_regression.fit(pd.concat([X_train, X_train_aug]), pd.concat([Y_train, Y_train_aug]))\n",
        "  return clf_logistic_regression.score(X_test, Y_test)"
      ],
      "metadata": {
        "id": "cOAVcKVQybmH"
      },
      "execution_count": 37,
      "outputs": []
    },
    {
      "cell_type": "code",
      "source": [
        "x = list(range(1,5000))\n",
        "y = []\n",
        "\n",
        "for id, i in enumerate(x):\n",
        "  y.append(res(x[id]))"
      ],
      "metadata": {
        "id": "m-bLxtxsytrv"
      },
      "execution_count": 52,
      "outputs": []
    },
    {
      "cell_type": "code",
      "source": [
        "plt.plot(x, y, color='red')\n",
        "\n",
        "plt.show()"
      ],
      "metadata": {
        "colab": {
          "base_uri": "https://localhost:8080/",
          "height": 430
        },
        "id": "FNPyEhHb7Z-H",
        "outputId": "564a805d-a15e-4f2c-fc66-d8bef43b1420"
      },
      "execution_count": 53,
      "outputs": [
        {
          "output_type": "display_data",
          "data": {
            "text/plain": [
              "<Figure size 640x480 with 1 Axes>"
            ],
            "image/png": "[encoded data removed]"
          },
          "metadata": {}
        }
      ]
    },
    {
      "cell_type": "code",
      "source": [
        "maximum_val= y[0]\n",
        "for i in range(1, len(y)): \n",
        "    if (y[i] > maximum_val):\n",
        "        maximum_val = y[i]\n",
        "print(\"Maximum Index position: \",y.index(maximum_val))"
      ],
      "metadata": {
        "colab": {
          "base_uri": "https://localhost:8080/"
        },
        "id": "INeWMa4qF_xr",
        "outputId": "35985e29-494f-433c-82b5-e70693ac3868"
      },
      "execution_count": 64,
      "outputs": [
        {
          "output_type": "stream",
          "name": "stdout",
          "text": [
            "Maximum Index position:  285\n"
          ]
        }
      ]
    },
    {
      "cell_type": "code",
      "source": [
        "x_max = list(range(250,750))\n",
        "y_max = []\n",
        "\n",
        "for id, i in enumerate(x_max):\n",
        "  y_max.append(res(x[id]))"
      ],
      "metadata": {
        "id": "sjIshNo1HJK1"
      },
      "execution_count": 65,
      "outputs": []
    },
    {
      "cell_type": "code",
      "source": [
        "plt.plot(x_max, y_max, color='red')\n",
        "\n",
        "plt.show()"
      ],
      "metadata": {
        "colab": {
          "base_uri": "https://localhost:8080/",
          "height": 430
        },
        "id": "FUpmpyziHjiO",
        "outputId": "10bd4072-166d-473b-88c3-6caae1ef157a"
      },
      "execution_count": 66,
      "outputs": [
        {
          "output_type": "display_data",
          "data": {
            "text/plain": [
              "<Figure size 640x480 with 1 Axes>"
            ],
            "image/png": "[encoded data removed]"
          },
          "metadata": {}
        }
      ]
    },
    {
      "cell_type": "markdown",
      "source": [
        "We can observe several peaks that reach or exceed 0.8 and some that reach 0.81, which is an interesting improvement in accuracy.\n",
        "\n",
        "As we have calculated above, the first time the maximum value is reached is with 286 new rows."
      ],
      "metadata": {
        "id": "c8LFAI6XCO3L"
      }
    },
    {
      "cell_type": "code",
      "source": [
        "res(286)"
      ],
      "metadata": {
        "colab": {
          "base_uri": "https://localhost:8080/"
        },
        "id": "LQ0PC1gYuETo",
        "outputId": "8731a6bb-3c1d-464c-ddec-84bf8f196ba4"
      },
      "execution_count": 69,
      "outputs": [
        {
          "output_type": "execute_result",
          "data": {
            "text/plain": [
              "0.81"
            ]
          },
          "metadata": {},
          "execution_count": 69
        }
      ]
    },
    {
      "cell_type": "markdown",
      "source": [
        "We have managed to improve from 0.785 to 0.81 using the GAN-based synthesizer. Perhaps a method or combination of methods can be found to improve this result even further."
      ],
      "metadata": {
        "id": "bydLGDBtLD8i"
      }
    }
  ]
}